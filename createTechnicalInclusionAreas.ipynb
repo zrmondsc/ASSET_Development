{
 "cells": [
  {
   "cell_type": "markdown",
   "metadata": {},
   "source": [
    "### Create Technical Inclusion Areas, A raster based approach.\n",
    "In this notebook, we create technical inclusion areas for utility scale solar or wind installations. The corresponding environmental exclusion layer and technical threshold raster layers will later be masked from this layer in order to generate the final SL1 Inclusion Area layers and subsequent area assessments. \n",
    "\n",
    "Make sure all inputs in the selected input geodatabase have the same projection as the template raster *prior* to running this script.  "
   ]
  },
  {
   "cell_type": "code",
   "execution_count": 1,
   "metadata": {},
   "outputs": [],
   "source": [
    "import arcpy\n",
    "import os\n",
    "from arcpy import env\n",
    "from arcpy.sa import *"
   ]
  },
  {
   "cell_type": "markdown",
   "metadata": {},
   "source": [
    "#### Set input and output paths, set environmental variables for raster analyses"
   ]
  },
  {
   "cell_type": "code",
   "execution_count": 13,
   "metadata": {},
   "outputs": [],
   "source": [
    "# set input and output folder\n",
    "mainInputFolder = \"C:\\\\Users\\\\Zachary\\\\ASSET\\\\supplyCurve\\\\analysis\\\\data\"  # enter path to input folder\n",
    "mainOutputFolder = \"C:\\\\Users\\\\Zachary\\\\ASSET\\\\supplyCurve\\\\analysis\\\\data\\\\\"  # enter path to output folder\n",
    "\n",
    "# set path to input file geodatabase\n",
    "input_gdb = os.path.join(mainInputFolder, \"technoExclusionWind.gdb\")\n",
    " \n",
    "# create folder for results\n",
    "results_folder = os.path.join(mainOutputFolder, \"technicalInclusionAreas\")\n",
    "\n",
    "# sets environment workspace to input_gdb\n",
    "arcpy.env.workspace = input_gdb\n",
    "\n",
    "# set path to scratch folder\n",
    "scratch_folder = os.path.join(mainOutputFolder, \"scratch\")\n",
    "\n",
    "# set path to remap tables\n",
    "remap_table_gdb = os.path.join(mainInputFolder, \"remapWind.gdb\") # enter path to remap table geodatabase"
   ]
  },
  {
   "cell_type": "code",
   "execution_count": 3,
   "metadata": {},
   "outputs": [],
   "source": [
    "# set path to template raster\n",
    "templateRaster = os.path.join(mainInputFolder, \"technoExclusionWindRasters\\\\SRTM_250m_proj_cl.tif\") ##^^ enter path to DEM data"
   ]
  },
  {
   "cell_type": "code",
   "execution_count": 4,
   "metadata": {},
   "outputs": [],
   "source": [
    "# set environments for raster analyses\n",
    "arcpy.env.snapRaster = templateRaster\n",
    "arcpy.env.extent = templateRaster\n",
    "arcpy.env.mask = templateRaster\n",
    "arcpy.env.cellSize = templateRaster"
   ]
  },
  {
   "cell_type": "code",
   "execution_count": 5,
   "metadata": {},
   "outputs": [
    {
     "data": {
      "text/plain": [
       "'C:\\\\Users\\\\Zachary\\\\ASSET\\\\supplyCurve\\\\analysis\\\\data\\\\technoExclusionWind.gdb'"
      ]
     },
     "execution_count": 5,
     "metadata": {},
     "output_type": "execute_result"
    }
   ],
   "source": [
    "env.workspace"
   ]
  },
  {
   "cell_type": "markdown",
   "metadata": {},
   "source": [
    "#### Define useful functions"
   ]
  },
  {
   "cell_type": "code",
   "execution_count": 6,
   "metadata": {},
   "outputs": [],
   "source": [
    "# Function to perform Euclidean distance and reclassification\n",
    "def euclidean_reclassify(feature_class, remap_table):\n",
    "    \n",
    "    # sets scratchworkspace to scratch.gdb\n",
    "    arcpy.env.scratchWorkspace = scratch_folder \n",
    "\n",
    "    # check if scratch folder exists, if not create it\n",
    "    if not os.path.exists(arcpy.env.scratchWorkspace): \n",
    "        os.makedirs(arcpy.env.scratchWorkspace)   \n",
    "\n",
    "    # Create the euclidean raster name\n",
    "    euclidean_raster_name = os.path.splitext(feature_class)[0] + \"_euclidean.tif\" \n",
    "\n",
    "    # Create Euclidean distance raster path\n",
    "    euclidean_raster = os.path.join(scratch_folder, euclidean_raster_name)\n",
    "\n",
    "    # Create the reclassified raster path\n",
    "    reclassified_raster_name = os.path.splitext(feature_class)[0] + \"_reclass.tif\"\n",
    "\n",
    "    # Create the reclassified raster path\n",
    "    reclassified_raster_path = os.path.join(scratch_folder, reclassified_raster_name)\n",
    "\n",
    "    # Get the remap table path\n",
    "    remap_table_path = os.path.join(remap_table_gdb, remap_table)\n",
    "\n",
    "    # Parse the geodatabase table and create a remap object\n",
    "    remap_ranges = []\n",
    "    with arcpy.da.SearchCursor(remap_table_path, [\"FromValue\", \"ToValue\", \"OutputValue\"]) as cursor:\n",
    "        for row in cursor:\n",
    "            remap_ranges.append(row)\n",
    "\n",
    "    # Create a RemapRange object\n",
    "    remap = arcpy.sa.RemapRange(remap_ranges)\n",
    "\n",
    "    # Get Euclidean distance raster\n",
    "    arcpy.gp.EucDistance_sa(feature_class, euclidean_raster, \"\")\n",
    "\n",
    "    # Reclassify euclidean distance raster\n",
    "    reclassified_raster = Reclassify(in_raster = euclidean_raster, reclass_field = \"VALUE\", remap = remap, missing_values = \"DATA\")\n",
    "    reclassified_raster.save(reclassified_raster_path)"
   ]
  },
  {
   "cell_type": "code",
   "execution_count": 7,
   "metadata": {},
   "outputs": [],
   "source": [
    "# grab all feature classes from a folder or geodatabase\n",
    "def get_feature_classes(workspace):\n",
    "    # Get the current workspace\n",
    "    previous_workspace = arcpy.env.workspace\n",
    "\n",
    "    try:\n",
    "        # Set the new workspace\n",
    "        arcpy.env.workspace = workspace\n",
    "\n",
    "        # Get a list of all feature classes in the workspace\n",
    "        feature_classes = arcpy.ListFeatureClasses()\n",
    "\n",
    "        # Return the list of feature classes\n",
    "        return feature_classes\n",
    "\n",
    "    finally:\n",
    "        # Reset the workspace to the previous workspace\n",
    "        arcpy.env.workspace = previous_workspace"
   ]
  },
  {
   "cell_type": "code",
   "execution_count": 8,
   "metadata": {},
   "outputs": [],
   "source": [
    "# grab all rasters from a given folder folder or geodatabase\n",
    "def get_rasters(workspace):\n",
    "    # Get the current workspace\n",
    "    previous_workspace = arcpy.env.workspace\n",
    "\n",
    "    try:\n",
    "        # Set the new workspace\n",
    "        arcpy.env.workspace = workspace\n",
    "        \n",
    "        # define wildcard parameter\n",
    "        wildCard = \"*reclass.tif\" # alter according to your naming conventions\n",
    "\n",
    "        # Get a list of all feature classes in the workspace\n",
    "        rasters = arcpy.ListRasters(wildCard)\n",
    "\n",
    "        # Return the list of feature classes\n",
    "        return rasters\n",
    "\n",
    "    finally:\n",
    "        # Reset the workspace to the previous workspace\n",
    "        arcpy.env.workspace = previous_workspace"
   ]
  },
  {
   "cell_type": "code",
   "execution_count": 22,
   "metadata": {},
   "outputs": [],
   "source": [
    "def convert_to_one_bit(input_raster, output_raster):\n",
    "    try:\n",
    "        # Create a raster object from the input path\n",
    "        input_raster_obj = arcpy.sa.Raster(input_raster)\n",
    "\n",
    "        # Reclassify the input raster to binary (one-bit) format\n",
    "        binary_raster = arcpy.sa.Con(input_raster_obj > 0, 1)\n",
    "\n",
    "        # Set the pixel type of the output raster to 1_BIT\n",
    "        arcpy.management.CopyRaster(binary_raster, output_raster, pixel_type=\"1_BIT\")\n",
    "\n",
    "        print(f\"Conversion to one-bit raster completed successfully. Result saved to {output_raster}\")\n",
    "\n",
    "    except arcpy.ExecuteError:\n",
    "        print(arcpy.GetMessages())\n",
    "    except Exception as e:\n",
    "        print(f\"An error occurred: {str(e)}\")"
   ]
  },
  {
   "cell_type": "markdown",
   "metadata": {},
   "source": [
    "#### Generate reclassified euclidean distance rasters"
   ]
  },
  {
   "cell_type": "code",
   "execution_count": 10,
   "metadata": {},
   "outputs": [
    {
     "data": {
      "text/plain": [
       "['airfields',\n",
       " 'airports',\n",
       " 'cities',\n",
       " 'lakes',\n",
       " 'military',\n",
       " 'mines',\n",
       " 'railroads',\n",
       " 'rivers']"
      ]
     },
     "execution_count": 10,
     "metadata": {},
     "output_type": "execute_result"
    }
   ],
   "source": [
    "# get feature classes for euclidean distance calculation\n",
    "feature_classes = get_feature_classes(input_gdb)\n",
    "feature_classes"
   ]
  },
  {
   "cell_type": "code",
   "execution_count": 12,
   "metadata": {},
   "outputs": [],
   "source": [
    "# Iterate through the feature classes and perform Euclidean distance and reclassification\n",
    "for feature_class in feature_classes:\n",
    "    # Specify the remap table corresponding to the feature class\n",
    "    remap_table = feature_class + \"_remap_table\"  # Adjust this based on your remap table naming convention\n",
    "\n",
    "    # Call the function to perform Euclidean distance and reclassification\n",
    "    euclidean_reclassify(feature_class, remap_table)"
   ]
  },
  {
   "cell_type": "markdown",
   "metadata": {},
   "source": [
    "#### Build and execute raster calculator expression to generate technical inclusion layer"
   ]
  },
  {
   "cell_type": "code",
   "execution_count": 11,
   "metadata": {},
   "outputs": [
    {
     "data": {
      "text/plain": [
       "['airfields_reclass.tif',\n",
       " 'airports_reclass.tif',\n",
       " 'cities_reclass.tif',\n",
       " 'lakes_reclass.tif',\n",
       " 'military_reclass.tif',\n",
       " 'mines_reclass.tif',\n",
       " 'railroads_reclass.tif',\n",
       " 'rivers_reclass.tif']"
      ]
     },
     "execution_count": 11,
     "metadata": {},
     "output_type": "execute_result"
    }
   ],
   "source": [
    "# Get a list of reclassified rasters in the scratch folder\n",
    "reclassified_rasters = get_rasters(scratch_folder)\n",
    "reclassified_rasters"
   ]
  },
  {
   "cell_type": "code",
   "execution_count": 12,
   "metadata": {},
   "outputs": [
    {
     "data": {
      "text/plain": [
       "'Con(arcpy.sa.EqualTo(\"airfields_reclass.tif\", 1) & arcpy.sa.EqualTo(\"airports_reclass.tif\", 1) & arcpy.sa.EqualTo(\"cities_reclass.tif\", 1) & arcpy.sa.EqualTo(\"lakes_reclass.tif\", 1) & arcpy.sa.EqualTo(\"military_reclass.tif\", 1) & arcpy.sa.EqualTo(\"mines_reclass.tif\", 1) & arcpy.sa.EqualTo(\"railroads_reclass.tif\", 1) & arcpy.sa.EqualTo(\"rivers_reclass.tif\", 1), 1)'"
      ]
     },
     "execution_count": 12,
     "metadata": {},
     "output_type": "execute_result"
    }
   ],
   "source": [
    "# Build the raster calculator expression to calculate the final output raster\n",
    "expression = \"Con({condition}, 1)\".format(\n",
    "    condition=\" & \".join([f'arcpy.sa.EqualTo(\"{raster}\", 1)' for raster in reclassified_rasters])\n",
    ")\n",
    "expression"
   ]
  },
  {
   "cell_type": "code",
   "execution_count": 14,
   "metadata": {},
   "outputs": [],
   "source": [
    "# Set the output path for the final raster\n",
    "final_raster = os.path.join(results_folder, \"technicalInclusionArea_Wind.tif\")\n",
    "final_raster_binary = os.path.join(results_folder, \"test_binary.tif\")"
   ]
  },
  {
   "cell_type": "code",
   "execution_count": 15,
   "metadata": {},
   "outputs": [],
   "source": [
    "arcpy.env.workspace = scratch_folder"
   ]
  },
  {
   "cell_type": "code",
   "execution_count": 18,
   "metadata": {},
   "outputs": [
    {
     "data": {
      "text/html": [
       "<div class='gpresult'><h2>Messages</h2><div id='messages' data-messages='[\"Start Time: Thursday, July 13, 2023 4:41:34 PM\",\"Con(arcpy.sa.EqualTo(Raster(r\\\"airfields_reclass.tif\\\"), 1) & arcpy.sa.EqualTo(Raster(r\\\"airports_reclass.tif\\\"), 1) & arcpy.sa.EqualTo(Raster(r\\\"cities_reclass.tif\\\"), 1) & arcpy.sa.EqualTo(Raster(r\\\"lakes_reclass.tif\\\"), 1) & arcpy.sa.EqualTo(Raster(r\\\"military_reclass.tif\\\"), 1) & arcpy.sa.EqualTo(Raster(r\\\"mines_reclass.tif\\\"), 1) & arcpy.sa.EqualTo(Raster(r\\\"railroads_reclass.tif\\\"), 1) & arcpy.sa.EqualTo(Raster(r\\\"rivers_reclass.tif\\\"), 1), 1)\",\"Succeeded at Thursday, July 13, 2023 4:42:34 PM (Elapsed Time: 59.52 seconds)\"]' data-show='true'><div id = 'default' /></div></div>"
      ],
      "text/plain": [
       "<geoprocessing server result object at 0x257774c26c0>"
      ]
     },
     "execution_count": 18,
     "metadata": {},
     "output_type": "execute_result"
    }
   ],
   "source": [
    "# Perform the raster calculator operation\n",
    "arcpy.gp.RasterCalculator_sa(expression, final_raster)"
   ]
  },
  {
   "cell_type": "code",
   "execution_count": 23,
   "metadata": {},
   "outputs": [
    {
     "name": "stdout",
     "output_type": "stream",
     "text": [
      "Conversion to one-bit raster completed successfully. Result saved to C:\\Users\\Zachary\\ASSET\\supplyCurve\\analysis\\data\\technicalInclusionAreas\\test_binary.tif\n"
     ]
    }
   ],
   "source": [
    "convert_to_one_bit(final_raster, final_raster_binary)"
   ]
  }
 ],
 "metadata": {
  "kernelspec": {
   "display_name": "Python 3",
   "language": "python",
   "name": "python3"
  },
  "language_info": {
   "codemirror_mode": {
    "name": "ipython",
    "version": 3
   },
   "file_extension": ".py",
   "mimetype": "text/x-python",
   "name": "python",
   "nbconvert_exporter": "python",
   "pygments_lexer": "ipython3",
   "version": "3.7.10"
  },
  "orig_nbformat": 4
 },
 "nbformat": 4,
 "nbformat_minor": 2
}
