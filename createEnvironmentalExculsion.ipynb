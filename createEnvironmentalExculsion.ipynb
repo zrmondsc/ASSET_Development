{
 "cells": [
  {
   "cell_type": "markdown",
   "metadata": {},
   "source": [
    "### Create Environmental Exclusion Layer\n",
    "In this notebook we create an environmental exclusion layer for utility scale solar or onshore wind installations in the CONUS. We will use this layer to mask our 'Techno Economic Inclusion Layer' to produce the SL1 Inclusion Area Layer and subsequent area assessments. "
   ]
  },
  {
   "cell_type": "code",
   "execution_count": 17,
   "metadata": {},
   "outputs": [],
   "source": [
    "import arcpy\n",
    "import os\n",
    "from arcpy import env\n",
    "from arcpy.sa import *"
   ]
  },
  {
   "cell_type": "markdown",
   "metadata": {},
   "source": [
    "#### Define some useful functions"
   ]
  },
  {
   "cell_type": "code",
   "execution_count": 18,
   "metadata": {},
   "outputs": [],
   "source": [
    "def get_feature_classes(workspace):\n",
    "    '''\n",
    "    This function grabs all feature classes from a folder or geodatabase\n",
    "    '''\n",
    "    # Get the current workspace\n",
    "    previous_workspace = arcpy.env.workspace\n",
    "\n",
    "    try:\n",
    "        # Set the new workspace\n",
    "        arcpy.env.workspace = workspace\n",
    "\n",
    "        # Get a list of all feature classes in the workspace\n",
    "        feature_classes = arcpy.ListFeatureClasses()\n",
    "        feature_classes = [os.path.join(arcpy.env.workspace, r) for r in feature_classes]\n",
    "\n",
    "        # Return the list of feature classes\n",
    "        return feature_classes\n",
    "\n",
    "    finally:\n",
    "        # Reset the workspace to the previous workspace\n",
    "        arcpy.env.workspace = previous_workspace"
   ]
  },
  {
   "cell_type": "code",
   "execution_count": 37,
   "metadata": {},
   "outputs": [],
   "source": [
    "# grab all rasters from a folder or geodatabase\n",
    "def get_rasters(workspace):\n",
    "    '''\n",
    "    This function grabs all rasters from a folder or geodatabase\n",
    "    '''\n",
    "    # Get the current workspace\n",
    "    previous_workspace = arcpy.env.workspace\n",
    "\n",
    "    try:\n",
    "        # Set the new workspace\n",
    "        arcpy.env.workspace = workspace\n",
    "\n",
    "        # Get a list of all feature classes in the workspace\n",
    "        raster_names = arcpy.ListRasters()\n",
    "        rasters = [os.path.join(arcpy.env.workspace, r) for r in raster_names]\n",
    "\n",
    "        # Return the list of rasters\n",
    "        return rasters\n",
    "\n",
    "    finally:\n",
    "        # Reset the workspace to the previous workspace\n",
    "        arcpy.env.workspace = previous_workspace"
   ]
  },
  {
   "cell_type": "code",
   "execution_count": 19,
   "metadata": {},
   "outputs": [],
   "source": [
    "def get_datum_transformation(source_spatial_reference, target_spatial_reference):\n",
    "    '''\n",
    "    This function retrieves the most appropriate datum transformation for converting spatial data\n",
    "    from the source spatial reference to the target spatial reference.\n",
    "    '''\n",
    "    \n",
    "    transformations = arcpy.ListTransformations(source_spatial_reference, target_spatial_reference)\n",
    "    if transformations:\n",
    "        return transformations[0]  # Use the first transformation found\n",
    "    else:\n",
    "        return None  # No appropriate transformation found"
   ]
  },
  {
   "cell_type": "code",
   "execution_count": 20,
   "metadata": {},
   "outputs": [],
   "source": [
    "def reproject_feature_class(input_fc, template_sr):\n",
    "    '''\n",
    "    Reprojects a feature class to match the coordinate system of a template spatial reference.\n",
    "\n",
    "    This function checks if the spatial reference of the input feature class is different from\n",
    "    the template spatial reference. If different, it reprojects the input feature class to\n",
    "    match the template's coordinate system, using the best available datum transformation.\n",
    "    '''\n",
    "    # Get the spatial reference of the input fc\n",
    "    input_fc_sr = arcpy.Describe(input_fc).spatialReference\n",
    "\n",
    "    # Check if the input fc spatial reference is different from the template spatial reference\n",
    "    if input_fc_sr.exportToString() != template_sr.exportToString():\n",
    "        print(f\"Reprojecting {input_fc} to match the template raster's coordinate system...\")\n",
    "        input_fc_name = os.path.basename(input_fc)\n",
    "        reprojected_fc = os.path.join(reprojected_geodatabase, f\"{input_fc_name}_reprojected\")\n",
    "\n",
    "        # Get best datum transformation\n",
    "        datum_transform = get_datum_transformation(input_fc_sr, template_sr)\n",
    "\n",
    "        # Reproject feature class with appropriate datum transformation\n",
    "        arcpy.management.Project(input_fc, reprojected_fc, template_sr, datum_transform)\n",
    "\n",
    "        # Return the reprojected feature class path\n",
    "        return reprojected_fc\n",
    "\n",
    "    # Return the input feature class path to indicate it does not require reprojection\n",
    "    return input_fc"
   ]
  },
  {
   "cell_type": "code",
   "execution_count": 21,
   "metadata": {},
   "outputs": [],
   "source": [
    "def add_occupancy_field(feature_class):\n",
    "    '''\n",
    "    Adds an 'occupancy' field to a feature class if it doesn't already exist and sets the value to 1 for all records.\n",
    "\n",
    "    This function checks if the 'occupancy' field already exists in the specified feature class.\n",
    "    If the field doesn't exist, it adds the 'occupancy' field and sets the value to 1 for all records.\n",
    "    '''\n",
    "    # Check if the 'occupancy' field already exists\n",
    "    fields = arcpy.ListFields(feature_class, \"occupancy\")\n",
    "\n",
    "    if not fields:\n",
    "         # Add 'occupancy' field to the feature class if it doesn't exist\n",
    "        arcpy.management.AddField(feature_class, \"occupancy\", \"SHORT\")\n",
    "\n",
    "        # Set the 'occupancy' field value to 1 for all records\n",
    "        with arcpy.da.UpdateCursor(feature_class, \"occupancy\") as cursor:\n",
    "            for row in cursor:\n",
    "                row[0] = 1\n",
    "                cursor.updateRow(row)\n",
    "        print(f\"'occupancy' field added and set to 1 in {os.path.basename(feature_class)}\")\n",
    "    else:\n",
    "        print(f\"'occupancy' field already exists in {os.path.basename(feature_class)}\")"
   ]
  },
  {
   "cell_type": "markdown",
   "metadata": {},
   "source": [
    "#### Set input and output paths, set environmental variables for raster analysis"
   ]
  },
  {
   "cell_type": "code",
   "execution_count": 22,
   "metadata": {},
   "outputs": [],
   "source": [
    "# set the path to the main input folder\n",
    "mainInputFolder = \"C:\\\\Users\\\\Zachary\\\\ASSET\\\\supplyCurve\\\\analysis\\\\data\""
   ]
  },
  {
   "cell_type": "code",
   "execution_count": 23,
   "metadata": {},
   "outputs": [],
   "source": [
    "# Set the workspace for the geodatabase containing the input feature classes\n",
    "arcpy.env.workspace = os.path.join(mainInputFolder, \"environmentalExclusionSolar.gdb\")"
   ]
  },
  {
   "cell_type": "code",
   "execution_count": 24,
   "metadata": {},
   "outputs": [
    {
     "name": "stdout",
     "output_type": "stream",
     "text": [
      "File geodatabase 'environmentalExclusionSolarReprojected.gdb.gdb' created successfully.\n"
     ]
    }
   ],
   "source": [
    "# set the path to the geodatabase containing reprojected feature classes\n",
    "reprojected_geodatabase_name = \"environmentalExclusionSolarReprojected.gdb\"\n",
    "reprojected_geodatabase = os.path.join(mainInputFolder, reprojected_geodatabase_name)\n",
    "\n",
    "if not arcpy.Exists(reprojected_geodatabase):\n",
    "    try:\n",
    "        arcpy.management.CreateFileGDB(mainInputFolder, reprojected_geodatabase_name)\n",
    "        print(f\"File geodatabase '{reprojected_geodatabase_name}.gdb' created successfully.\")\n",
    "    except:\n",
    "        print(f\"Error creating file geodatabase: {Exception}\")"
   ]
  },
  {
   "cell_type": "code",
   "execution_count": 25,
   "metadata": {},
   "outputs": [],
   "source": [
    "# set path to output folder\n",
    "scratch_workspace = os.path.join(mainInputFolder, \"environmentalExclusionRasters\\\\SolarScratch\")\n",
    "\n",
    "if not os.path.exists(scratch_workspace):\n",
    "    os.makedirs(scratch_workspace)"
   ]
  },
  {
   "cell_type": "code",
   "execution_count": 40,
   "metadata": {},
   "outputs": [],
   "source": [
    "# set path to mosaic output folder\n",
    "mosaic_workspace = os.path.join(mainInputFolder, \"environmentalExclusionRasters\\\\mosaicScratch\")\n",
    "\n",
    "if not os.path.exists(mosaic_workspace):\n",
    "    os.makedirs(mosaic_workspace)"
   ]
  },
  {
   "cell_type": "code",
   "execution_count": 26,
   "metadata": {},
   "outputs": [],
   "source": [
    "# set the path to the template raster\n",
    "template_raster = \"C:\\\\Users\\\\Zachary\\\\ASSET\\\\supplyCurve\\\\analysis\\\\data\\\\SRTM_250m_proj_cl.tif\""
   ]
  },
  {
   "cell_type": "code",
   "execution_count": 27,
   "metadata": {},
   "outputs": [],
   "source": [
    "# set environments for raster analyses\n",
    "arcpy.env.snapRaster = template_raster\n",
    "arcpy.env.extent = template_raster\n",
    "arcpy.env.mask = template_raster\n",
    "arcpy.env.cellSize = template_raster"
   ]
  },
  {
   "cell_type": "markdown",
   "metadata": {},
   "source": [
    "#### Reproject input feature classes to the same spatial reference as the template raster"
   ]
  },
  {
   "cell_type": "code",
   "execution_count": null,
   "metadata": {},
   "outputs": [],
   "source": [
    "# Get the spatial reference of the template raster\n",
    "template_srid = arcpy.Describe(template_raster).spatialReference\n",
    "template_srid"
   ]
  },
  {
   "cell_type": "code",
   "execution_count": null,
   "metadata": {},
   "outputs": [],
   "source": [
    "# get the list of feature classes in the geodatabase\n",
    "feature_classes = get_feature_classes(arcpy.env.workspace)\n",
    "feature_classes"
   ]
  },
  {
   "cell_type": "code",
   "execution_count": null,
   "metadata": {},
   "outputs": [],
   "source": [
    "print(arcpy.Describe(feature_classes[0]).spatialReference.exportToString())"
   ]
  },
  {
   "cell_type": "code",
   "execution_count": null,
   "metadata": {},
   "outputs": [],
   "source": [
    "print(arcpy.Describe(template_raster).spatialReference.exportToString())"
   ]
  },
  {
   "cell_type": "code",
   "execution_count": null,
   "metadata": {},
   "outputs": [],
   "source": [
    "for feature_class in feature_classes:\n",
    "    reprojected_fc = reproject_feature_class(feature_class, template_srid)\n",
    "\n",
    "    if reprojected_fc is None:\n",
    "        copied_fc = os.path.join(reprojected_geodatabase, os.path.basename(feature_class))\n",
    "        arcpy.management.CopyFeatures(feature_class, copied_fc)\n",
    "\n",
    "print(\"All feature classes have been processed and saved to the output geodatabase.\")\n"
   ]
  },
  {
   "cell_type": "markdown",
   "metadata": {},
   "source": [
    "#### Convert reprojected feature classes to rasters"
   ]
  },
  {
   "cell_type": "code",
   "execution_count": 33,
   "metadata": {},
   "outputs": [],
   "source": [
    "# Get all reprojected feature classes\n",
    "feature_classes  = get_feature_classes(reprojected_geodatabase)\n",
    "feature_classes"
   ]
  },
  {
   "cell_type": "code",
   "execution_count": null,
   "metadata": {},
   "outputs": [],
   "source": [
    "# Add occupancy field if doesn't exist\n",
    "for feature_class in feature_classes:\n",
    "    add_occupancy_field(feature_class)"
   ]
  },
  {
   "cell_type": "code",
   "execution_count": 36,
   "metadata": {},
   "outputs": [],
   "source": [
    "for feature_class in feature_classes:\n",
    "    # get name of feature class\n",
    "    feature_class_name = os.path.basename(feature_class)\n",
    "\n",
    "    # convert each feature class to a raster and save to raster output folder\n",
    "    output_raster = os.path.join(scratch_workspace, f\"{feature_class_name}.tif\")\n",
    "    arcpy.conversion.FeatureToRaster(feature_class, \"occupancy\", output_raster)\n",
    "\n",
    "    print(f\"Feature class {feature_class_name} converted to raster and saved as {feature_class_name}.tif\")"
   ]
  },
  {
   "cell_type": "markdown",
   "metadata": {},
   "source": [
    "#### Mosaic the rasters to a new raster"
   ]
  },
  {
   "cell_type": "code",
   "execution_count": null,
   "metadata": {},
   "outputs": [],
   "source": [
    "# List the rasters in the raster folder\n",
    "rasters = get_rasters(scratch_workspace)\n",
    "rasters"
   ]
  },
  {
   "cell_type": "code",
   "execution_count": null,
   "metadata": {},
   "outputs": [],
   "source": [
    "# Mosaic all the rasters into one raster\n",
    "mosaic_name = \"environementalExclusionSolar_SL1_ZRM.tif\"\n",
    "arcpy.management.MosaicToNewRaster(input_rasters = rasters, \n",
    "                                   output_location = mosaic_workspace, \n",
    "                                   raster_dataset_name_with_extension=mosaic_name,\n",
    "                                   number_of_bands=1,\n",
    "                                   mosaic_method='FIRST')"
   ]
  },
  {
   "cell_type": "code",
   "execution_count": null,
   "metadata": {},
   "outputs": [],
   "source": [
    "# Clean up scratch workspace\n",
    "try:\n",
    "    arcpy.Delete_management(scratch_workspace)\n",
    "except Exception as e:\n",
    "         print(f\"An error occurred while cleaning up: {str(e)}\")"
   ]
  }
 ],
 "metadata": {
  "kernelspec": {
   "display_name": "Python 3",
   "language": "python",
   "name": "python3"
  },
  "language_info": {
   "codemirror_mode": {
    "name": "ipython",
    "version": 3
   },
   "file_extension": ".py",
   "mimetype": "text/x-python",
   "name": "python",
   "nbconvert_exporter": "python",
   "pygments_lexer": "ipython3",
   "version": "3.7.10"
  },
  "orig_nbformat": 4
 },
 "nbformat": 4,
 "nbformat_minor": 2
}
