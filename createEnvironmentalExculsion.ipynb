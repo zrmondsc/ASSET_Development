{
 "cells": [
  {
   "cell_type": "markdown",
   "metadata": {},
   "source": [
    "### Create Environmental Exclusion Layer\n",
    "In this notebook we create an environmental exclusion layer for utility scale solar or onshore wind installations in the CONUS. We will use this layer to mask our 'Techno Economic Inclusion Layer' to produce the SL1 Inclusion Area Layer and subsequent area assessments. "
   ]
  },
  {
   "cell_type": "code",
   "execution_count": 17,
   "metadata": {},
   "outputs": [],
   "source": [
    "import arcpy\n",
    "import os\n",
    "from arcpy import env\n",
    "from arcpy.sa import *"
   ]
  },
  {
   "cell_type": "markdown",
   "metadata": {},
   "source": [
    "#### Define some useful functions"
   ]
  },
  {
   "cell_type": "code",
   "execution_count": 18,
   "metadata": {},
   "outputs": [],
   "source": [
    "# grab all feature classes from a folder or geodatabase\n",
    "def get_feature_classes(workspace):\n",
    "    # Get the current workspace\n",
    "    previous_workspace = arcpy.env.workspace\n",
    "\n",
    "    try:\n",
    "        # Set the new workspace\n",
    "        arcpy.env.workspace = workspace\n",
    "\n",
    "        # Get a list of all feature classes in the workspace\n",
    "        feature_classes = arcpy.ListFeatureClasses()\n",
    "        feature_classes = [os.path.join(arcpy.env.workspace, r) for r in feature_classes]\n",
    "\n",
    "        # Return the list of feature classes\n",
    "        return feature_classes\n",
    "\n",
    "    finally:\n",
    "        # Reset the workspace to the previous workspace\n",
    "        arcpy.env.workspace = previous_workspace"
   ]
  },
  {
   "cell_type": "code",
   "execution_count": 37,
   "metadata": {},
   "outputs": [],
   "source": [
    "# grab all rasters from a folder or geodatabase\n",
    "def get_rasters(workspace):\n",
    "    # Get the current workspace\n",
    "    previous_workspace = arcpy.env.workspace\n",
    "\n",
    "    try:\n",
    "        # Set the new workspace\n",
    "        arcpy.env.workspace = workspace\n",
    "\n",
    "        # Get a list of all feature classes in the workspace\n",
    "        raster_names = arcpy.ListRasters()\n",
    "        rasters = [os.path.join(arcpy.env.workspace, r) for r in raster_names]\n",
    "\n",
    "        # Return the list of rasters\n",
    "        return rasters\n",
    "\n",
    "    finally:\n",
    "        # Reset the workspace to the previous workspace\n",
    "        arcpy.env.workspace = previous_workspace"
   ]
  },
  {
   "cell_type": "code",
   "execution_count": 19,
   "metadata": {},
   "outputs": [],
   "source": [
    "def get_datum_transformation(source_spatial_reference, target_spatial_reference):\n",
    "    transformations = arcpy.ListTransformations(source_spatial_reference, target_spatial_reference)\n",
    "    if transformations:\n",
    "        return transformations[0]  # Use the first transformation found\n",
    "    else:\n",
    "        return None  # No appropriate transformation found"
   ]
  },
  {
   "cell_type": "code",
   "execution_count": 20,
   "metadata": {},
   "outputs": [],
   "source": [
    "def reproject_feature_class(input_fc, template_sr):\n",
    "    # Get the spatial reference of the input fc\n",
    "    input_fc_sr = arcpy.Describe(input_fc).spatialReference\n",
    "\n",
    "    # Check if the input fc spatial reference is different from the template spatial reference\n",
    "    if input_fc_sr.exportToString() != template_sr.exportToString():\n",
    "        print(f\"Reprojecting {input_fc} to match the template raster's coordinate system...\")\n",
    "        input_fc_name = os.path.basename(input_fc)\n",
    "        reprojected_fc = os.path.join(reprojected_geodatabase, f\"{input_fc_name}_reprojected\")\n",
    "\n",
    "        # Get best datum transformation\n",
    "        datum_transform = get_datum_transformation(input_fc_sr, template_sr)\n",
    "\n",
    "        # Reproject feature class with appropriate datum transformation\n",
    "        arcpy.management.Project(input_fc, reprojected_fc, template_sr, datum_transform)\n",
    "\n",
    "        # Return the reprojected feature class path\n",
    "        return reprojected_fc\n",
    "\n",
    "    # Return the input feature class path to indicate it does not require reprojection\n",
    "    return input_fc"
   ]
  },
  {
   "cell_type": "code",
   "execution_count": 21,
   "metadata": {},
   "outputs": [],
   "source": [
    "def add_occupancy_field(feature_class):\n",
    "    # Check if the 'occupancy' field already exists\n",
    "    fields = arcpy.ListFields(feature_class, \"occupancy\")\n",
    "\n",
    "    if not fields:\n",
    "         # Add 'occupancy' field to the feature class if it doesn't exist\n",
    "        arcpy.management.AddField(feature_class, \"occupancy\", \"SHORT\")\n",
    "\n",
    "        # Set the 'occupancy' field value to 1 for all records\n",
    "        with arcpy.da.UpdateCursor(feature_class, \"occupancy\") as cursor:\n",
    "            for row in cursor:\n",
    "                row[0] = 1\n",
    "                cursor.updateRow(row)\n",
    "        print(f\"'occupancy' field added and set to 1 in {os.path.basename(feature_class)}\")\n",
    "    else:\n",
    "        print(f\"'occupancy' field already exists in {os.path.basename(feature_class)}\")"
   ]
  },
  {
   "cell_type": "markdown",
   "metadata": {},
   "source": [
    "#### Set input and output paths, set environmental variables for raster analysis"
   ]
  },
  {
   "cell_type": "code",
   "execution_count": 22,
   "metadata": {},
   "outputs": [],
   "source": [
    "# set the path to the main input folder\n",
    "mainInputFolder = \"C:\\\\Users\\\\Zachary\\\\ASSET\\\\supplyCurve\\\\analysis\\\\data\""
   ]
  },
  {
   "cell_type": "code",
   "execution_count": 23,
   "metadata": {},
   "outputs": [],
   "source": [
    "# Set the workspace for the geodatabase containing the input feature classes\n",
    "arcpy.env.workspace = os.path.join(mainInputFolder, \"environmentalExclusionSolar.gdb\")"
   ]
  },
  {
   "cell_type": "code",
   "execution_count": 24,
   "metadata": {},
   "outputs": [
    {
     "name": "stdout",
     "output_type": "stream",
     "text": [
      "File geodatabase 'environmentalExclusionSolarReprojected.gdb.gdb' created successfully.\n"
     ]
    }
   ],
   "source": [
    "# set the path to the geodatabase containing reprojected feature classes\n",
    "reprojected_geodatabase_name = \"environmentalExclusionSolarReprojected.gdb\"\n",
    "reprojected_geodatabase = os.path.join(mainInputFolder, reprojected_geodatabase_name)\n",
    "\n",
    "if not arcpy.Exists(reprojected_geodatabase):\n",
    "    try:\n",
    "        arcpy.management.CreateFileGDB(mainInputFolder, reprojected_geodatabase_name)\n",
    "        print(f\"File geodatabase '{reprojected_geodatabase_name}.gdb' created successfully.\")\n",
    "    except:\n",
    "        print(f\"Error creating file geodatabase: {Exception}\")"
   ]
  },
  {
   "cell_type": "code",
   "execution_count": 25,
   "metadata": {},
   "outputs": [],
   "source": [
    "# set path to output folder\n",
    "output_workspace = os.path.join(mainInputFolder, \"environmentalExclusionRasters\\\\SolarScratch\")\n",
    "\n",
    "if not os.path.exists(output_workspace):\n",
    "    os.makedirs(output_workspace)"
   ]
  },
  {
   "cell_type": "code",
   "execution_count": 40,
   "metadata": {},
   "outputs": [],
   "source": [
    "# set path to mosaic output folder\n",
    "mosaic_workspace = os.path.join(mainInputFolder, \"environmentalExclusionRasters\\\\mosaicScratch\")\n",
    "\n",
    "if not os.path.exists(mosaic_workspace):\n",
    "    os.makedirs(mosaic_workspace)"
   ]
  },
  {
   "cell_type": "code",
   "execution_count": 26,
   "metadata": {},
   "outputs": [],
   "source": [
    "# set the path to the template raster\n",
    "template_raster = \"C:\\\\Users\\\\Zachary\\\\ASSET\\\\supplyCurve\\\\analysis\\\\data\\\\SRTM_250m_proj_cl.tif\""
   ]
  },
  {
   "cell_type": "code",
   "execution_count": 27,
   "metadata": {},
   "outputs": [],
   "source": [
    "# set environments for raster analyses\n",
    "arcpy.env.snapRaster = template_raster\n",
    "arcpy.env.extent = template_raster\n",
    "arcpy.env.mask = template_raster\n",
    "arcpy.env.cellSize = template_raster"
   ]
  },
  {
   "cell_type": "markdown",
   "metadata": {},
   "source": [
    "#### Reproject input feature classes to the same spatial reference as the template raster"
   ]
  },
  {
   "cell_type": "code",
   "execution_count": 28,
   "metadata": {},
   "outputs": [
    {
     "data": {
      "text/html": [
       "<style>table td#td0  {font-weight: bold}</style><table class=\"notebook\"><colgroup><col style=\"width:45%\"></col><col style=\"width:55%\"></col></colgroup><tr><td id = \"td0\" title=\"name (Projected Coordinate System)\">name (Projected Coordinate System)</td><td title=\"USA_Contiguous_Albers_Equal_Area_Conic_USGS_version\">USA_Contiguous_Albers_Equal_Area_Conic_USGS_version</td></tr><tr><td id = \"td0\" title=\"factoryCode (WKID)\">factoryCode (WKID)</td><td title=\"102039\">102039</td></tr><tr><td id = \"td0\" title=\"linearUnitName (Linear Unit)\">linearUnitName (Linear Unit)</td><td title=\"Meter\">Meter</td></tr></table><div class=\"subtitle\">spatialReference.GCS</div><style>table td#td0  {font-weight: bold}</style><table class=\"notebook\"><colgroup><col style=\"width:45%\"></col><col style=\"width:55%\"></col></colgroup><tr><td id = \"td0\" title=\"name (Geographic Coordinate System)\">name (Geographic Coordinate System)</td><td title=\"GCS_North_American_1983\">GCS_North_American_1983</td></tr><tr><td id = \"td0\" title=\"factoryCode (WKID)\">factoryCode (WKID)</td><td title=\"4269\">4269</td></tr><tr><td id = \"td0\" title=\"angularUnitName (Angular Unit)\">angularUnitName (Angular Unit)</td><td title=\"Degree\">Degree</td></tr><tr><td id = \"td0\" title=\"datumName (Datum)\">datumName (Datum)</td><td title=\"D_North_American_1983\">D_North_American_1983</td></tr></table>"
      ],
      "text/plain": [
       "<geoprocessing spatial reference object at 0x1a474e577b0>"
      ]
     },
     "execution_count": 28,
     "metadata": {},
     "output_type": "execute_result"
    }
   ],
   "source": [
    "# Get the spatial reference of the template raster\n",
    "template_srid = arcpy.Describe(template_raster).spatialReference\n",
    "template_srid"
   ]
  },
  {
   "cell_type": "code",
   "execution_count": 29,
   "metadata": {},
   "outputs": [
    {
     "data": {
      "text/plain": [
       "['C:\\\\Users\\\\Zachary\\\\ASSET\\\\supplyCurve\\\\analysis\\\\data\\\\environmentalExclusionSolar.gdb\\\\BLM_DRECP_NCL',\n",
       " 'C:\\\\Users\\\\Zachary\\\\ASSET\\\\supplyCurve\\\\analysis\\\\data\\\\environmentalExclusionSolar.gdb\\\\BLM_DRECP_SRMA',\n",
       " 'C:\\\\Users\\\\Zachary\\\\ASSET\\\\supplyCurve\\\\analysis\\\\data\\\\environmentalExclusionSolar.gdb\\\\BLM_National_Conservation_Areas',\n",
       " 'C:\\\\Users\\\\Zachary\\\\ASSET\\\\supplyCurve\\\\analysis\\\\data\\\\environmentalExclusionSolar.gdb\\\\BLM_National_Scenic_Trails_Buffer500',\n",
       " 'C:\\\\Users\\\\Zachary\\\\ASSET\\\\supplyCurve\\\\analysis\\\\data\\\\environmentalExclusionSolar.gdb\\\\BLM_Right_Of_Way_Exclusions',\n",
       " 'C:\\\\Users\\\\Zachary\\\\ASSET\\\\supplyCurve\\\\analysis\\\\data\\\\environmentalExclusionSolar.gdb\\\\BLM_Solar_Energy_Program_Exclusions',\n",
       " 'C:\\\\Users\\\\Zachary\\\\ASSET\\\\supplyCurve\\\\analysis\\\\data\\\\environmentalExclusionSolar.gdb\\\\BLM_Visual_Resource_Management_Class_I',\n",
       " 'C:\\\\Users\\\\Zachary\\\\ASSET\\\\supplyCurve\\\\analysis\\\\data\\\\environmentalExclusionSolar.gdb\\\\BLM_Visual_Resource_Management_Class_II',\n",
       " 'C:\\\\Users\\\\Zachary\\\\ASSET\\\\supplyCurve\\\\analysis\\\\data\\\\environmentalExclusionSolar.gdb\\\\Conservation_Mitigation_Bank',\n",
       " 'C:\\\\Users\\\\Zachary\\\\ASSET\\\\supplyCurve\\\\analysis\\\\data\\\\environmentalExclusionSolar.gdb\\\\Historic_Cultural_Area',\n",
       " 'C:\\\\Users\\\\Zachary\\\\ASSET\\\\supplyCurve\\\\analysis\\\\data\\\\environmentalExclusionSolar.gdb\\\\Marine_Protected_Areas',\n",
       " 'C:\\\\Users\\\\Zachary\\\\ASSET\\\\supplyCurve\\\\analysis\\\\data\\\\environmentalExclusionSolar.gdb\\\\National_Conservation_Areas',\n",
       " 'C:\\\\Users\\\\Zachary\\\\ASSET\\\\supplyCurve\\\\analysis\\\\data\\\\environmentalExclusionSolar.gdb\\\\National_Lakeshore_Seashore',\n",
       " 'C:\\\\Users\\\\Zachary\\\\ASSET\\\\supplyCurve\\\\analysis\\\\data\\\\environmentalExclusionSolar.gdb\\\\National_Military_Parks',\n",
       " 'C:\\\\Users\\\\Zachary\\\\ASSET\\\\supplyCurve\\\\analysis\\\\data\\\\environmentalExclusionSolar.gdb\\\\National_Monument',\n",
       " 'C:\\\\Users\\\\Zachary\\\\ASSET\\\\supplyCurve\\\\analysis\\\\data\\\\environmentalExclusionSolar.gdb\\\\National_Parks',\n",
       " 'C:\\\\Users\\\\Zachary\\\\ASSET\\\\supplyCurve\\\\analysis\\\\data\\\\environmentalExclusionSolar.gdb\\\\National_Parkways',\n",
       " 'C:\\\\Users\\\\Zachary\\\\ASSET\\\\supplyCurve\\\\analysis\\\\data\\\\environmentalExclusionSolar.gdb\\\\National_Preserves',\n",
       " 'C:\\\\Users\\\\Zachary\\\\ASSET\\\\supplyCurve\\\\analysis\\\\data\\\\environmentalExclusionSolar.gdb\\\\National_Recreation_Area',\n",
       " 'C:\\\\Users\\\\Zachary\\\\ASSET\\\\supplyCurve\\\\analysis\\\\data\\\\environmentalExclusionSolar.gdb\\\\National_Scenic_Historic_Trails',\n",
       " 'C:\\\\Users\\\\Zachary\\\\ASSET\\\\supplyCurve\\\\analysis\\\\data\\\\environmentalExclusionSolar.gdb\\\\National_Wildlife_Refuge',\n",
       " 'C:\\\\Users\\\\Zachary\\\\ASSET\\\\supplyCurve\\\\analysis\\\\data\\\\environmentalExclusionSolar.gdb\\\\NCED_Conservation_Easements',\n",
       " 'C:\\\\Users\\\\Zachary\\\\ASSET\\\\supplyCurve\\\\analysis\\\\data\\\\environmentalExclusionSolar.gdb\\\\NHT_California_Buffer500',\n",
       " 'C:\\\\Users\\\\Zachary\\\\ASSET\\\\supplyCurve\\\\analysis\\\\data\\\\environmentalExclusionSolar.gdb\\\\NHT_El_Camino_Real_De_Los_Tejas_Buffer500',\n",
       " 'C:\\\\Users\\\\Zachary\\\\ASSET\\\\supplyCurve\\\\analysis\\\\data\\\\environmentalExclusionSolar.gdb\\\\NHT_El_Camino_Real_De_Tierra_Adrentro_Buffer500',\n",
       " 'C:\\\\Users\\\\Zachary\\\\ASSET\\\\supplyCurve\\\\analysis\\\\data\\\\environmentalExclusionSolar.gdb\\\\NHT_Mormon_Pioneer_Buffer500',\n",
       " 'C:\\\\Users\\\\Zachary\\\\ASSET\\\\supplyCurve\\\\analysis\\\\data\\\\environmentalExclusionSolar.gdb\\\\NHT_Old_Spanish_Buffer500',\n",
       " 'C:\\\\Users\\\\Zachary\\\\ASSET\\\\supplyCurve\\\\analysis\\\\data\\\\environmentalExclusionSolar.gdb\\\\NHT_Oregon_Trail_Buffer500',\n",
       " 'C:\\\\Users\\\\Zachary\\\\ASSET\\\\supplyCurve\\\\analysis\\\\data\\\\environmentalExclusionSolar.gdb\\\\NHT_Pony_Express_Buffer500',\n",
       " 'C:\\\\Users\\\\Zachary\\\\ASSET\\\\supplyCurve\\\\analysis\\\\data\\\\environmentalExclusionSolar.gdb\\\\NHT_Route_66_Buffer500',\n",
       " 'C:\\\\Users\\\\Zachary\\\\ASSET\\\\supplyCurve\\\\analysis\\\\data\\\\environmentalExclusionSolar.gdb\\\\NHT_Santa_Fe_Buffer500',\n",
       " 'C:\\\\Users\\\\Zachary\\\\ASSET\\\\supplyCurve\\\\analysis\\\\data\\\\environmentalExclusionSolar.gdb\\\\NHT_Trail_Of_Tears_Buffer500',\n",
       " 'C:\\\\Users\\\\Zachary\\\\ASSET\\\\supplyCurve\\\\analysis\\\\data\\\\environmentalExclusionSolar.gdb\\\\NRCS_Easements',\n",
       " 'C:\\\\Users\\\\Zachary\\\\ASSET\\\\supplyCurve\\\\analysis\\\\data\\\\environmentalExclusionSolar.gdb\\\\Research_Natural_Area',\n",
       " 'C:\\\\Users\\\\Zachary\\\\ASSET\\\\supplyCurve\\\\analysis\\\\data\\\\environmentalExclusionSolar.gdb\\\\State_Wilderness_Area',\n",
       " 'C:\\\\Users\\\\Zachary\\\\ASSET\\\\supplyCurve\\\\analysis\\\\data\\\\environmentalExclusionSolar.gdb\\\\State_Wildlife_Management_Areas',\n",
       " 'C:\\\\Users\\\\Zachary\\\\ASSET\\\\supplyCurve\\\\analysis\\\\data\\\\environmentalExclusionSolar.gdb\\\\Watershed_Protection_Areas',\n",
       " 'C:\\\\Users\\\\Zachary\\\\ASSET\\\\supplyCurve\\\\analysis\\\\data\\\\environmentalExclusionSolar.gdb\\\\Wild_Scenic_Rivers',\n",
       " 'C:\\\\Users\\\\Zachary\\\\ASSET\\\\supplyCurve\\\\analysis\\\\data\\\\environmentalExclusionSolar.gdb\\\\Wilderness_Study_Area',\n",
       " 'C:\\\\Users\\\\Zachary\\\\ASSET\\\\supplyCurve\\\\analysis\\\\data\\\\environmentalExclusionSolar.gdb\\\\Z_Local_Conservation_Areas_GAP_1_2',\n",
       " 'C:\\\\Users\\\\Zachary\\\\ASSET\\\\supplyCurve\\\\analysis\\\\data\\\\environmentalExclusionSolar.gdb\\\\Z_National_Scenic_Botanical_Volcanic_Areas',\n",
       " 'C:\\\\Users\\\\Zachary\\\\ASSET\\\\supplyCurve\\\\analysis\\\\data\\\\environmentalExclusionSolar.gdb\\\\Z_NF_Inventoried_Roadless_Areas',\n",
       " 'C:\\\\Users\\\\Zachary\\\\ASSET\\\\supplyCurve\\\\analysis\\\\data\\\\environmentalExclusionSolar.gdb\\\\Z_Recreation_Management_Areas',\n",
       " 'C:\\\\Users\\\\Zachary\\\\ASSET\\\\supplyCurve\\\\analysis\\\\data\\\\environmentalExclusionSolar.gdb\\\\Z_SFW_State_Conservation_Areas']"
      ]
     },
     "execution_count": 29,
     "metadata": {},
     "output_type": "execute_result"
    }
   ],
   "source": [
    "# get the list of feature classes in the geodatabase\n",
    "feature_classes = get_feature_classes(arcpy.env.workspace)\n",
    "feature_classes"
   ]
  },
  {
   "cell_type": "code",
   "execution_count": 30,
   "metadata": {},
   "outputs": [
    {
     "name": "stdout",
     "output_type": "stream",
     "text": [
      "PROJCS[\"USA_Contiguous_Albers_Equal_Area_Conic_USGS_version\",GEOGCS[\"GCS_North_American_1983\",DATUM[\"D_North_American_1983\",SPHEROID[\"GRS_1980\",6378137.0,298.257222101]],PRIMEM[\"Greenwich\",0.0],UNIT[\"Degree\",0.0174532925199433]],PROJECTION[\"Albers\"],PARAMETER[\"False_Easting\",0.0],PARAMETER[\"False_Northing\",0.0],PARAMETER[\"Central_Meridian\",-96.0],PARAMETER[\"Standard_Parallel_1\",29.5],PARAMETER[\"Standard_Parallel_2\",45.5],PARAMETER[\"Latitude_Of_Origin\",23.0],UNIT[\"Meter\",1.0]];-16901100 -6972200 10000;-100000 10000;-100000 10000;0.001;0.001;0.001;IsHighPrecision\n"
     ]
    }
   ],
   "source": [
    "print(arcpy.Describe(feature_classes[0]).spatialReference.exportToString())"
   ]
  },
  {
   "cell_type": "code",
   "execution_count": 31,
   "metadata": {},
   "outputs": [
    {
     "name": "stdout",
     "output_type": "stream",
     "text": [
      "PROJCS[\"USA_Contiguous_Albers_Equal_Area_Conic_USGS_version\",GEOGCS[\"GCS_North_American_1983\",DATUM[\"D_North_American_1983\",SPHEROID[\"GRS_1980\",6378137.0,298.257222101]],PRIMEM[\"Greenwich\",0.0],UNIT[\"Degree\",0.0174532925199433]],PROJECTION[\"Albers\"],PARAMETER[\"False_Easting\",0.0],PARAMETER[\"False_Northing\",0.0],PARAMETER[\"Central_Meridian\",-96.0],PARAMETER[\"Standard_Parallel_1\",29.5],PARAMETER[\"Standard_Parallel_2\",45.5],PARAMETER[\"Latitude_Of_Origin\",23.0],UNIT[\"Meter\",1.0]];-16901100 -6972200 266467840.990852;-100000 10000;-100000 10000;0.001;0.001;0.001;IsHighPrecision\n"
     ]
    }
   ],
   "source": [
    "print(arcpy.Describe(template_raster).spatialReference.exportToString())"
   ]
  },
  {
   "cell_type": "code",
   "execution_count": 32,
   "metadata": {},
   "outputs": [
    {
     "name": "stdout",
     "output_type": "stream",
     "text": [
      "Reprojecting C:\\Users\\Zachary\\ASSET\\supplyCurve\\analysis\\data\\environmentalExclusionSolar.gdb\\BLM_DRECP_NCL to match the template raster's coordinate system...\n",
      "Reprojecting C:\\Users\\Zachary\\ASSET\\supplyCurve\\analysis\\data\\environmentalExclusionSolar.gdb\\BLM_DRECP_SRMA to match the template raster's coordinate system...\n",
      "Reprojecting C:\\Users\\Zachary\\ASSET\\supplyCurve\\analysis\\data\\environmentalExclusionSolar.gdb\\BLM_National_Conservation_Areas to match the template raster's coordinate system...\n",
      "Reprojecting C:\\Users\\Zachary\\ASSET\\supplyCurve\\analysis\\data\\environmentalExclusionSolar.gdb\\BLM_National_Scenic_Trails_Buffer500 to match the template raster's coordinate system...\n",
      "Reprojecting C:\\Users\\Zachary\\ASSET\\supplyCurve\\analysis\\data\\environmentalExclusionSolar.gdb\\BLM_Right_Of_Way_Exclusions to match the template raster's coordinate system...\n",
      "Reprojecting C:\\Users\\Zachary\\ASSET\\supplyCurve\\analysis\\data\\environmentalExclusionSolar.gdb\\BLM_Solar_Energy_Program_Exclusions to match the template raster's coordinate system...\n",
      "Reprojecting C:\\Users\\Zachary\\ASSET\\supplyCurve\\analysis\\data\\environmentalExclusionSolar.gdb\\BLM_Visual_Resource_Management_Class_I to match the template raster's coordinate system...\n",
      "Reprojecting C:\\Users\\Zachary\\ASSET\\supplyCurve\\analysis\\data\\environmentalExclusionSolar.gdb\\BLM_Visual_Resource_Management_Class_II to match the template raster's coordinate system...\n",
      "Reprojecting C:\\Users\\Zachary\\ASSET\\supplyCurve\\analysis\\data\\environmentalExclusionSolar.gdb\\Conservation_Mitigation_Bank to match the template raster's coordinate system...\n",
      "Reprojecting C:\\Users\\Zachary\\ASSET\\supplyCurve\\analysis\\data\\environmentalExclusionSolar.gdb\\Historic_Cultural_Area to match the template raster's coordinate system...\n",
      "Reprojecting C:\\Users\\Zachary\\ASSET\\supplyCurve\\analysis\\data\\environmentalExclusionSolar.gdb\\Marine_Protected_Areas to match the template raster's coordinate system...\n",
      "Reprojecting C:\\Users\\Zachary\\ASSET\\supplyCurve\\analysis\\data\\environmentalExclusionSolar.gdb\\National_Conservation_Areas to match the template raster's coordinate system...\n",
      "Reprojecting C:\\Users\\Zachary\\ASSET\\supplyCurve\\analysis\\data\\environmentalExclusionSolar.gdb\\National_Lakeshore_Seashore to match the template raster's coordinate system...\n",
      "Reprojecting C:\\Users\\Zachary\\ASSET\\supplyCurve\\analysis\\data\\environmentalExclusionSolar.gdb\\National_Military_Parks to match the template raster's coordinate system...\n",
      "Reprojecting C:\\Users\\Zachary\\ASSET\\supplyCurve\\analysis\\data\\environmentalExclusionSolar.gdb\\National_Monument to match the template raster's coordinate system...\n",
      "Reprojecting C:\\Users\\Zachary\\ASSET\\supplyCurve\\analysis\\data\\environmentalExclusionSolar.gdb\\National_Parks to match the template raster's coordinate system...\n",
      "Reprojecting C:\\Users\\Zachary\\ASSET\\supplyCurve\\analysis\\data\\environmentalExclusionSolar.gdb\\National_Parkways to match the template raster's coordinate system...\n",
      "Reprojecting C:\\Users\\Zachary\\ASSET\\supplyCurve\\analysis\\data\\environmentalExclusionSolar.gdb\\National_Preserves to match the template raster's coordinate system...\n",
      "Reprojecting C:\\Users\\Zachary\\ASSET\\supplyCurve\\analysis\\data\\environmentalExclusionSolar.gdb\\National_Recreation_Area to match the template raster's coordinate system...\n",
      "Reprojecting C:\\Users\\Zachary\\ASSET\\supplyCurve\\analysis\\data\\environmentalExclusionSolar.gdb\\National_Scenic_Historic_Trails to match the template raster's coordinate system...\n",
      "Reprojecting C:\\Users\\Zachary\\ASSET\\supplyCurve\\analysis\\data\\environmentalExclusionSolar.gdb\\National_Wildlife_Refuge to match the template raster's coordinate system...\n",
      "Reprojecting C:\\Users\\Zachary\\ASSET\\supplyCurve\\analysis\\data\\environmentalExclusionSolar.gdb\\NCED_Conservation_Easements to match the template raster's coordinate system...\n",
      "Reprojecting C:\\Users\\Zachary\\ASSET\\supplyCurve\\analysis\\data\\environmentalExclusionSolar.gdb\\NHT_California_Buffer500 to match the template raster's coordinate system...\n",
      "Reprojecting C:\\Users\\Zachary\\ASSET\\supplyCurve\\analysis\\data\\environmentalExclusionSolar.gdb\\NHT_El_Camino_Real_De_Los_Tejas_Buffer500 to match the template raster's coordinate system...\n",
      "Reprojecting C:\\Users\\Zachary\\ASSET\\supplyCurve\\analysis\\data\\environmentalExclusionSolar.gdb\\NHT_El_Camino_Real_De_Tierra_Adrentro_Buffer500 to match the template raster's coordinate system...\n",
      "Reprojecting C:\\Users\\Zachary\\ASSET\\supplyCurve\\analysis\\data\\environmentalExclusionSolar.gdb\\NHT_Mormon_Pioneer_Buffer500 to match the template raster's coordinate system...\n",
      "Reprojecting C:\\Users\\Zachary\\ASSET\\supplyCurve\\analysis\\data\\environmentalExclusionSolar.gdb\\NHT_Old_Spanish_Buffer500 to match the template raster's coordinate system...\n",
      "Reprojecting C:\\Users\\Zachary\\ASSET\\supplyCurve\\analysis\\data\\environmentalExclusionSolar.gdb\\NHT_Oregon_Trail_Buffer500 to match the template raster's coordinate system...\n",
      "Reprojecting C:\\Users\\Zachary\\ASSET\\supplyCurve\\analysis\\data\\environmentalExclusionSolar.gdb\\NHT_Pony_Express_Buffer500 to match the template raster's coordinate system...\n",
      "Reprojecting C:\\Users\\Zachary\\ASSET\\supplyCurve\\analysis\\data\\environmentalExclusionSolar.gdb\\NHT_Route_66_Buffer500 to match the template raster's coordinate system...\n",
      "Reprojecting C:\\Users\\Zachary\\ASSET\\supplyCurve\\analysis\\data\\environmentalExclusionSolar.gdb\\NHT_Santa_Fe_Buffer500 to match the template raster's coordinate system...\n",
      "Reprojecting C:\\Users\\Zachary\\ASSET\\supplyCurve\\analysis\\data\\environmentalExclusionSolar.gdb\\NHT_Trail_Of_Tears_Buffer500 to match the template raster's coordinate system...\n",
      "Reprojecting C:\\Users\\Zachary\\ASSET\\supplyCurve\\analysis\\data\\environmentalExclusionSolar.gdb\\NRCS_Easements to match the template raster's coordinate system...\n",
      "Reprojecting C:\\Users\\Zachary\\ASSET\\supplyCurve\\analysis\\data\\environmentalExclusionSolar.gdb\\Research_Natural_Area to match the template raster's coordinate system...\n",
      "Reprojecting C:\\Users\\Zachary\\ASSET\\supplyCurve\\analysis\\data\\environmentalExclusionSolar.gdb\\State_Wilderness_Area to match the template raster's coordinate system...\n",
      "Reprojecting C:\\Users\\Zachary\\ASSET\\supplyCurve\\analysis\\data\\environmentalExclusionSolar.gdb\\State_Wildlife_Management_Areas to match the template raster's coordinate system...\n",
      "Reprojecting C:\\Users\\Zachary\\ASSET\\supplyCurve\\analysis\\data\\environmentalExclusionSolar.gdb\\Watershed_Protection_Areas to match the template raster's coordinate system...\n",
      "Reprojecting C:\\Users\\Zachary\\ASSET\\supplyCurve\\analysis\\data\\environmentalExclusionSolar.gdb\\Wild_Scenic_Rivers to match the template raster's coordinate system...\n",
      "Reprojecting C:\\Users\\Zachary\\ASSET\\supplyCurve\\analysis\\data\\environmentalExclusionSolar.gdb\\Wilderness_Study_Area to match the template raster's coordinate system...\n",
      "Reprojecting C:\\Users\\Zachary\\ASSET\\supplyCurve\\analysis\\data\\environmentalExclusionSolar.gdb\\Z_Local_Conservation_Areas_GAP_1_2 to match the template raster's coordinate system...\n",
      "Reprojecting C:\\Users\\Zachary\\ASSET\\supplyCurve\\analysis\\data\\environmentalExclusionSolar.gdb\\Z_National_Scenic_Botanical_Volcanic_Areas to match the template raster's coordinate system...\n",
      "Reprojecting C:\\Users\\Zachary\\ASSET\\supplyCurve\\analysis\\data\\environmentalExclusionSolar.gdb\\Z_NF_Inventoried_Roadless_Areas to match the template raster's coordinate system...\n",
      "Reprojecting C:\\Users\\Zachary\\ASSET\\supplyCurve\\analysis\\data\\environmentalExclusionSolar.gdb\\Z_Recreation_Management_Areas to match the template raster's coordinate system...\n",
      "Reprojecting C:\\Users\\Zachary\\ASSET\\supplyCurve\\analysis\\data\\environmentalExclusionSolar.gdb\\Z_SFW_State_Conservation_Areas to match the template raster's coordinate system...\n",
      "All feature classes have been processed and saved to the output geodatabase.\n"
     ]
    }
   ],
   "source": [
    "for feature_class in feature_classes:\n",
    "    reprojected_fc = reproject_feature_class(feature_class, template_srid)\n",
    "\n",
    "    if reprojected_fc is None:\n",
    "        copied_fc = os.path.join(reprojected_geodatabase, os.path.basename(feature_class))\n",
    "        arcpy.management.CopyFeatures(feature_class, copied_fc)\n",
    "\n",
    "print(\"All feature classes have been processed and saved to the output geodatabase.\")\n"
   ]
  },
  {
   "cell_type": "markdown",
   "metadata": {},
   "source": [
    "#### Convert reprojected feature classes to rasters"
   ]
  },
  {
   "cell_type": "code",
   "execution_count": 33,
   "metadata": {},
   "outputs": [],
   "source": [
    "# Get all reprojected feature classes\n",
    "feature_classes  = get_feature_classes(reprojected_geodatabase)"
   ]
  },
  {
   "cell_type": "code",
   "execution_count": 34,
   "metadata": {},
   "outputs": [
    {
     "name": "stdout",
     "output_type": "stream",
     "text": [
      "'occupancy' field already exists in BLM_DRECP_NCL_reprojected\n",
      "'occupancy' field already exists in BLM_DRECP_SRMA_reprojected\n",
      "'occupancy' field already exists in BLM_National_Conservation_Areas_reprojected\n",
      "'occupancy' field already exists in BLM_National_Scenic_Trails_Buffer500_reprojected\n",
      "'occupancy' field already exists in BLM_Right_Of_Way_Exclusions_reprojected\n",
      "'occupancy' field already exists in BLM_Solar_Energy_Program_Exclusions_reprojected\n",
      "'occupancy' field already exists in BLM_Visual_Resource_Management_Class_I_reprojected\n",
      "'occupancy' field already exists in BLM_Visual_Resource_Management_Class_II_reprojected\n",
      "'occupancy' field already exists in Conservation_Mitigation_Bank_reprojected\n",
      "'occupancy' field already exists in Historic_Cultural_Area_reprojected\n",
      "'occupancy' field already exists in Marine_Protected_Areas_reprojected\n",
      "'occupancy' field already exists in National_Conservation_Areas_reprojected\n",
      "'occupancy' field already exists in National_Lakeshore_Seashore_reprojected\n",
      "'occupancy' field already exists in National_Military_Parks_reprojected\n",
      "'occupancy' field already exists in National_Monument_reprojected\n",
      "'occupancy' field already exists in National_Parks_reprojected\n",
      "'occupancy' field already exists in National_Parkways_reprojected\n",
      "'occupancy' field already exists in National_Preserves_reprojected\n",
      "'occupancy' field already exists in National_Recreation_Area_reprojected\n",
      "'occupancy' field already exists in National_Scenic_Historic_Trails_reprojected\n",
      "'occupancy' field already exists in National_Wildlife_Refuge_reprojected\n",
      "'occupancy' field already exists in NCED_Conservation_Easements_reprojected\n",
      "'occupancy' field already exists in NHT_California_Buffer500_reprojected\n",
      "'occupancy' field already exists in NHT_El_Camino_Real_De_Los_Tejas_Buffer500_reprojected\n",
      "'occupancy' field already exists in NHT_El_Camino_Real_De_Tierra_Adrentro_Buffer500_reprojected\n",
      "'occupancy' field already exists in NHT_Mormon_Pioneer_Buffer500_reprojected\n",
      "'occupancy' field already exists in NHT_Old_Spanish_Buffer500_reprojected\n",
      "'occupancy' field already exists in NHT_Oregon_Trail_Buffer500_reprojected\n",
      "'occupancy' field already exists in NHT_Pony_Express_Buffer500_reprojected\n",
      "'occupancy' field already exists in NHT_Route_66_Buffer500_reprojected\n",
      "'occupancy' field already exists in NHT_Santa_Fe_Buffer500_reprojected\n",
      "'occupancy' field already exists in NHT_Trail_Of_Tears_Buffer500_reprojected\n",
      "'occupancy' field already exists in NRCS_Easements_reprojected\n",
      "'occupancy' field already exists in Research_Natural_Area_reprojected\n",
      "'occupancy' field already exists in State_Wilderness_Area_reprojected\n",
      "'occupancy' field already exists in State_Wildlife_Management_Areas_reprojected\n",
      "'occupancy' field already exists in Watershed_Protection_Areas_reprojected\n",
      "'occupancy' field already exists in Wild_Scenic_Rivers_reprojected\n",
      "'occupancy' field already exists in Wilderness_Study_Area_reprojected\n",
      "'occupancy' field already exists in Z_Local_Conservation_Areas_GAP_1_2_reprojected\n",
      "'occupancy' field already exists in Z_National_Scenic_Botanical_Volcanic_Areas_reprojected\n",
      "'occupancy' field already exists in Z_NF_Inventoried_Roadless_Areas_reprojected\n",
      "'occupancy' field already exists in Z_Recreation_Management_Areas_reprojected\n",
      "'occupancy' field already exists in Z_SFW_State_Conservation_Areas_reprojected\n"
     ]
    }
   ],
   "source": [
    "# Add occupancy field if doesn't exist\n",
    "for feature_class in feature_classes:\n",
    "    add_occupancy_field(feature_class)"
   ]
  },
  {
   "cell_type": "code",
   "execution_count": 36,
   "metadata": {},
   "outputs": [],
   "source": [
    "for feature_class in feature_classes:\n",
    "    # get name of feature class\n",
    "    feature_class_name = os.path.basename(feature_class)\n",
    "\n",
    "    # convert each feature class to a raster and save to raster output folder\n",
    "    output_raster = os.path.join(output_workspace, f\"{feature_class_name}.tif\")\n",
    "    arcpy.conversion.FeatureToRaster(feature_class, \"occupancy\", output_raster)\n",
    "\n",
    "    print(f\"Feature class {feature_class_name} converted to raster and saved as {feature_class_name}.tif\")"
   ]
  },
  {
   "cell_type": "markdown",
   "metadata": {},
   "source": [
    "#### Mosaic the rasters to a new raster"
   ]
  },
  {
   "cell_type": "code",
   "execution_count": 39,
   "metadata": {},
   "outputs": [
    {
     "data": {
      "text/plain": [
       "['C:\\\\Users\\\\Zachary\\\\ASSET\\\\supplyCurve\\\\analysis\\\\data\\\\environmentalExclusionRasters\\\\SolarScratch\\\\BLM_DRECP_NCL_reprojected.tif',\n",
       " 'C:\\\\Users\\\\Zachary\\\\ASSET\\\\supplyCurve\\\\analysis\\\\data\\\\environmentalExclusionRasters\\\\SolarScratch\\\\BLM_DRECP_SRMA_reprojected.tif',\n",
       " 'C:\\\\Users\\\\Zachary\\\\ASSET\\\\supplyCurve\\\\analysis\\\\data\\\\environmentalExclusionRasters\\\\SolarScratch\\\\BLM_National_Conservation_Areas_reprojected.tif',\n",
       " 'C:\\\\Users\\\\Zachary\\\\ASSET\\\\supplyCurve\\\\analysis\\\\data\\\\environmentalExclusionRasters\\\\SolarScratch\\\\BLM_National_Scenic_Trails_Buffer500_reprojected.tif',\n",
       " 'C:\\\\Users\\\\Zachary\\\\ASSET\\\\supplyCurve\\\\analysis\\\\data\\\\environmentalExclusionRasters\\\\SolarScratch\\\\BLM_Right_Of_Way_Exclusions_reprojected.tif',\n",
       " 'C:\\\\Users\\\\Zachary\\\\ASSET\\\\supplyCurve\\\\analysis\\\\data\\\\environmentalExclusionRasters\\\\SolarScratch\\\\BLM_Solar_Energy_Program_Exclusions_reprojected.tif',\n",
       " 'C:\\\\Users\\\\Zachary\\\\ASSET\\\\supplyCurve\\\\analysis\\\\data\\\\environmentalExclusionRasters\\\\SolarScratch\\\\BLM_Visual_Resource_Management_Class_II_reprojected.tif',\n",
       " 'C:\\\\Users\\\\Zachary\\\\ASSET\\\\supplyCurve\\\\analysis\\\\data\\\\environmentalExclusionRasters\\\\SolarScratch\\\\BLM_Visual_Resource_Management_Class_I_reprojected.tif',\n",
       " 'C:\\\\Users\\\\Zachary\\\\ASSET\\\\supplyCurve\\\\analysis\\\\data\\\\environmentalExclusionRasters\\\\SolarScratch\\\\Conservation_Mitigation_Bank_reprojected.tif',\n",
       " 'C:\\\\Users\\\\Zachary\\\\ASSET\\\\supplyCurve\\\\analysis\\\\data\\\\environmentalExclusionRasters\\\\SolarScratch\\\\Historic_Cultural_Area_reprojected.tif',\n",
       " 'C:\\\\Users\\\\Zachary\\\\ASSET\\\\supplyCurve\\\\analysis\\\\data\\\\environmentalExclusionRasters\\\\SolarScratch\\\\Marine_Protected_Areas_reprojected.tif',\n",
       " 'C:\\\\Users\\\\Zachary\\\\ASSET\\\\supplyCurve\\\\analysis\\\\data\\\\environmentalExclusionRasters\\\\SolarScratch\\\\National_Conservation_Areas_reprojected.tif',\n",
       " 'C:\\\\Users\\\\Zachary\\\\ASSET\\\\supplyCurve\\\\analysis\\\\data\\\\environmentalExclusionRasters\\\\SolarScratch\\\\National_Lakeshore_Seashore_reprojected.tif',\n",
       " 'C:\\\\Users\\\\Zachary\\\\ASSET\\\\supplyCurve\\\\analysis\\\\data\\\\environmentalExclusionRasters\\\\SolarScratch\\\\National_Military_Parks_reprojected.tif',\n",
       " 'C:\\\\Users\\\\Zachary\\\\ASSET\\\\supplyCurve\\\\analysis\\\\data\\\\environmentalExclusionRasters\\\\SolarScratch\\\\National_Monument_reprojected.tif',\n",
       " 'C:\\\\Users\\\\Zachary\\\\ASSET\\\\supplyCurve\\\\analysis\\\\data\\\\environmentalExclusionRasters\\\\SolarScratch\\\\National_Parks_reprojected.tif',\n",
       " 'C:\\\\Users\\\\Zachary\\\\ASSET\\\\supplyCurve\\\\analysis\\\\data\\\\environmentalExclusionRasters\\\\SolarScratch\\\\National_Parkways_reprojected.tif',\n",
       " 'C:\\\\Users\\\\Zachary\\\\ASSET\\\\supplyCurve\\\\analysis\\\\data\\\\environmentalExclusionRasters\\\\SolarScratch\\\\National_Preserves_reprojected.tif',\n",
       " 'C:\\\\Users\\\\Zachary\\\\ASSET\\\\supplyCurve\\\\analysis\\\\data\\\\environmentalExclusionRasters\\\\SolarScratch\\\\National_Recreation_Area_reprojected.tif',\n",
       " 'C:\\\\Users\\\\Zachary\\\\ASSET\\\\supplyCurve\\\\analysis\\\\data\\\\environmentalExclusionRasters\\\\SolarScratch\\\\National_Scenic_Historic_Trails_reprojected.tif',\n",
       " 'C:\\\\Users\\\\Zachary\\\\ASSET\\\\supplyCurve\\\\analysis\\\\data\\\\environmentalExclusionRasters\\\\SolarScratch\\\\National_Wildlife_Refuge_reprojected.tif',\n",
       " 'C:\\\\Users\\\\Zachary\\\\ASSET\\\\supplyCurve\\\\analysis\\\\data\\\\environmentalExclusionRasters\\\\SolarScratch\\\\NCED_Conservation_Easements_reprojected.tif',\n",
       " 'C:\\\\Users\\\\Zachary\\\\ASSET\\\\supplyCurve\\\\analysis\\\\data\\\\environmentalExclusionRasters\\\\SolarScratch\\\\NHT_California_Buffer500_reprojected.tif',\n",
       " 'C:\\\\Users\\\\Zachary\\\\ASSET\\\\supplyCurve\\\\analysis\\\\data\\\\environmentalExclusionRasters\\\\SolarScratch\\\\NHT_El_Camino_Real_De_Los_Tejas_Buffer500_reprojected.tif',\n",
       " 'C:\\\\Users\\\\Zachary\\\\ASSET\\\\supplyCurve\\\\analysis\\\\data\\\\environmentalExclusionRasters\\\\SolarScratch\\\\NHT_El_Camino_Real_De_Tierra_Adrentro_Buffer500_reprojected.tif',\n",
       " 'C:\\\\Users\\\\Zachary\\\\ASSET\\\\supplyCurve\\\\analysis\\\\data\\\\environmentalExclusionRasters\\\\SolarScratch\\\\NHT_Mormon_Pioneer_Buffer500_reprojected.tif',\n",
       " 'C:\\\\Users\\\\Zachary\\\\ASSET\\\\supplyCurve\\\\analysis\\\\data\\\\environmentalExclusionRasters\\\\SolarScratch\\\\NHT_Old_Spanish_Buffer500_reprojected.tif',\n",
       " 'C:\\\\Users\\\\Zachary\\\\ASSET\\\\supplyCurve\\\\analysis\\\\data\\\\environmentalExclusionRasters\\\\SolarScratch\\\\NHT_Oregon_Trail_Buffer500_reprojected.tif',\n",
       " 'C:\\\\Users\\\\Zachary\\\\ASSET\\\\supplyCurve\\\\analysis\\\\data\\\\environmentalExclusionRasters\\\\SolarScratch\\\\NHT_Pony_Express_Buffer500_reprojected.tif',\n",
       " 'C:\\\\Users\\\\Zachary\\\\ASSET\\\\supplyCurve\\\\analysis\\\\data\\\\environmentalExclusionRasters\\\\SolarScratch\\\\NHT_Route_66_Buffer500_reprojected.tif',\n",
       " 'C:\\\\Users\\\\Zachary\\\\ASSET\\\\supplyCurve\\\\analysis\\\\data\\\\environmentalExclusionRasters\\\\SolarScratch\\\\NHT_Santa_Fe_Buffer500_reprojected.tif',\n",
       " 'C:\\\\Users\\\\Zachary\\\\ASSET\\\\supplyCurve\\\\analysis\\\\data\\\\environmentalExclusionRasters\\\\SolarScratch\\\\NHT_Trail_Of_Tears_Buffer500_reprojected.tif',\n",
       " 'C:\\\\Users\\\\Zachary\\\\ASSET\\\\supplyCurve\\\\analysis\\\\data\\\\environmentalExclusionRasters\\\\SolarScratch\\\\NRCS_Easements_reprojected.tif',\n",
       " 'C:\\\\Users\\\\Zachary\\\\ASSET\\\\supplyCurve\\\\analysis\\\\data\\\\environmentalExclusionRasters\\\\SolarScratch\\\\Research_Natural_Area_reprojected.tif',\n",
       " 'C:\\\\Users\\\\Zachary\\\\ASSET\\\\supplyCurve\\\\analysis\\\\data\\\\environmentalExclusionRasters\\\\SolarScratch\\\\State_Wilderness_Area_reprojected.tif',\n",
       " 'C:\\\\Users\\\\Zachary\\\\ASSET\\\\supplyCurve\\\\analysis\\\\data\\\\environmentalExclusionRasters\\\\SolarScratch\\\\State_Wildlife_Management_Areas_reprojected.tif',\n",
       " 'C:\\\\Users\\\\Zachary\\\\ASSET\\\\supplyCurve\\\\analysis\\\\data\\\\environmentalExclusionRasters\\\\SolarScratch\\\\Watershed_Protection_Areas_reprojected.tif',\n",
       " 'C:\\\\Users\\\\Zachary\\\\ASSET\\\\supplyCurve\\\\analysis\\\\data\\\\environmentalExclusionRasters\\\\SolarScratch\\\\Wilderness_Study_Area_reprojected.tif',\n",
       " 'C:\\\\Users\\\\Zachary\\\\ASSET\\\\supplyCurve\\\\analysis\\\\data\\\\environmentalExclusionRasters\\\\SolarScratch\\\\Wild_Scenic_Rivers_reprojected.tif',\n",
       " 'C:\\\\Users\\\\Zachary\\\\ASSET\\\\supplyCurve\\\\analysis\\\\data\\\\environmentalExclusionRasters\\\\SolarScratch\\\\Z_Local_Conservation_Areas_GAP_1_2_reprojected.tif',\n",
       " 'C:\\\\Users\\\\Zachary\\\\ASSET\\\\supplyCurve\\\\analysis\\\\data\\\\environmentalExclusionRasters\\\\SolarScratch\\\\Z_National_Scenic_Botanical_Volcanic_Areas_reprojected.tif',\n",
       " 'C:\\\\Users\\\\Zachary\\\\ASSET\\\\supplyCurve\\\\analysis\\\\data\\\\environmentalExclusionRasters\\\\SolarScratch\\\\Z_NF_Inventoried_Roadless_Areas_reprojected.tif',\n",
       " 'C:\\\\Users\\\\Zachary\\\\ASSET\\\\supplyCurve\\\\analysis\\\\data\\\\environmentalExclusionRasters\\\\SolarScratch\\\\Z_Recreation_Management_Areas_reprojected.tif',\n",
       " 'C:\\\\Users\\\\Zachary\\\\ASSET\\\\supplyCurve\\\\analysis\\\\data\\\\environmentalExclusionRasters\\\\SolarScratch\\\\Z_SFW_State_Conservation_Areas_reprojected.tif']"
      ]
     },
     "execution_count": 39,
     "metadata": {},
     "output_type": "execute_result"
    }
   ],
   "source": [
    "# List the rasters in the raster folder\n",
    "rasters = get_rasters(output_workspace)\n",
    "rasters"
   ]
  },
  {
   "cell_type": "code",
   "execution_count": 42,
   "metadata": {},
   "outputs": [
    {
     "data": {
      "text/html": [
       "<div class='gpresult'><h2>Messages</h2><div id='messages' data-messages='[\"Start Time: Thursday, July 27, 2023 2:31:44 PM\",\"Building Pyramids...\",\"Succeeded at Thursday, July 27, 2023 2:34:46 PM (Elapsed Time: 3 minutes 2 seconds)\"]' data-show='true'><div id = 'default' /></div></div>"
      ],
      "text/plain": [
       "<Result 'C:\\\\Users\\\\Zachary\\\\ASSET\\\\supplyCurve\\\\analysis\\\\data\\\\environmentalExclusionRasters\\\\mosaicScratch\\\\environementalExclusionSolar_SL1_ZRM.tif'>"
      ]
     },
     "execution_count": 42,
     "metadata": {},
     "output_type": "execute_result"
    }
   ],
   "source": [
    "# Mosaic all the rasters into one raster\n",
    "mosaic_name = \"environementalExclusionSolar_SL1_ZRM.tif\"\n",
    "arcpy.management.MosaicToNewRaster(input_rasters = rasters, \n",
    "                                   output_location = mosaic_workspace, \n",
    "                                   raster_dataset_name_with_extension=mosaic_name,\n",
    "                                   number_of_bands=1,\n",
    "                                   mosaic_method='FIRST')"
   ]
  }
 ],
 "metadata": {
  "kernelspec": {
   "display_name": "Python 3",
   "language": "python",
   "name": "python3"
  },
  "language_info": {
   "codemirror_mode": {
    "name": "ipython",
    "version": 3
   },
   "file_extension": ".py",
   "mimetype": "text/x-python",
   "name": "python",
   "nbconvert_exporter": "python",
   "pygments_lexer": "ipython3",
   "version": "3.7.10"
  },
  "orig_nbformat": 4
 },
 "nbformat": 4,
 "nbformat_minor": 2
}
