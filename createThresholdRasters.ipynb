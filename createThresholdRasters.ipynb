{
 "cells": [
  {
   "cell_type": "markdown",
   "metadata": {},
   "source": [
    "### Create Technical Threshold Rasters\n",
    "In this notebook we create three technical threshold rasters (1) Slope threshold raster (2) Population threshold raster (3) Flood risk threshold raster. These rasters will be masked from the Technical Inclusion Area Layer to generate the SL1 Inclusion Area Layer. "
   ]
  },
  {
   "cell_type": "code",
   "execution_count": 1,
   "metadata": {},
   "outputs": [],
   "source": [
    "import arcpy\n",
    "import os\n",
    "from arcpy import env\n",
    "from arcpy.sa import *"
   ]
  },
  {
   "cell_type": "markdown",
   "metadata": {},
   "source": [
    "#### Define helpful functions"
   ]
  },
  {
   "cell_type": "code",
   "execution_count": 2,
   "metadata": {},
   "outputs": [],
   "source": [
    "def get_datum_transformation(source_spatial_reference, target_spatial_reference):\n",
    "    transformations = arcpy.ListTransformations(source_spatial_reference, target_spatial_reference)\n",
    "    if transformations:\n",
    "        return transformations[0]  # Use the first transformation found\n",
    "    else:\n",
    "        return None  # No appropriate transformation found"
   ]
  },
  {
   "cell_type": "code",
   "execution_count": 3,
   "metadata": {},
   "outputs": [],
   "source": [
    "def add_occupancy_field(feature_class):\n",
    "    # Check if the 'occupancy' field already exists\n",
    "    fields = arcpy.ListFields(feature_class, \"occupancy\")\n",
    "\n",
    "    if not fields:\n",
    "         # Add 'occupancy' field to the feature class if it doesn't exist\n",
    "        arcpy.management.AddField(feature_class, \"occupancy\", \"SHORT\")\n",
    "\n",
    "        # Set the 'occupancy' field value to 1 for all records\n",
    "        with arcpy.da.UpdateCursor(feature_class, \"occupancy\") as cursor:\n",
    "            for row in cursor:\n",
    "                row[0] = 1\n",
    "                cursor.updateRow(row)\n",
    "        print(f\"'occupancy' field added and set to 1 in {os.path.basename(feature_class)}\")\n",
    "    else:\n",
    "        print(f\"'occupancy' field already exists in {os.path.basename(feature_class)}\")"
   ]
  },
  {
   "cell_type": "code",
   "execution_count": 5,
   "metadata": {},
   "outputs": [],
   "source": [
    "def convert_to_one_bit(input_raster, output_raster):\n",
    "    try:\n",
    "        # Create a raster object from the input path\n",
    "        input_raster_obj = arcpy.sa.Raster(input_raster)\n",
    "\n",
    "        # Reclassify the input raster to binary (one-bit) format\n",
    "        binary_raster = arcpy.sa.Con(input_raster_obj > 0, 1)\n",
    "\n",
    "        # Save the binary raster to the specified output path\n",
    "        binary_raster.save(output_raster)\n",
    "\n",
    "        print(f\"Conversion to one-bit raster completed successfully. Result saved to {output_raster}\")\n",
    "\n",
    "    except arcpy.ExecuteError:\n",
    "        print(arcpy.GetMessages())\n",
    "    except Exception as e:\n",
    "        print(f\"An error occurred: {str(e)}\")\n"
   ]
  },
  {
   "cell_type": "markdown",
   "metadata": {},
   "source": [
    "#### Get slope threshold raster"
   ]
  },
  {
   "cell_type": "code",
   "execution_count": 6,
   "metadata": {},
   "outputs": [],
   "source": [
    "# Set input and output folder\n",
    "mainInputFolder = \"C:\\\\Users\\\\Zachary\\\\ASSET\\\\supplyCurve\\\\analysis\\\\data\"  # enter path to input folder"
   ]
  },
  {
   "cell_type": "code",
   "execution_count": 7,
   "metadata": {},
   "outputs": [],
   "source": [
    "# Set path to wind workspace\n",
    "wind_workspace = os.path.join(mainInputFolder, \"technicalExclusionRasters\\\\Wind\")\n",
    "\n",
    "if not os.path.exists(wind_workspace):\n",
    "    os.makedir(wind_workspace)\n",
    "\n",
    "# Set path to solar workspace\n",
    "solar_workspace = os.path.join(mainInputFolder, \"technicalExclusionRasters\\\\Solar\")\n",
    "\n",
    "if not os.path.exists(solar_workspace):\n",
    "    os.makedir(solar_workspace)"
   ]
  },
  {
   "cell_type": "code",
   "execution_count": 8,
   "metadata": {},
   "outputs": [],
   "source": [
    "# Set path to input DEM\n",
    "input_dem = os.path.join(mainInputFolder, \"SRTM_90m.tif\")\n",
    "\n",
    "# Set path to output projected DEM,resample DEM, and slope raster\n",
    "projected_dem = os.path.join(mainInputFolder, os.path.splitext(os.path.basename(input_dem))[0] + \"_proj.tif\")\n",
    "resampled_dem = os.path.join(mainInputFolder, \"SRTM_250m_proj.tif\")\n",
    "slope_raster =  os.path.join(mainInputFolder, \"SRTM_250m_slope.tif\")"
   ]
  },
  {
   "cell_type": "code",
   "execution_count": 9,
   "metadata": {},
   "outputs": [
    {
     "data": {
      "text/html": [
       "<style>table td#td0  {font-weight: bold}</style><table class=\"notebook\"><colgroup><col style=\"width:45%\"></col><col style=\"width:55%\"></col></colgroup><tr><td id = \"td0\" title=\"name (Geographic Coordinate System)\">name (Geographic Coordinate System)</td><td title=\"GCS_WGS_1984\">GCS_WGS_1984</td></tr><tr><td id = \"td0\" title=\"factoryCode (WKID)\">factoryCode (WKID)</td><td title=\"4326\">4326</td></tr><tr><td id = \"td0\" title=\"angularUnitName (Angular Unit)\">angularUnitName (Angular Unit)</td><td title=\"Degree\">Degree</td></tr><tr><td id = \"td0\" title=\"datumName (Datum)\">datumName (Datum)</td><td title=\"D_WGS_1984\">D_WGS_1984</td></tr></table>"
      ],
      "text/plain": [
       "<geoprocessing spatial reference object at 0x2a62f549710>"
      ]
     },
     "execution_count": 9,
     "metadata": {},
     "output_type": "execute_result"
    }
   ],
   "source": [
    "# get the input spatial reference\n",
    "input_sr = arcpy.Describe(input_dem).spatialReference\n",
    "input_sr"
   ]
  },
  {
   "cell_type": "code",
   "execution_count": 10,
   "metadata": {},
   "outputs": [],
   "source": [
    "# Specify the output spatial reference\n",
    "output_sr = arcpy.SpatialReference(102039)\n",
    "\n",
    "# Specify the target cell size\n",
    "cell_size = \"250\""
   ]
  },
  {
   "cell_type": "code",
   "execution_count": 11,
   "metadata": {},
   "outputs": [
    {
     "data": {
      "text/plain": [
       "'WGS_1984_(ITRF00)_To_NAD_1983'"
      ]
     },
     "execution_count": 11,
     "metadata": {},
     "output_type": "execute_result"
    }
   ],
   "source": [
    "# Define datum transform\n",
    "datum_transform = get_datum_transformation(input_sr, output_sr)\n",
    "datum_transform"
   ]
  },
  {
   "cell_type": "code",
   "execution_count": 13,
   "metadata": {},
   "outputs": [
    {
     "name": "stdout",
     "output_type": "stream",
     "text": [
      "DEM reprojected successfully\n",
      "DEM resampled successfully\n",
      "Slope calculation completed successfully!\n"
     ]
    }
   ],
   "source": [
    "# Set overwrite mode to true\n",
    "arcpy.env.overwriteOutput = True\n",
    "\n",
    "try:\n",
    "    # Project the DEM\n",
    "    arcpy.ProjectRaster_management(in_raster = input_dem,\n",
    "                                   out_raster = projected_dem,\n",
    "                                   out_coor_system = output_sr,\n",
    "                                   resampling_type = 'BILINEAR',\n",
    "                                   geographic_transform = datum_transform)\n",
    "    print(\"DEM reprojected successfully\")\n",
    "\n",
    "    # Resample the projected DEM to the target cell size\n",
    "    arcpy.Resample_management(projected_dem, resampled_dem, cell_size, \"BILINEAR\")\n",
    "    print(\"DEM resampled successfully\")\n",
    "\n",
    "    # Calculate the slope of the resampled DEM\n",
    "    arcpy.Slope_3d(resampled_dem, slope_raster, \"PERCENT_RISE\")\n",
    "    print(\"Slope calculation completed successfully!\")\n",
    "\n",
    "except arcpy.ExecuteError:\n",
    "    print(arcpy.GetMessages(2))\n",
    "except:\n",
    "    print(Exception)"
   ]
  },
  {
   "cell_type": "code",
   "execution_count": 56,
   "metadata": {},
   "outputs": [
    {
     "data": {
      "text/plain": [
       "'C:\\\\Users\\\\Zachary\\\\ASSET\\\\supplyCurve\\\\analysis\\\\data\\\\technicalExclusionRasters\\\\Wind\\\\SRTM_250m_slope_wind.tif'"
      ]
     },
     "execution_count": 56,
     "metadata": {},
     "output_type": "execute_result"
    }
   ],
   "source": [
    "# Reclassified slope raster (threshold raster) for wind\n",
    "wind_slope_threshold = os.path.join(wind_workspace, os.path.splitext(os.path.basename(slope_raster))[0]+ \"_wind.tif\")\n",
    "wind_slope_threshold"
   ]
  },
  {
   "cell_type": "code",
   "execution_count": 81,
   "metadata": {},
   "outputs": [
    {
     "data": {
      "text/plain": [
       "'C:\\\\Users\\\\Zachary\\\\ASSET\\\\supplyCurve\\\\analysis\\\\data\\\\technicalExclusionRasters\\\\Wind\\\\SRTM_250m_slope_wind_binary.tif'"
      ]
     },
     "execution_count": 81,
     "metadata": {},
     "output_type": "execute_result"
    }
   ],
   "source": [
    "# convert to binary raster\n",
    "wind_slope_binary = os.path.join(wind_workspace, os.path.splitext(os.path.basename(wind_slope_threshold))[0]+ \"_binary.tif\")\n",
    "wind_slope_binary"
   ]
  },
  {
   "cell_type": "code",
   "execution_count": 11,
   "metadata": {},
   "outputs": [],
   "source": [
    "# Define the remap table\n",
    "remap_table_wind = arcpy.sa.RemapRange([\n",
    "    [0, 20, 0],\n",
    "    [20, 2000, 1],\n",
    "])"
   ]
  },
  {
   "cell_type": "code",
   "execution_count": 12,
   "metadata": {},
   "outputs": [],
   "source": [
    "# Reclassify the slope raster using the remap table\n",
    "reclassified_wind_slope = arcpy.sa.Reclassify(slope_raster, \"VALUE\", remap_table_wind)\n",
    "\n",
    "# Save the reclassified raster to the output file path\n",
    "reclassified_wind_slope.save(wind_slope_threshold)"
   ]
  },
  {
   "cell_type": "code",
   "execution_count": 55,
   "metadata": {},
   "outputs": [
    {
     "data": {
      "text/plain": [
       "'C:\\\\Users\\\\Zachary\\\\ASSET\\\\supplyCurve\\\\analysis\\\\data\\\\technicalExclusionRasters\\\\Solar\\\\SRTM_250m_slope_solar.tif'"
      ]
     },
     "execution_count": 55,
     "metadata": {},
     "output_type": "execute_result"
    }
   ],
   "source": [
    "# Reclassified slope raster (threshold raster) for wind\n",
    "solar_slope_threshold = os.path.join(solar_workspace, os.path.splitext(os.path.basename(slope_raster))[0]+ \"_solar.tif\")\n",
    "solar_slope_threshold"
   ]
  },
  {
   "cell_type": "code",
   "execution_count": 82,
   "metadata": {},
   "outputs": [
    {
     "data": {
      "text/plain": [
       "'C:\\\\Users\\\\Zachary\\\\ASSET\\\\supplyCurve\\\\analysis\\\\data\\\\technicalExclusionRasters\\\\Solar\\\\SRTM_250m_slope_solar_binary.tif'"
      ]
     },
     "execution_count": 82,
     "metadata": {},
     "output_type": "execute_result"
    }
   ],
   "source": [
    "# convert to binary raster\n",
    "solar_slope_binary = os.path.join(solar_workspace, os.path.splitext(os.path.basename(solar_slope_threshold))[0]+ \"_binary.tif\")\n",
    "solar_slope_binary"
   ]
  },
  {
   "cell_type": "code",
   "execution_count": 14,
   "metadata": {},
   "outputs": [],
   "source": [
    "# Define the remap table\n",
    "remap_table_solar = arcpy.sa.RemapRange([\n",
    "    [0, 10, 0],\n",
    "    [10, 2000, 1],\n",
    "])"
   ]
  },
  {
   "cell_type": "code",
   "execution_count": 15,
   "metadata": {},
   "outputs": [],
   "source": [
    "# Reclassify the slope raster using the remap table\n",
    "reclassified_solar_slope = arcpy.sa.Reclassify(slope_raster, \"VALUE\", remap_table_solar)\n",
    "\n",
    "# Save the reclassified raster to the output file path\n",
    "reclassified_solar_slope.save(solar_slope_threshold)"
   ]
  },
  {
   "cell_type": "code",
   "execution_count": 85,
   "metadata": {},
   "outputs": [
    {
     "name": "stdout",
     "output_type": "stream",
     "text": [
      "Conversion to one-bit raster completed successfully. Result saved to C:\\Users\\Zachary\\ASSET\\supplyCurve\\analysis\\data\\technicalExclusionRasters\\Solar\\SRTM_250m_slope_solar_binary.tif\n",
      "Conversion to one-bit raster completed successfully. Result saved to C:\\Users\\Zachary\\ASSET\\supplyCurve\\analysis\\data\\technicalExclusionRasters\\Wind\\SRTM_250m_slope_wind_binary.tif\n"
     ]
    }
   ],
   "source": [
    "# Convert to binary raster\n",
    "convert_to_one_bit(solar_slope_threshold, solar_slope_binary)\n",
    "convert_to_one_bit(wind_slope_threshold, wind_slope_binary)"
   ]
  },
  {
   "cell_type": "code",
   "execution_count": 10,
   "metadata": {},
   "outputs": [],
   "source": [
    "# set environmental raster settings to the reclassified slope raster\n",
    "arcpy.env.snapRaster = slope_raster\n",
    "arcpy.env.extent = slope_raster\n",
    "arcpy.env.cellSize = slope_raster"
   ]
  },
  {
   "cell_type": "markdown",
   "metadata": {},
   "source": [
    "#### Get population threshold raster\n",
    "*consider reclassifying before resampling here*"
   ]
  },
  {
   "cell_type": "code",
   "execution_count": 16,
   "metadata": {},
   "outputs": [],
   "source": [
    "# Set path to input LANDSCAN raster\n",
    "landscan_usa = os.path.join(mainInputFolder,\"landscan-usa-2020-conus-day.tif\")"
   ]
  },
  {
   "cell_type": "code",
   "execution_count": 36,
   "metadata": {},
   "outputs": [],
   "source": [
    "# set paths to projected, resampled, and reclassified landscan raster\n",
    "landscan_projected = os.path.join(mainInputFolder, \"landscan_conus_2020_projected.tif\")\n",
    "landscan_resampled = os.path.join(mainInputFolder, \"landscan_conus_2020_250m.tif\")\n",
    "landscan_threshold = os.path.join(mainInputFolder, \"technicalExclusionRasters\\\\landscan_conus_2020_threshold_100.tif\")\n"
   ]
  },
  {
   "cell_type": "code",
   "execution_count": 22,
   "metadata": {},
   "outputs": [
    {
     "data": {
      "text/html": [
       "<style>table td#td0  {font-weight: bold}</style><table class=\"notebook\"><colgroup><col style=\"width:45%\"></col><col style=\"width:55%\"></col></colgroup><tr><td id = \"td0\" title=\"name (Geographic Coordinate System)\">name (Geographic Coordinate System)</td><td title=\"GCS_WGS_1984\">GCS_WGS_1984</td></tr><tr><td id = \"td0\" title=\"factoryCode (WKID)\">factoryCode (WKID)</td><td title=\"4326\">4326</td></tr><tr><td id = \"td0\" title=\"angularUnitName (Angular Unit)\">angularUnitName (Angular Unit)</td><td title=\"Degree\">Degree</td></tr><tr><td id = \"td0\" title=\"datumName (Datum)\">datumName (Datum)</td><td title=\"D_WGS_1984\">D_WGS_1984</td></tr></table>"
      ],
      "text/plain": [
       "<geoprocessing spatial reference object at 0x181a0fda270>"
      ]
     },
     "execution_count": 22,
     "metadata": {},
     "output_type": "execute_result"
    }
   ],
   "source": [
    "# Get spatial reference of landscan raster\n",
    "landscan_sr = arcpy.Describe(landscan_usa).spatialReference\n",
    "landscan_sr"
   ]
  },
  {
   "cell_type": "code",
   "execution_count": 23,
   "metadata": {},
   "outputs": [
    {
     "data": {
      "text/plain": [
       "'WGS_1984_(ITRF00)_To_NAD_1983'"
      ]
     },
     "execution_count": 23,
     "metadata": {},
     "output_type": "execute_result"
    }
   ],
   "source": [
    "# Get datum transform\n",
    "landscan_datum_transform = get_datum_transformation(landscan_sr, output_sr)\n",
    "landscan_datum_transform"
   ]
  },
  {
   "cell_type": "code",
   "execution_count": 24,
   "metadata": {},
   "outputs": [
    {
     "name": "stdout",
     "output_type": "stream",
     "text": [
      "LANDSCAN reprojected successfully\n",
      "LANDSCAN resampled successfully\n"
     ]
    }
   ],
   "source": [
    "try:\n",
    "    # Project the LANDSCAN raster\n",
    "    arcpy.ProjectRaster_management(in_raster = landscan_usa,\n",
    "                                   out_raster = landscan_projected,\n",
    "                                   out_coor_system = output_sr,\n",
    "                                   resampling_type = 'BILINEAR',\n",
    "                                   geographic_transform = datum_transform)\n",
    "    print(\"LANDSCAN reprojected successfully\")\n",
    "\n",
    "    # Resample the projected LANDSCAN raster to the target cell size\n",
    "    arcpy.Resample_management(landscan_projected, landscan_resampled, cell_size, \"BILINEAR\")\n",
    "    print(\"LANDSCAN resampled successfully\")\n",
    "    \n",
    "except arcpy.ExecuteError:\n",
    "    print(arcpy.GetMessages(2))\n",
    "except:\n",
    "    print(Exception)"
   ]
  },
  {
   "cell_type": "code",
   "execution_count": 25,
   "metadata": {},
   "outputs": [],
   "source": [
    "# Define the remap table\n",
    "landscan_remap = arcpy.sa.RemapRange([\n",
    "[0,0.81, 0],\n",
    "[0.81, 15500, 1]\n",
    "])"
   ]
  },
  {
   "cell_type": "code",
   "execution_count": 27,
   "metadata": {},
   "outputs": [],
   "source": [
    "# Reclassify the LANDSCAN raster using the remap table\n",
    "landscan_reclassified = arcpy.sa.Reclassify(landscan_resampled, \"VALUE\", landscan_remap)\n",
    "\n",
    "# Save the reclassified raster to the output file path\n",
    "landscan_reclassified.save(landscan_threshold)"
   ]
  },
  {
   "cell_type": "code",
   "execution_count": 64,
   "metadata": {},
   "outputs": [
    {
     "data": {
      "text/plain": [
       "'C:\\\\Users\\\\Zachary\\\\ASSET\\\\supplyCurve\\\\analysis\\\\data\\\\technicalExclusionRasters\\\\landscan_conus_2020_threshold_100_binary.tif'"
      ]
     },
     "execution_count": 64,
     "metadata": {},
     "output_type": "execute_result"
    }
   ],
   "source": [
    "# Set path to binary raster \n",
    "landscan_binary = os.path.join(mainInputFolder, \"technicalExclusionRasters\\\\landscan_conus_2020_threshold_100_binary.tif\")\n",
    "landscan_binary"
   ]
  },
  {
   "cell_type": "code",
   "execution_count": 86,
   "metadata": {},
   "outputs": [
    {
     "name": "stdout",
     "output_type": "stream",
     "text": [
      "Conversion to one-bit raster completed successfully. Result saved to C:\\Users\\Zachary\\ASSET\\supplyCurve\\analysis\\data\\technicalExclusionRasters\\landscan_conus_2020_threshold_100_binary.tif\n"
     ]
    }
   ],
   "source": [
    "# convert to binary raster\n",
    "convert_to_one_bit(landscan_threshold, landscan_binary)"
   ]
  },
  {
   "cell_type": "markdown",
   "metadata": {},
   "source": [
    "#### Get Flood Threshold Raster"
   ]
  },
  {
   "cell_type": "code",
   "execution_count": 11,
   "metadata": {},
   "outputs": [],
   "source": [
    "# Set path to flood hazard layer\n",
    "flood_hazard = os.path.join(mainInputFolder, \"floodHazard.gdb\\\\FEMA_flood_hazard_zones\")\n"
   ]
  },
  {
   "cell_type": "code",
   "execution_count": 12,
   "metadata": {},
   "outputs": [],
   "source": [
    "# Set path to projected flood hazard layer and raster layer\n",
    "flood_hazard_projected = os.path.join(mainInputFolder, \"floodHazard.gdb\\\\FEMA_flood_hazard_zones_projected\")\n",
    "flood_hazard_raster = os.path.join(mainInputFolder, \"technicalExclusionRasters\\\\FEMA_flood_hazard_zones.tif\")"
   ]
  },
  {
   "cell_type": "code",
   "execution_count": 13,
   "metadata": {},
   "outputs": [
    {
     "data": {
      "text/html": [
       "<style>table td#td0  {font-weight: bold}</style><table class=\"notebook\"><colgroup><col style=\"width:45%\"></col><col style=\"width:55%\"></col></colgroup><tr><td id = \"td0\" title=\"name (Geographic Coordinate System)\">name (Geographic Coordinate System)</td><td title=\"GCS_North_American_1983\">GCS_North_American_1983</td></tr><tr><td id = \"td0\" title=\"factoryCode (WKID)\">factoryCode (WKID)</td><td title=\"4269\">4269</td></tr><tr><td id = \"td0\" title=\"angularUnitName (Angular Unit)\">angularUnitName (Angular Unit)</td><td title=\"Degree\">Degree</td></tr><tr><td id = \"td0\" title=\"datumName (Datum)\">datumName (Datum)</td><td title=\"D_North_American_1983\">D_North_American_1983</td></tr></table>"
      ],
      "text/plain": [
       "<geoprocessing spatial reference object at 0x232e3159ef0>"
      ]
     },
     "execution_count": 13,
     "metadata": {},
     "output_type": "execute_result"
    }
   ],
   "source": [
    "# Get flood hazard projection\n",
    "flood_hazard_sr = arcpy.Describe(flood_hazard).spatialReference\n",
    "flood_hazard_sr"
   ]
  },
  {
   "cell_type": "code",
   "execution_count": 14,
   "metadata": {},
   "outputs": [],
   "source": [
    "# get datum transformation\n",
    "flood_hazard_datum_transformation = get_datum_transformation(flood_hazard_sr, output_sr)\n",
    "flood_hazard_datum_transformation"
   ]
  },
  {
   "cell_type": "code",
   "execution_count": 15,
   "metadata": {},
   "outputs": [
    {
     "name": "stdout",
     "output_type": "stream",
     "text": [
      "flood hazard reprojected successfully\n"
     ]
    }
   ],
   "source": [
    "# Project the flood hazard layer\n",
    "try:\n",
    "    arcpy.Project_management(in_dataset = flood_hazard,\n",
    "                                   out_dataset = flood_hazard_projected,\n",
    "                                   out_coor_system = output_sr,\n",
    "                                   transform_method = flood_hazard_datum_transformation)\n",
    "    print(\"flood hazard reprojected successfully\")\n",
    " \n",
    "except arcpy.ExecuteError:\n",
    "    print(arcpy.GetMessages(2))\n",
    "except:\n",
    "    print(Exception)"
   ]
  },
  {
   "cell_type": "code",
   "execution_count": 15,
   "metadata": {},
   "outputs": [
    {
     "name": "stdout",
     "output_type": "stream",
     "text": [
      "'occupancy' field already exists in FEMA_flood_hazard_zones_projected\n"
     ]
    },
    {
     "data": {
      "text/html": [
       "<div class='gpresult'><h2>Messages</h2><div id='messages' data-messages='[\"Start Time: Monday, July 31, 2023 3:06:01 PM\",\"Succeeded at Monday, July 31, 2023 3:16:12 PM (Elapsed Time: 10 minutes 11 seconds)\"]' data-show='true'><div id = 'default' /></div></div>"
      ],
      "text/plain": [
       "<Result 'C:\\\\Users\\\\Zachary\\\\ASSET\\\\supplyCurve\\\\analysis\\\\data\\\\technicalExclusionRasters\\\\FEMA_flood_hazard_zones.tif'>"
      ]
     },
     "execution_count": 15,
     "metadata": {},
     "output_type": "execute_result"
    }
   ],
   "source": [
    "# add occupancy field to the flood hazard layer and convert to raster\n",
    "add_occupancy_field(flood_hazard_projected)\n",
    "arcpy.conversion.FeatureToRaster(in_features = flood_hazard_projected,\n",
    "                                 field = \"occupancy\",\n",
    "                                 out_raster = flood_hazard_raster)"
   ]
  },
  {
   "cell_type": "markdown",
   "metadata": {},
   "source": [
    "#### Mosaic the technical threshold rasters"
   ]
  },
  {
   "cell_type": "code",
   "execution_count": 87,
   "metadata": {},
   "outputs": [],
   "source": [
    "# create a list of rasters to mosaic\n",
    "wind_rasters = [flood_hazard_raster, landscan_binary, wind_slope_binary]\n",
    "solar_rasters = [flood_hazard_raster, landscan_binary, solar_slope_binary]"
   ]
  },
  {
   "cell_type": "code",
   "execution_count": 88,
   "metadata": {},
   "outputs": [],
   "source": [
    "mosaic_workspace = os.path.join(mainInputFolder, \"technicalExclusionRasters\\\\Mosaic\")\n",
    "mosaic_name_wind = \"technicalExclusionMosaic_Wind.tif\"\n",
    "mosaic_name_solar = \"technicalExclusionMosaic_Solar.tif\""
   ]
  },
  {
   "cell_type": "code",
   "execution_count": 90,
   "metadata": {},
   "outputs": [
    {
     "data": {
      "text/html": [
       "<div class='gpresult'><h2>Messages</h2><div id='messages' data-messages='[\"Start Time: Monday, July 31, 2023 5:31:07 PM\",\"Building Pyramids...\",\"Succeeded at Monday, July 31, 2023 5:31:20 PM (Elapsed Time: 12.95 seconds)\"]' data-show='true'><div id = 'default' /></div></div>"
      ],
      "text/plain": [
       "<Result 'C:\\\\Users\\\\Zachary\\\\ASSET\\\\supplyCurve\\\\analysis\\\\data\\\\technicalExclusionRasters\\\\Mosaic\\\\technicalExclusionMosaic_Solar.tif'>"
      ]
     },
     "execution_count": 90,
     "metadata": {},
     "output_type": "execute_result"
    }
   ],
   "source": [
    "# Perform the mosaic using MosaicToNewRaster_management function\n",
    "arcpy.MosaicToNewRaster_management(solar_rasters, mosaic_workspace, mosaic_name_solar, pixel_type=\"1_BIT\", number_of_bands=1)"
   ]
  }
 ],
 "metadata": {
  "kernelspec": {
   "display_name": "Python 3",
   "language": "python",
   "name": "python3"
  },
  "language_info": {
   "codemirror_mode": {
    "name": "ipython",
    "version": 3
   },
   "file_extension": ".py",
   "mimetype": "text/x-python",
   "name": "python",
   "nbconvert_exporter": "python",
   "pygments_lexer": "ipython3",
   "version": "3.7.10"
  },
  "orig_nbformat": 4
 },
 "nbformat": 4,
 "nbformat_minor": 2
}
