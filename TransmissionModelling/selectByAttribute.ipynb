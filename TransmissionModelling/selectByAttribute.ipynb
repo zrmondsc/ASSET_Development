{
 "cells": [
  {
   "cell_type": "markdown",
   "metadata": {},
   "source": [
    "### Split Transmission Line Dataset by Voltage Class\n",
    "This notebook is the first notebook in the `Phase 3: Transmission Modelling` workflow. We split the Homeand Infrastructure Foundation Level Database (HIFLD) Transmission_Lines dataset into 8 geodatabase feature classes based on their 'VOLT_CLASS' attribute. For subsequent analyses, we concern ourselves with the 5 most common voltage classes: under_100, 100_161v, 220-287v, 345v, and 500v. "
   ]
  },
  {
   "cell_type": "code",
   "execution_count": 53,
   "metadata": {},
   "outputs": [],
   "source": [
    "import arcpy\n",
    "import os\n",
    "from arcpy import env\n",
    "from arcpy.sa import *"
   ]
  },
  {
   "cell_type": "markdown",
   "metadata": {},
   "source": [
    "#### Set Input and Output Paths"
   ]
  },
  {
   "cell_type": "code",
   "execution_count": 54,
   "metadata": {},
   "outputs": [],
   "source": [
    "# Set paths to input and output workspaces\n",
    "mainInputFolder = 'C:\\\\Users\\\\Zachary\\\\ASSET\\\\Transmission\\\\analysis\\\\data\\\\YifanData'\n",
    "output_workspace = 'C:\\\\Users\\\\Zachary\\\\ASSET\\\\Transmission\\\\analysis\\\\data\\\\TransmissionLines.gdb'\n",
    "\n",
    "arcpy.env.workspace = mainInputFolder\n",
    "arcpy.env.overwriteOutput = True"
   ]
  },
  {
   "cell_type": "code",
   "execution_count": 55,
   "metadata": {},
   "outputs": [],
   "source": [
    "# Create output workspace\n",
    "if not arcpy.Exists(output_workspace):\n",
    "    arcpy.CreateFileGDB_management(out_folder_path=os.path.dirname(output_workspace),\n",
    "                                   out_name=os.path.basename(output_workspace))"
   ]
  },
  {
   "cell_type": "code",
   "execution_count": 56,
   "metadata": {},
   "outputs": [],
   "source": [
    "# Set path to table\n",
    "table_path = os.path.join(mainInputFolder, 'Electric_Power_Transmission_Lines_project.shp')\n"
   ]
  },
  {
   "cell_type": "markdown",
   "metadata": {},
   "source": [
    "#### Identify Voltage Classes"
   ]
  },
  {
   "cell_type": "code",
   "execution_count": null,
   "metadata": {},
   "outputs": [],
   "source": [
    "# Get table fields\n",
    "field_names = arcpy.ListFields(table_path)\n",
    "field_list = []\n",
    "for field in field_names:\n",
    "    field_list.append(field.name)\n",
    "    print(field.name)"
   ]
  },
  {
   "cell_type": "code",
   "execution_count": null,
   "metadata": {},
   "outputs": [],
   "source": [
    "# Preview Attribute Table\n",
    "with arcpy.da.SearchCursor(table_path, field_list) as cursor:\n",
    "    for row in cursor:\n",
    "        print(row)"
   ]
  },
  {
   "cell_type": "code",
   "execution_count": 59,
   "metadata": {},
   "outputs": [],
   "source": [
    "# Create a set to store unique voltage classes (sets have no duplicate elements)\n",
    "voltage_classes = set()"
   ]
  },
  {
   "cell_type": "code",
   "execution_count": 60,
   "metadata": {},
   "outputs": [],
   "source": [
    "# Store unique voltage classes in the set\n",
    "with arcpy.da.SearchCursor(table_path, field_list[14]) as cursor:\n",
    "    for row in cursor:\n",
    "        value = row[0]\n",
    "        voltage_classes.add(value)\n"
   ]
  },
  {
   "cell_type": "code",
   "execution_count": null,
   "metadata": {},
   "outputs": [],
   "source": [
    "# View the voltage classes\n",
    "voltage_classes\n",
    "\n",
    "# Create corresponding voltage list for naming\n",
    "voltage_list = [voltage_class.replace('-', '_').replace(' ', '_') for voltage_class in voltage_classes]\n",
    "voltage_list = [voltage.lower() for voltage in voltage_list]\n",
    "voltage_list"
   ]
  },
  {
   "cell_type": "markdown",
   "metadata": {},
   "source": [
    "#### Generate Transmission Line Features by Voltage Class"
   ]
  },
  {
   "cell_type": "code",
   "execution_count": null,
   "metadata": {},
   "outputs": [],
   "source": [
    "for voltage_class, voltage_name in zip(voltage_classes, voltage_list):\n",
    "    \n",
    "    # Output feature class name\n",
    "    output_feature_class = \"voltage_{}\".format(voltage_name)\n",
    "\n",
    "    # Use the MakeFeatureLayer to create a temp layer \n",
    "    arcpy.MakeFeatureLayer_management(table_path, \"temp_layer\", \"VOLT_CLASS = '{}'\".format(voltage_class))\n",
    "\n",
    "    # Copy the temp layer to the output workspace\n",
    "    arcpy.CopyFeatures_management(\"temp_layer\", \"{}\\\\{}\".format(output_workspace, output_feature_class))\n",
    "\n",
    "    # Delete the temp layer\n",
    "    arcpy.Delete_management(\"temp_layer\")\n",
    "\n",
    "    # Print \n",
    "    print(\"Created Feature Class {} in {}\".format(output_feature_class, os.path.basename(output_workspace)))"
   ]
  },
  {
   "cell_type": "code",
   "execution_count": null,
   "metadata": {},
   "outputs": [],
   "source": [
    "os.path.basename(output_workspace)"
   ]
  }
 ],
 "metadata": {
  "kernelspec": {
   "display_name": "development",
   "language": "python",
   "name": "python3"
  },
  "language_info": {
   "codemirror_mode": {
    "name": "ipython",
    "version": 3
   },
   "file_extension": ".py",
   "mimetype": "text/x-python",
   "name": "python",
   "nbconvert_exporter": "python",
   "pygments_lexer": "ipython3",
   "version": "3.7.10"
  },
  "orig_nbformat": 4
 },
 "nbformat": 4,
 "nbformat_minor": 2
}
