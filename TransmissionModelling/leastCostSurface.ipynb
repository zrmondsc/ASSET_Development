{
 "cells": [
  {
   "cell_type": "code",
   "execution_count": 2,
   "metadata": {},
   "outputs": [],
   "source": [
    "import arcpy\n",
    "import os\n",
    "from arcpy import env\n",
    "from arcpy.sa import *"
   ]
  },
  {
   "cell_type": "markdown",
   "metadata": {},
   "source": [
    "#### Define useful functions"
   ]
  },
  {
   "cell_type": "code",
   "execution_count": 3,
   "metadata": {},
   "outputs": [],
   "source": [
    "# grab all rasters from a given folder folder or geodatabase\n",
    "def get_rasters(workspace):\n",
    "    # Get the current workspace\n",
    "    previous_workspace = arcpy.env.workspace\n",
    "\n",
    "    try:\n",
    "        # Set the new workspace\n",
    "        arcpy.env.workspace = workspace\n",
    "        \n",
    "        # Get a list of all feature classes in the workspace\n",
    "        rasters = arcpy.ListRasters()\n",
    "\n",
    "        # Return the list of feature classes\n",
    "        return rasters\n",
    "\n",
    "    finally:\n",
    "        # Reset the workspace to the previous workspace\n",
    "        arcpy.env.workspace = previous_workspace"
   ]
  },
  {
   "cell_type": "code",
   "execution_count": 4,
   "metadata": {},
   "outputs": [],
   "source": [
    "# Function to perform reclassification\n",
    "def discrete_reclassify(input_raster, remap_table):\n",
    "    \n",
    "    # sets scratchworkspace to scratch.gdb\n",
    "    arcpy.env.scratchWorkspace = scratch_folder \n",
    "\n",
    "    # check if scratch folder exists, if not create it\n",
    "    if not os.path.exists(arcpy.env.scratchWorkspace): \n",
    "        os.makedirs(arcpy.env.scratchWorkspace)   \n",
    "\n",
    "    # Create the reclassified raster path\n",
    "    reclassified_raster_name = os.path.splitext(input_raster)[0] + \"_reclass.tif\"\n",
    "\n",
    "    reclassified_raster_path = os.path.join(scratch_folder, reclassified_raster_name)\n",
    "\n",
    "    # Get the remap table path\n",
    "    remap_table_path = os.path.join(remap_table_gdb, remap_table)\n",
    "\n",
    "    # Parse the geodatabase table and create a remap object\n",
    "    remap_value = []\n",
    "    with arcpy.da.SearchCursor(remap_table_path, [\"OldValue\", \"NewValue\"]) as cursor:\n",
    "        for row in cursor:\n",
    "            remap_value.append(tuple(row))\n",
    "\n",
    "    # Create a RemapRange object\n",
    "    remap = arcpy.sa.RemapValue(remap_value)\n",
    "\n",
    "\n",
    "    # Reclassify raster\n",
    "    reclassified_raster = Reclassify(in_raster = input_raster, reclass_field = \"Value\", remap = remap, missing_values = \"DATA\")\n",
    "    reclassified_raster.save(reclassified_raster_path)"
   ]
  },
  {
   "cell_type": "code",
   "execution_count": 5,
   "metadata": {},
   "outputs": [],
   "source": [
    "def continuous_reclassify(input_raster, remap_table):\n",
    "    # sets scratchworkspace to scratch.gdb\n",
    "    arcpy.env.scratchWorkspace = scratch_folder \n",
    "\n",
    "    # check if scratch folder exists, if not create it\n",
    "    if not os.path.exists(arcpy.env.scratchWorkspace): \n",
    "        os.makedirs(arcpy.env.scratchWorkspace)\n",
    "    \n",
    "    # Create the reclassified raster path\n",
    "    reclassified_raster_name = os.path.splitext(input_raster)[0] + \"_reclass.tif\"\n",
    "\n",
    "    reclassified_raster_path = os.path.join(scratch_folder, reclassified_raster_name)\n",
    "\n",
    "    # Get the remap table path\n",
    "    remap_table_path = os.path.join(remap_table_gdb, remap_table)\n",
    "\n",
    "    # Parse the geodatabase table and create a remap object\n",
    "    remap_range = []\n",
    "    with arcpy.da.SearchCursor(remap_table_path, [\"FromValue\", \"ToValue\", \"OutputValue\"]) as cursor:\n",
    "        for row in cursor:\n",
    "            remap_range.append(row)\n",
    "\n",
    "    # Create a RemapRange object\n",
    "    remap = arcpy.sa.RemapRange(remap_range)\n",
    "\n",
    "    # Reclassify raster\n",
    "    reclassified_raster = Reclassify(in_raster = input_raster, reclass_field = \"VALUE\", remap = remap, missing_values = \"DATA\")\n",
    "    reclassified_raster.save(reclassified_raster_path)"
   ]
  },
  {
   "cell_type": "markdown",
   "metadata": {},
   "source": [
    "#### Set input and output paths, set environmental variables for raster analysis"
   ]
  },
  {
   "cell_type": "code",
   "execution_count": 6,
   "metadata": {},
   "outputs": [
    {
     "name": "stdout",
     "output_type": "stream",
     "text": [
      "Geodatabase 'leastCostPathResults.gdb' already exists at 'C:\\Users\\Zachary\\ASSET\\Transmission\\analysis\\data\\'.\n"
     ]
    }
   ],
   "source": [
    "# set input and output folder, create output file geodatabase\n",
    "mainInputFolder = \"C:\\\\Users\\\\Zachary\\\\ASSET\\\\Transmission\\\\analysis\\\\data\" # enter path to input folder\n",
    "mainOutputFolder = \"C:\\\\Users\\\\Zachary\\\\ASSET\\\\Transmission\\\\analysis\\\\data\\\\\" # enter path to output folder\n",
    "\n",
    "gdbFileName = \"leastCostPathResults.gdb\" # enter name of output geodatabase\n",
    "gdbPath = os.path.join(mainOutputFolder, gdbFileName)\n",
    "if not arcpy.Exists(gdbPath):\n",
    "    arcpy.CreateFileGDB_management(mainOutputFolder, gdbFileName)\n",
    "else:\n",
    "    print(f\"Geodatabase '{gdbFileName}' already exists at '{mainOutputFolder}'.\")"
   ]
  },
  {
   "cell_type": "code",
   "execution_count": 7,
   "metadata": {},
   "outputs": [
    {
     "name": "stdout",
     "output_type": "stream",
     "text": [
      "'C:\\Users\\Zachary\\ASSET\\Transmission\\analysis\\data\\scratch' already exists at 'C:\\Users\\Zachary\\ASSET\\Transmission\\analysis\\data\\'.\n"
     ]
    }
   ],
   "source": [
    "# set scratchworkspace to output workspace\n",
    "scratch_folder = os.path.join(mainOutputFolder, \"scratch\")\n",
    "if not arcpy.Exists(scratch_folder):\n",
    "    os.makedirs(scratch_folder)\n",
    "    print(\"Scratch folder created successfully.\")\n",
    "else:\n",
    "    print(f\"'{scratch_folder}' already exists at '{mainOutputFolder}'.\")"
   ]
  },
  {
   "cell_type": "code",
   "execution_count": 8,
   "metadata": {},
   "outputs": [],
   "source": [
    "# set path to remap tables\n",
    "remap_table_gdb = os.path.join(mainInputFolder, \"remapTables.gdb\") # enter path to remap table geodatabase"
   ]
  },
  {
   "cell_type": "code",
   "execution_count": 32,
   "metadata": {},
   "outputs": [],
   "source": [
    "# set environments\n",
    "scratch_folder = os.path.join(mainOutputFolder, \"scratch\") # creates scratch geodatabase in output folder\n",
    "raster_workspace = os.path.join(mainInputFolder, \"inputRasters\")\n",
    "\n",
    "\n",
    "arcpy.env.scratchWorkspace = scratch_folder\n",
    "arcpy.env.workspace = raster_workspace\n",
    "arcpy.env.overwriteOutput = True"
   ]
  },
  {
   "cell_type": "code",
   "execution_count": 11,
   "metadata": {},
   "outputs": [],
   "source": [
    "# set input paths:\n",
    "slope_raster = os.path.join(mainInputFolder, \"inputRasters\\\\slope.tif\") # enter path to dem raster\n",
    "nlcd_reclass = os.path.join(scratch_folder, \"nlcd_cat_reclass.tif\") # enter path to reclassified landcover raster"
   ]
  },
  {
   "cell_type": "code",
   "execution_count": 12,
   "metadata": {},
   "outputs": [],
   "source": [
    "# set environmental raster settings to the DEM raster, don't forget to resample cell sizes to 250m \n",
    "arcpy.env.snapRaster = slope_raster\n",
    "arcpy.env.extent = slope_raster"
   ]
  },
  {
   "cell_type": "markdown",
   "metadata": {},
   "source": [
    "#### Reclassify Input Rasters"
   ]
  },
  {
   "cell_type": "code",
   "execution_count": 39,
   "metadata": {},
   "outputs": [
    {
     "data": {
      "text/plain": [
       "['exclusion_cat.tif', 'whp2020_cat.tif']"
      ]
     },
     "execution_count": 39,
     "metadata": {},
     "output_type": "execute_result"
    }
   ],
   "source": [
    "\n",
    "cat_raster_list = [raster for raster in arcpy.ListRasters(\"*cat*\")]\n",
    "cont_raster_list = [raster for raster in arcpy.ListRasters() if \"_cat\" not in raster]\n",
    "cat_raster_list"
   ]
  },
  {
   "cell_type": "code",
   "execution_count": 15,
   "metadata": {},
   "outputs": [
    {
     "name": "stdout",
     "output_type": "stream",
     "text": [
      "categorical rasters reclassified successfully\n"
     ]
    }
   ],
   "source": [
    "for raster in cat_raster_list:\n",
    "\n",
    "    # set remap table name\n",
    "    remap_table = os.path.splitext(raster)[0] + \"_remap_table\"\n",
    "\n",
    "    discrete_reclassify(raster, remap_table)\n",
    "        \n",
    "print(\"categorical rasters reclassified successfully\")\n",
    "    "
   ]
  },
  {
   "cell_type": "code",
   "execution_count": 16,
   "metadata": {},
   "outputs": [
    {
     "name": "stdout",
     "output_type": "stream",
     "text": [
      "continuous rasters reclassified successfully\n"
     ]
    }
   ],
   "source": [
    "for raster in cont_raster_list:\n",
    "\n",
    "    # set remap table name\n",
    "    remap_table = os.path.splitext(raster)[0] + \"_remap_table\"\n",
    "\n",
    "    continuous_reclassify(raster, remap_table)\n",
    "        \n",
    "print(\"continuous rasters reclassified successfully\")"
   ]
  },
  {
   "cell_type": "markdown",
   "metadata": {},
   "source": [
    "#### Create Cost Surface"
   ]
  },
  {
   "cell_type": "code",
   "execution_count": 62,
   "metadata": {},
   "outputs": [
    {
     "data": {
      "text/plain": [
       "[exclusion_cat_reclass.tif,\n",
       " landscan_reclass.tif,\n",
       " nlcd_cat_reclass.tif,\n",
       " slope_reclass.tif,\n",
       " whp2020_cat_reclass.tif]"
      ]
     },
     "execution_count": 62,
     "metadata": {},
     "output_type": "execute_result"
    }
   ],
   "source": [
    "arcpy.env.workspace = scratch_folder\n",
    "arcpy.env.overwriteOutput = True\n",
    "arcpy.env.snapRaster = slope_raster\n",
    "arcpy.env.extent = slope_raster\n",
    "\n",
    "raster_reclass_list = [Raster(raster) for raster in arcpy.ListRasters()]\n",
    "raster_reclass_list"
   ]
  },
  {
   "cell_type": "code",
   "execution_count": 63,
   "metadata": {},
   "outputs": [
    {
     "data": {
      "text/plain": [
       "'\"exclusion_cat_reclass.tif\"*.001*\"landscan_reclass.tif\"*.001*\"nlcd_cat_reclass.tif\"*.001*\"slope_reclass.tif\"*.001*\"whp2020_cat_reclass.tif\"*.001'"
      ]
     },
     "execution_count": 63,
     "metadata": {},
     "output_type": "execute_result"
    }
   ],
   "source": [
    "# Build the raster calculator expression to calculate the final output raster\n",
    "expression = '*'.join([f'\"{raster}\"*.001' for raster in raster_reclass_list])\n",
    "expression"
   ]
  },
  {
   "cell_type": "code",
   "execution_count": 64,
   "metadata": {},
   "outputs": [
    {
     "data": {
      "text/html": [
       "<div class='gpresult'><h2>Messages</h2><div id='messages' data-messages='[\"Start Time: Wednesday, August 16, 2023 8:52:59 PM\",\"Raster(r\\\"exclusion_cat_reclass.tif\\\")*.001*Raster(r\\\"landscan_reclass.tif\\\")*.001*Raster(r\\\"nlcd_cat_reclass.tif\\\")*.001*Raster(r\\\"slope_reclass.tif\\\")*.001*Raster(r\\\"whp2020_cat_reclass.tif\\\")*.001\",\"Succeeded at Wednesday, August 16, 2023 8:53:33 PM (Elapsed Time: 34.04 seconds)\"]' data-show='true'><div id = 'default' /></div></div>"
      ],
      "text/plain": [
       "<geoprocessing server result object at 0x176a8a133f0>"
      ]
     },
     "execution_count": 64,
     "metadata": {},
     "output_type": "execute_result"
    }
   ],
   "source": [
    "# set output path for raster calculator expression\n",
    "output_path = os.path.join(mainInputFolder, \"CostRaster\\\\costSurface.tif\")\n",
    "arcpy.gp.RasterCalculator_sa(expression, output_path)"
   ]
  },
  {
   "cell_type": "markdown",
   "metadata": {},
   "source": [
    "#### Create cost surface sans Fire Risk "
   ]
  },
  {
   "cell_type": "code",
   "execution_count": 65,
   "metadata": {},
   "outputs": [
    {
     "data": {
      "text/plain": [
       "[exclusion_cat_reclass.tif,\n",
       " landscan_reclass.tif,\n",
       " nlcd_cat_reclass.tif,\n",
       " slope_reclass.tif]"
      ]
     },
     "execution_count": 65,
     "metadata": {},
     "output_type": "execute_result"
    }
   ],
   "source": [
    "raster_reclass_no_fire = [Raster(raster) for raster in arcpy.ListRasters() if \"whp\" not in raster]\n",
    "raster_reclass_no_fire"
   ]
  },
  {
   "cell_type": "code",
   "execution_count": 66,
   "metadata": {},
   "outputs": [
    {
     "data": {
      "text/plain": [
       "'\"exclusion_cat_reclass.tif\"*.001*\"landscan_reclass.tif\"*.001*\"nlcd_cat_reclass.tif\"*.001*\"slope_reclass.tif\"*.001'"
      ]
     },
     "execution_count": 66,
     "metadata": {},
     "output_type": "execute_result"
    }
   ],
   "source": [
    "# Build the raster calculator expression to calculate the final output raster\n",
    "expression = '*'.join([f'\"{raster}\"*.001' for raster in raster_reclass_no_fire])\n",
    "expression"
   ]
  },
  {
   "cell_type": "code",
   "execution_count": 67,
   "metadata": {},
   "outputs": [
    {
     "data": {
      "text/html": [
       "<div class='gpresult'><h2>Messages</h2><div id='messages' data-messages='[\"Start Time: Wednesday, August 16, 2023 8:55:44 PM\",\"Raster(r\\\"exclusion_cat_reclass.tif\\\")*.001*Raster(r\\\"landscan_reclass.tif\\\")*.001*Raster(r\\\"nlcd_cat_reclass.tif\\\")*.001*Raster(r\\\"slope_reclass.tif\\\")*.001\",\"Succeeded at Wednesday, August 16, 2023 8:56:12 PM (Elapsed Time: 28.83 seconds)\"]' data-show='true'><div id = 'default' /></div></div>"
      ],
      "text/plain": [
       "<geoprocessing server result object at 0x176af4078d0>"
      ]
     },
     "execution_count": 67,
     "metadata": {},
     "output_type": "execute_result"
    }
   ],
   "source": [
    "# set output path for raster calculator expression\n",
    "output_path = os.path.join(mainInputFolder, \"CostRaster\\\\costSurfaceNoFire.tif\")\n",
    "arcpy.gp.RasterCalculator_sa(expression, output_path)"
   ]
  },
  {
   "cell_type": "code",
   "execution_count": null,
   "metadata": {},
   "outputs": [],
   "source": []
  }
 ],
 "metadata": {
  "kernelspec": {
   "display_name": "Python 3",
   "language": "python",
   "name": "python3"
  },
  "language_info": {
   "codemirror_mode": {
    "name": "ipython",
    "version": 3
   },
   "file_extension": ".py",
   "mimetype": "text/x-python",
   "name": "python",
   "nbconvert_exporter": "python",
   "pygments_lexer": "ipython3",
   "version": "3.9.16"
  },
  "orig_nbformat": 4
 },
 "nbformat": 4,
 "nbformat_minor": 2
}
