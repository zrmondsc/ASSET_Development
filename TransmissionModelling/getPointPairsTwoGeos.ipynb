{
 "cells": [
  {
   "cell_type": "markdown",
   "metadata": {},
   "source": [
    "### Get Two Nearest Features for Each Grid Centroid\n",
    "This notebook is the second notebook in the `Phase 3: Transmission Modelling` workflow. We iterate through each grid dataset, and each transmission line dataset, and generate a 'Near Table' containing the coordinates, distance, and feature ID for the closest two transmission lines to each grid cell centroid. The relationships established in this notebook become the basis for the least cost path analysis in part 3.  "
   ]
  },
  {
   "cell_type": "code",
   "execution_count": 1,
   "metadata": {},
   "outputs": [],
   "source": [
    "import arcpy \n",
    "import os\n",
    "from arcpy import env\n",
    "from arcpy.sa import *"
   ]
  },
  {
   "cell_type": "markdown",
   "metadata": {},
   "source": [
    "#### Define Useful Functions"
   ]
  },
  {
   "cell_type": "code",
   "execution_count": null,
   "metadata": {},
   "outputs": [],
   "source": [
    "def getCentroid(grid_fc, cpa_fc = wind_area): # we will only use wind cpa because that excludes less land\n",
    "\n",
    "    # Select all grid cells that overlap with our CPAs\n",
    "    grid_cells = arcpy.management.SelectLayerByLocation(grid_fc, 'INTERSECT', \n",
    "                                                          cpa_fc, 0, \n",
    "                                                          'NEW_SELECTION') \n",
    "\n",
    "    # Get name of input grid\n",
    "    grid_name = os.path.splitext(os.path.basename(grid_fc))[0]\n",
    "\n",
    "    # Get name of area\n",
    "    area_name = os.path.splitext(os.path.basename(cpa_fc))[0]\n",
    "\n",
    "    # Set ouput feature class name\n",
    "    output_name = \"{}_centroid\".format(grid_name) \n",
    "    output_path = os.path.join(centroid_workspace, output_name)\n",
    "\n",
    "    # Convert polygon feature class to point feature class, with the point representing the CENTROID of the feature\n",
    "    centroid_fc = arcpy.management.FeatureToPoint(grid_cells, output_path, \"CENTROID\")\n",
    "\n",
    "    print(f'{output_path}')\n",
    "    print(\"centroid saved to {}\".format(output_path))"
   ]
  },
  {
   "cell_type": "code",
   "execution_count": null,
   "metadata": {},
   "outputs": [],
   "source": [
    "def getFeatureClasses(input_workspace):\n",
    "    previous_workspace = arcpy.env.workspace\n",
    "    try:\n",
    "        arcpy.env.workspace = input_workspace\n",
    "        feature_class_list = arcpy.ListFeatureClasses()\n",
    "        return feature_class_list\n",
    "    finally:\n",
    "        arcpy.env.workspace = previous_workspace"
   ]
  },
  {
   "cell_type": "markdown",
   "metadata": {},
   "source": [
    "#### Set Input and Output Paths"
   ]
  },
  {
   "cell_type": "code",
   "execution_count": 2,
   "metadata": {},
   "outputs": [],
   "source": [
    "# Paths to grids \n",
    "cesm2_grid = \"C:\\\\Users\\\\Zachary\\\\ASSET\\\\resourceAssessment\\\\analysis\\\\data\\\\grids.gdb\\\\cesm2_base_grid\"\n",
    "era5_grid = \"C:\\\\Users\\\\Zachary\\\\ASSET\\\\resourceAssessment\\\\analysis\\\\data\\\\grids.gdb\\\\era5_base_grid\"\n",
    "solar_area = \"C:\\\\Users\\\\Zachary\\\\ASSET\\\\resourceAssessment\\\\analysis\\\\data\\\\resourceAssessment.gdb\\\\InclusionArea_Solar_SL1_ZRM_filters_dissolved\"\n",
    "wind_area = \"C:\\\\Users\\\\Zachary\\\\ASSET\\\\resourceAssessment\\\\analysis\\data\\\\resourceAssessment.gdb\\\\InclusionArea_Wind_SL1_ZRM_filters_dissolved\"\n",
    "\n",
    "# Set output workspace and environment\n",
    "mainOutputFolder = \"C:\\\\Users\\\\Zachary\\\\ASSET\\\\Transmission\\\\analysis\\\\data\"\n",
    "centroid_workspace = os.path.join(mainOutputFolder, \"scratch.gdb\")\n",
    "arcpy.env.workspace = centroid_workspace\n",
    "arcpy.env.overwriteOutput = True"
   ]
  },
  {
   "cell_type": "markdown",
   "metadata": {},
   "source": [
    "#### Create Grid Centroid"
   ]
  },
  {
   "cell_type": "code",
   "execution_count": null,
   "metadata": {},
   "outputs": [],
   "source": [
    "# Get list for grids and areas\n",
    "grid_list = [cesm2_grid]\n",
    "area_list = [wind_area]"
   ]
  },
  {
   "cell_type": "code",
   "execution_count": null,
   "metadata": {},
   "outputs": [],
   "source": [
    "# Get the centroid \n",
    "for grid in grid_list:\n",
    "    for area in area_list:\n",
    "        getCentroid(grid, area)"
   ]
  },
  {
   "cell_type": "code",
   "execution_count": null,
   "metadata": {},
   "outputs": [],
   "source": [
    "# Look at the fields of the created feature class\n",
    "sample_fc = \"C:\\\\Users\\\\Zachary\\\\ASSET\\\\Transmission\\\\analysis\\\\data\\\\scratch.gdb\\\\cesm2_base_grid_centroid\"\n",
    "fields = [field.name for field in arcpy.ListFields(sample_fc)]\n",
    "with arcpy.da.SearchCursor(sample_fc, fields) as cursor:\n",
    "    for row in cursor:\n",
    "        print(row)"
   ]
  },
  {
   "cell_type": "code",
   "execution_count": 8,
   "metadata": {},
   "outputs": [],
   "source": [
    "# set path to input workspace for transmission lines\n",
    "transmission_lines = \"C:\\\\Users\\\\Zachary\\\\ASSET\\\\Transmission\\\\analysis\\\\data\\\\TransmissionLines.gdb\"\n"
   ]
  },
  {
   "cell_type": "code",
   "execution_count": null,
   "metadata": {},
   "outputs": [],
   "source": [
    "voltage_class_list = getFeatureClasses(transmission_lines)\n",
    "voltage_class_list"
   ]
  },
  {
   "cell_type": "code",
   "execution_count": null,
   "metadata": {},
   "outputs": [],
   "source": [
    "# Get centroid points \n",
    "input_grid_list = arcpy.ListFeatureClasses('*cesm2_base_grid_centroid')\n",
    "input_grid_list"
   ]
  },
  {
   "cell_type": "markdown",
   "metadata": {},
   "source": [
    "#### Generate Near Table Analysis"
   ]
  },
  {
   "cell_type": "code",
   "execution_count": null,
   "metadata": {},
   "outputs": [],
   "source": [
    "for input_grid in input_grid_list:\n",
    "    for voltage_class in voltage_class_list:\n",
    "\n",
    "        # Get the full path for the voltage path\n",
    "        voltage_class_path = os.path.join(transmission_lines, voltage_class)\n",
    "\n",
    "        # Set output feature class name\n",
    "        near_name = \"{}_{}_near_analysis_twogeos\".format(input_grid, voltage_class)\n",
    "        near_path = os.path.join(centroid_workspace, near_name)\n",
    "\n",
    "        # Copy input grid\n",
    "        arcpy.CopyFeatures_management(input_grid, near_path)\n",
    "\n",
    "        try:\n",
    "            # Perform near analysis on copied input grid to find the two nearest geometries\n",
    "            near_table = arcpy.GenerateNearTable_analysis(near_path, voltage_class_path, 'in_memory\\\\near_table', search_radius = \"\", location = \"LOCATION\", angle = \"NO_ANGLE\", closest = \"ALL\", closest_count = 2)\n",
    "\n",
    "            # Extract NEAR_X, NEAR_Y, and NEAR_FID from the near table\n",
    "            with arcpy.da.SearchCursor(near_table, ['IN_FID', 'NEAR_X', 'NEAR_Y', 'NEAR_FID', 'NEAR_DIST', 'NEAR_RANK']) as cursor:\n",
    "                for row in cursor:\n",
    "                    in_fid = row[0]\n",
    "                    near_x = row[1]\n",
    "                    near_y = row[2]\n",
    "                    near_fid_value = row[3]\n",
    "                    near_dist = row[4]\n",
    "                    near_rank = row[5]\n",
    "\n",
    "                    # Update the point feature class with NEAR_X, NEAR_Y, and NEAR_FID for the current NEAR_RANK\n",
    "                    update_fields = [f'NEAR_X_{near_rank}', f'NEAR_Y_{near_rank}', f'NEAR_FID_{near_rank}', f'NEAR_DIST_{near_rank}']\n",
    "\n",
    "                    # Check if the fields exist, and if not, create them\n",
    "                    existing_fields = [field.name for field in arcpy.ListFields(near_path)]\n",
    "                    for field_name in update_fields:\n",
    "                        if field_name not in existing_fields:\n",
    "                            arcpy.AddField_management(near_path, field_name, \"DOUBLE\")\n",
    "                \n",
    "                    with arcpy.da.UpdateCursor(near_path, update_fields, f'OBJECTID = {in_fid}') as update_cursor:\n",
    "                        for update_row in update_cursor:\n",
    "                            update_row[0] = near_x\n",
    "                            update_row[1] = near_y\n",
    "                            update_row[2] = near_fid_value\n",
    "                            update_row[3] = near_dist\n",
    "                            update_cursor.updateRow(update_row)\n",
    "            \n",
    "            # Clean up the near table and line layer\n",
    "            arcpy.Delete_management(near_table)\n",
    "\n",
    "            # get geoprocessing messages\n",
    "            print(arcpy.GetMessages())\n",
    "\n",
    "        except arcpy.ExecuteError:\n",
    "            print(arcpy.GetMessages(2))\n",
    "        except Exception as err:\n",
    "            print(err.args[0])"
   ]
  }
 ],
 "metadata": {
  "kernelspec": {
   "display_name": "Python 3",
   "language": "python",
   "name": "python3"
  },
  "language_info": {
   "codemirror_mode": {
    "name": "ipython",
    "version": 3
   },
   "file_extension": ".py",
   "mimetype": "text/x-python",
   "name": "python",
   "nbconvert_exporter": "python",
   "pygments_lexer": "ipython3",
   "version": "3.9.16"
  },
  "orig_nbformat": 4
 },
 "nbformat": 4,
 "nbformat_minor": 2
}
