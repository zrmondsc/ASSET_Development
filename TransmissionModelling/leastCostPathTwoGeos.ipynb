{
 "cells": [
  {
   "cell_type": "markdown",
   "metadata": {},
   "source": [
    "### Least Cost Path Analysis\n",
    "This notebook is the forth notebook of the `Phase 3: Transmission Modelling` workflow. "
   ]
  },
  {
   "cell_type": "code",
   "execution_count": 30,
   "metadata": {},
   "outputs": [],
   "source": [
    "import arcpy\n",
    "import os\n",
    "import time\n",
    "import logging\n",
    "from arcpy import env\n",
    "from arcpy.sa import *"
   ]
  },
  {
   "cell_type": "markdown",
   "metadata": {},
   "source": [
    "#### Configure Logging, Define Useful Functions, and Set Input and Output Paths"
   ]
  },
  {
   "cell_type": "code",
   "execution_count": 31,
   "metadata": {},
   "outputs": [],
   "source": [
    "# Configure logging\n",
    "logging.basicConfig(filename='voltage_100_161_twogeos_random_v1.log', level=logging.INFO, format='%(asctime)s - %(levelname)s - %(message)s')"
   ]
  },
  {
   "cell_type": "code",
   "execution_count": 32,
   "metadata": {},
   "outputs": [],
   "source": [
    "# Function to log timing information with a custom message\n",
    "def log_timing(operation_name, start_time, custom_message=\"\"):\n",
    "    elapsed_time = time.time() - start_time\n",
    "    if custom_message:\n",
    "        logging.info(f'{operation_name}: {custom_message} (Took {elapsed_time:.2f} seconds)')\n",
    "    else:\n",
    "        logging.info(f'{operation_name} took {elapsed_time:.2f} seconds')"
   ]
  },
  {
   "cell_type": "code",
   "execution_count": 33,
   "metadata": {},
   "outputs": [],
   "source": [
    "# set up workspace and environment\n",
    "source_workspace = \"C:\\\\Users\\\\Zachary\\\\ASSET\\\\Transmission\\\\analysis\\\\data\\\\scratch.gdb\"\n",
    "destination_workspace = \"C:\\\\Users\\\\Zachary\\\\ASSET\\\\Transmission\\\\analysis\\\\data\\\\TransmissionLines.gdb\"\n",
    "surface_workspace = \"C:\\\\Users\\\\Zachary\\\\ASSET\\\\Transmission\\\\analysis\\\\data\\\\CostRaster\"\n",
    "output_workspace = \"C:\\\\Users\\\\Zachary\\\\ASSET\\\\Transmission\\\\analysis\\\\data\\\\leastCostPathResults.gdb\"\n",
    "arcpy.env.workspace = output_workspace\n",
    "arcpy.env.overwriteOutput = True"
   ]
  },
  {
   "cell_type": "code",
   "execution_count": 34,
   "metadata": {},
   "outputs": [],
   "source": [
    "# define input feature classes and cost surface raster\n",
    "fromPoints = os.path.join(source_workspace, \"cesm2_base_grid_centroid_voltage_100_161_near_analysis\")\n",
    "toPoints = os.path.join(destination_workspace, \"voltage_100_161\")\n",
    "costSurface = os.path.join(surface_workspace, \"costSurfaceNoFire.tif\")"
   ]
  },
  {
   "cell_type": "code",
   "execution_count": 35,
   "metadata": {},
   "outputs": [],
   "source": [
    "# define output feature class\n",
    "fromPoints_name = os.path.basename(fromPoints) + \"_random\"\n",
    "toPoints_name = os.path.basename(toPoints)\n",
    "output_name = f\"{fromPoints_name}_{toPoints_name}\"\n",
    "output_path = os.path.join(output_workspace, output_name)"
   ]
  },
  {
   "cell_type": "code",
   "execution_count": 36,
   "metadata": {},
   "outputs": [
    {
     "data": {
      "text/html": [
       "<div class='gpresult'><h2>Messages</h2><div id='messages' data-messages='[\"Start Time: Tuesday, October 24, 2023 9:52:03 PM\",\"Succeeded at Tuesday, October 24, 2023 9:52:03 PM (Elapsed Time: 0.35 seconds)\"]' data-show='true'><div id = 'default' /></div></div>"
      ],
      "text/plain": [
       "<Result 'C:\\\\Users\\\\Zachary\\\\ASSET\\\\Transmission\\\\analysis\\\\data\\\\leastCostPathResults.gdb\\\\cesm2_base_grid_centroid_voltage_100_161_near_analysis_random_voltage_100_161'>"
      ]
     },
     "execution_count": 36,
     "metadata": {},
     "output_type": "execute_result"
    }
   ],
   "source": [
    "# Create empty output feature class\n",
    "geometry_type = \"POLYLINE\"\n",
    "template = \"\"\n",
    "has_m = \"DISABLED\"\n",
    "has_z = \"DISABLED\"\n",
    "spatial_reference = arcpy.Describe(fromPoints).spatialReference\n",
    "arcpy.CreateFeatureclass_management(output_workspace, output_name, geometry_type, template, has_m, has_z, spatial_reference)"
   ]
  },
  {
   "cell_type": "code",
   "execution_count": 37,
   "metadata": {},
   "outputs": [
    {
     "data": {
      "text/html": [
       "<div class='gpresult'><h2>Messages</h2><div id='messages' data-messages='[\"Start Time: Tuesday, October 24, 2023 9:52:04 PM\",\"Adding Cost to cesm2_base_grid_centroid_voltage_100_161_near_analysis_random_voltage_100_161...\",\"Succeeded at Tuesday, October 24, 2023 9:52:04 PM (Elapsed Time: 0.11 seconds)\"]' data-show='true'><div id = 'default' /></div></div>"
      ],
      "text/plain": [
       "<Result 'C:\\\\Users\\\\Zachary\\\\ASSET\\\\Transmission\\\\analysis\\\\data\\\\leastCostPathResults.gdb\\\\cesm2_base_grid_centroid_voltage_100_161_near_analysis_random_voltage_100_161'>"
      ]
     },
     "execution_count": 37,
     "metadata": {},
     "output_type": "execute_result"
    }
   ],
   "source": [
    "# Add fields to output feature class\n",
    "arcpy.AddField_management(output_path, \"From_ID\", \"LONG\")\n",
    "arcpy.AddField_management(output_path, \"To_ID\", \"LONG\")\n",
    "arcpy.AddField_management(output_path, \"Cost\", \"DOUBLE\")"
   ]
  },
  {
   "cell_type": "code",
   "execution_count": 38,
   "metadata": {},
   "outputs": [],
   "source": [
    "# Create an insert cursor for the output feature class\n",
    "insert_cursor = arcpy.da.InsertCursor(output_path,[\"SHAPE@\", \"FROM_ID\", \"To_ID\", \"Cost\"])"
   ]
  },
  {
   "cell_type": "markdown",
   "metadata": {},
   "source": [
    "#### Create a Random Subset of FromPoints for Testing\n",
    "the FromPoints dataset is too large to test our least cost path code. So we'll create a random subset of FromPoints and do our testing and debugging with that. This is sort of a pain to do with ArcPy."
   ]
  },
  {
   "cell_type": "code",
   "execution_count": 39,
   "metadata": {},
   "outputs": [],
   "source": [
    "import random\n",
    "\n",
    "# Set sample size of test dataset\n",
    "sample_size = 30\n",
    "\n",
    "# Use SearchCursor to get list of OIDs\n",
    "object_ids = [str(row[0]) for row in arcpy.da.SearchCursor(fromPoints, ['OID@'])]\n",
    "\n",
    "if sample_size > len(object_ids):\n",
    "    print(\"Sample size is larger than the available feature count.\")\n",
    "else:\n",
    "    # Generate a list of random subset Object IDs\n",
    "    random_ids = random.sample(object_ids, sample_size)\n",
    "\n",
    "    oid_field = arcpy.Describe(fromPoints).OIDFieldName\n",
    "    selection_query = '\"{0}\" IN ({1})'.format(oid_field, ','.join(random_ids)) \n",
    "    random_subset = arcpy.MakeFeatureLayer_management(fromPoints, \"randomSubsetLayer\", selection_query)"
   ]
  },
  {
   "cell_type": "code",
   "execution_count": 40,
   "metadata": {},
   "outputs": [
    {
     "name": "stdout",
     "output_type": "stream",
     "text": [
      "27474.52189891374\n",
      "extracted\n",
      "Least Cost Path for 4 completed in 5.07 seconds\n",
      "18551.43242162517\n",
      "extracted\n",
      "Least Cost Path for 68 completed in 7.36 seconds\n",
      "30648.036159793424\n",
      "extracted\n",
      "Least Cost Path for 72 completed in 7.42 seconds\n",
      "67899.50111881156\n",
      "extracted\n",
      "Least Cost Path for 104 completed in 7.62 seconds\n",
      "2383.252879757281\n",
      "extracted\n",
      "Least Cost Path for 140 completed in 7.29 seconds\n",
      "32989.296166189306\n",
      "extracted\n",
      "Least Cost Path for 141 completed in 7.43 seconds\n",
      "46948.348825685636\n"
     ]
    }
   ],
   "source": [
    "# Initialize variables to keep track of the number of valid feature IDs\n",
    "valid_feature_count = 0\n",
    "two_lcp_count = 0\n",
    "one_lcp_count = 0\n",
    "no_lcp_count = 0\n",
    "\n",
    "# iterate through fromPoints features\n",
    "with arcpy.da.SearchCursor(random_subset, [\"OBJECTID\",\n",
    "                                        \"SHAPE@\",\n",
    "                                        \"NEAR_FID_1\",\n",
    "                                        \"NEAR_FID_2\",\n",
    "                                        \"NEAR_DIST_1\",\n",
    "                                        \"NEAR_DIST_2\",\n",
    "                                        ]) as cursor: \n",
    "    for row in cursor:\n",
    "        from_oid, from_point_geometry, near_fid_1, near_fid_2, near_dist_1, near_dist_2 = row\n",
    "\n",
    "        start_time = time.time()\n",
    "\n",
    "        # Check if near_dist_1 or near_dist_2 is None\n",
    "        if near_dist_1 is None and near_dist_2 is None:\n",
    "            continue  # Skip this iteration if both values are None\n",
    "\n",
    "        # Choose the largest_near_dist\n",
    "        if near_dist_1 is None:\n",
    "            largest_near_dist = near_dist_2\n",
    "        elif near_dist_2 is None:\n",
    "            largest_near_dist = near_dist_1\n",
    "        else:\n",
    "            # Both values are valid, choose the maximum\n",
    "            largest_near_dist = 1.2 * max(near_dist_1, near_dist_2)\n",
    "\n",
    "        print(largest_near_dist)\n",
    "\n",
    "        # create buffer around point\n",
    "        buffer_geometry = from_point_geometry.buffer(largest_near_dist)\n",
    "\n",
    "        # Create a mask raster from the buffer geometry\n",
    "        mask_raster = arcpy.sa.ExtractByMask(arcpy.sa.Raster(costSurface), buffer_geometry)\n",
    "        print(\"extracted\")\n",
    "\n",
    "        # Generate cost distance and backlink rasters\n",
    "        out_cost_distance = arcpy.sa.CostDistance(from_point_geometry, mask_raster)\n",
    "        out_backlink = arcpy.sa.CostBackLink(from_point_geometry, mask_raster)\n",
    "\n",
    "        # get list of object IDs\n",
    "        near_fid_list = [near_fid_1, near_fid_2]\n",
    "\n",
    "        # Filter out None values from near_fid_list\n",
    "        near_fid_list = [fid for fid in near_fid_list if fid is not None]\n",
    "\n",
    "        # Check if there are any valid feature IDs in near_fid_list\n",
    "        if near_fid_list:\n",
    "\n",
    "            # create a temporary feature layer of lines with the feature ids\n",
    "            arcpy.MakeFeatureLayer_management(toPoints, \"temp_layer\", f\"OBJECTID_1 IN ({','.join(map(str, near_fid_list))})\")\n",
    "\n",
    "            # Calculate least cost paths\n",
    "            out_cost_path = arcpy.sa.CostPathAsPolyline(\"temp_layer\", out_cost_distance, out_backlink, f\"b_{from_oid}\", \"EACH_ZONE\")\n",
    "\n",
    "            # Check if the out_cost_path is empty or null\n",
    "            if arcpy.Exists(out_cost_path) and int(arcpy.GetCount_management(out_cost_path).getOutput(0)) > 0:\n",
    "\n",
    "            # Get total cost and cost path geometry\n",
    "                with arcpy.da.SearchCursor(out_cost_path, [\"DESTID\",\"PathCost\", \"SHAPE@\"]) as cost_cursor:\n",
    "                    for cost_row in cost_cursor:\n",
    "                        to_oid, cost, cost_path_geometry = cost_row\n",
    "\n",
    "                        # insert path into feature class\n",
    "                        insert_cursor.insertRow([cost_path_geometry, from_oid, to_oid, cost])\n",
    "                        \n",
    "                # Check if there is only 1 valid feature ID\n",
    "                if len(near_fid_list) == 1:\n",
    "                    log_text = f'Only 1 Least Cost Path drawn for {from_oid}'\n",
    "                    one_lcp_count += 1\n",
    "                else:\n",
    "                    log_text = f'2 Least Cost Path drawn for {from_oid}'\n",
    "                    two_lcp_count +=1\n",
    "            else: \n",
    "                # No valid path was generated for this feature\n",
    "                log_text = f'0 Least Cost Paths drawn for {from_oid}'\n",
    "                no_lcp_count += 1\n",
    "\n",
    "            elapsed_time = time.time() - start_time\n",
    "            print(f'Least Cost Path for {from_oid} completed in {elapsed_time:.2f} seconds')\n",
    "            log_timing(from_oid, start_time, log_text)\n",
    "                \n",
    "\n",
    "            # Delete intermediate rasters to save space\n",
    "            arcpy.Delete_management(out_cost_distance)\n",
    "            arcpy.Delete_management(out_backlink)\n",
    "            arcpy.Delete_management(out_cost_path)\n",
    "            arcpy.Delete_management(\"temp_layer\")\n",
    "            arcpy.Delete_management(mask_raster)\n",
    "\n",
    "            valid_feature_count +=1\n",
    "# After the loop, add a final note in the log file\n",
    "log_text = f'Total of {valid_feature_count} features had Least Cost Paths drawn. ' \\\n",
    "           f'{two_lcp_count} features had 2 LCPs, ' \\\n",
    "           f'{one_lcp_count} features had 1 LCP, ' \\\n",
    "           f'{no_lcp_count} features had 0 LCPs'\n",
    "log_timing(\"Summary\", time.time(), log_text)\n",
    "\n",
    "# Clean up\n",
    "del insert_cursor"
   ]
  }
 ],
 "metadata": {
  "kernelspec": {
   "display_name": "Python 3",
   "language": "python",
   "name": "python3"
  },
  "language_info": {
   "codemirror_mode": {
    "name": "ipython",
    "version": 3
   },
   "file_extension": ".py",
   "mimetype": "text/x-python",
   "name": "python",
   "nbconvert_exporter": "python",
   "pygments_lexer": "ipython3",
   "version": "3.9.16"
  },
  "orig_nbformat": 4
 },
 "nbformat": 4,
 "nbformat_minor": 2
}
