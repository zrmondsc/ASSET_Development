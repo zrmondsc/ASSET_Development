{
 "cells": [
  {
   "cell_type": "markdown",
   "metadata": {},
   "source": [
    "### Mask Inclusion Raster\n",
    "In this notebook, we mask our Technical Inclusion Areas raster with (1) the Environmental Exclusion raster and (2) the Techhnical Threshold rasters to generate our InclusionArea_Solar_SL1_ZRM raster and InclusionArea_Wind_SL1_ZRM raster. We then extract the output using Tiger/Line 2018 CONUS boundaries, and convert the raster datasets to vector feature classes, and dissolve the feature classes. "
   ]
  },
  {
   "cell_type": "code",
   "execution_count": 1,
   "metadata": {},
   "outputs": [],
   "source": [
    "import arcpy\n",
    "import os\n",
    "from arcpy import env\n",
    "from arcpy.sa import *"
   ]
  },
  {
   "cell_type": "markdown",
   "metadata": {},
   "source": [
    "#### Set input and output paths, set environmental variables for raster analysis"
   ]
  },
  {
   "cell_type": "code",
   "execution_count": 63,
   "metadata": {},
   "outputs": [],
   "source": [
    "# Set path to the main input folder\n",
    "mainInputFolder = \"C:\\\\Users\\\\Zachary\\\\ASSET\\\\supplyCurve\\\\analysis\\\\data\""
   ]
  },
  {
   "cell_type": "code",
   "execution_count": 64,
   "metadata": {},
   "outputs": [],
   "source": [
    "# Set path to environmental exclusion rasters\n",
    "environmental_exclusion_raster = os.path.join(mainInputFolder, \"environmentalExclusionRasters\\\\Mosaic\\\\environmentalExclusionWind_SL1_ZRM.tif\")"
   ]
  },
  {
   "cell_type": "code",
   "execution_count": 65,
   "metadata": {},
   "outputs": [],
   "source": [
    "# Set path to technical threshold rasters\n",
    "technical_threshold_raster = os.path.join(mainInputFolder, \"technicalExclusionRasters\\\\Mosaic\\\\technicalExclusionMosaic_Wind.tif\")"
   ]
  },
  {
   "cell_type": "code",
   "execution_count": 66,
   "metadata": {},
   "outputs": [],
   "source": [
    "# Set path to technical inclusion area raster\n",
    "technical_inclusion_area = os.path.join(mainInputFolder, \"technicalInclusionAreas\\\\technicalInclusionArea_Wind_binary.tif\")"
   ]
  },
  {
   "cell_type": "code",
   "execution_count": 97,
   "metadata": {},
   "outputs": [],
   "source": [
    "# Set path for raster calculator output\n",
    "inclusion_area = os.path.join(mainInputFolder, \"myResults\\\\modelOutputs\\\\InclusionArea_Wind_SL1_ZRM.tif\")"
   ]
  },
  {
   "cell_type": "code",
   "execution_count": 74,
   "metadata": {},
   "outputs": [],
   "source": [
    "# Define environmental variables for raster analysis\n",
    "# set environmental raster settings to the reclassified slope raster\n",
    "arcpy.env.snapRaster = technical_threshold_raster\n",
    "arcpy.env.extent = technical_threshold_raster\n",
    "arcpy.env.cellSize = technical_threshold_raster\n",
    "arcpy.env.mask = os.path.join(mainInputFolder, \"other\\\\cb_2018_us_state_500k_project.shp\")"
   ]
  },
  {
   "cell_type": "markdown",
   "metadata": {},
   "source": [
    "#### Build and execute raster calculator expression"
   ]
  },
  {
   "cell_type": "code",
   "execution_count": 93,
   "metadata": {},
   "outputs": [],
   "source": [
    "def raster_calculation(first_raster, second_raster, third_raster, output_raster):\n",
    "    \n",
    "    try:\n",
    "        # Create a raster object from the input path\n",
    "        raster1 = arcpy.sa.Raster(first_raster)\n",
    "        raster2 = arcpy.sa.Raster(second_raster)\n",
    "        raster3 = arcpy.sa.Raster(third_raster)\n",
    "\n",
    "        # Build the arcpy.sa.Con expression\n",
    "        expression = arcpy.sa.Con(((raster1 + arcpy.sa.Con(arcpy.sa.IsNull(raster2), 0, raster2) + arcpy.sa.Con(arcpy.sa.IsNull(raster3), 0, raster3)) == 1), 1, arcpy.sa.SetNull(raster1, 0))\n",
    "        expression.save(output_raster)\n",
    "\n",
    "        print(f\"Raster calculation completed successfully. Result saved to {output_raster}\")\n",
    "\n",
    "    except arcpy.ExecuteError:\n",
    "        print(arcpy.GetMessages())\n",
    "    except Exception as e:\n",
    "        print(f\"An error occurred: {str(e)}\")"
   ]
  },
  {
   "cell_type": "code",
   "execution_count": 94,
   "metadata": {},
   "outputs": [
    {
     "name": "stdout",
     "output_type": "stream",
     "text": [
      "Raster calculation completed successfully. Result saved to C:\\Users\\Zachary\\ASSET\\supplyCurve\\analysis\\data\\myResults\\modelOutputs\\InclusionArea_Wind_SL1_ZRM11.tif\n"
     ]
    }
   ],
   "source": [
    "raster_calculation(technical_inclusion_area, environmental_exclusion_raster, technical_threshold_raster, inclusion_area)"
   ]
  },
  {
   "cell_type": "markdown",
   "metadata": {},
   "source": [
    "#### Convert raster to vector"
   ]
  },
  {
   "cell_type": "code",
   "execution_count": 95,
   "metadata": {},
   "outputs": [],
   "source": [
    "def raster_to_feature_class(input_raster, output_feature_class, dissolve_field=\"VALUE\"):\n",
    "    try:\n",
    "        # Convert the raster to a polygon feature class\n",
    "        arcpy.RasterToPolygon_conversion(input_raster, output_feature_class, \"NO_SIMPLIFY\", \"VALUE\")\n",
    "\n",
    "        print(f\"Raster converted to feature class successfully. Please use your GIS to remove coastal waters polygons by hand before dissolving.\")\n",
    "\n",
    "    except arcpy.ExecuteError:\n",
    "        print(arcpy.GetMessages())\n",
    "    except Exception as e:\n",
    "        print(f\"An error occurred: {str(e)}\")"
   ]
  },
  {
   "cell_type": "code",
   "execution_count": 103,
   "metadata": {},
   "outputs": [],
   "source": [
    "def remove_small_polygons(input_feature_class, output_feature_class, area_threshold_sqm=2000000):\n",
    "    try:\n",
    "        # Use a definition query to select polygons with an area greater than or equal to the threshold\n",
    "        definition_query = f\"SHAPE_Area >= {area_threshold_sqm}\"\n",
    "        arcpy.MakeFeatureLayer_management(input_feature_class, \"lyr_selected\", definition_query)\n",
    "\n",
    "        # Copy the selected polygons to the output feature class\n",
    "        arcpy.CopyFeatures_management(\"lyr_selected\", output_feature_class)\n",
    "\n",
    "        print(f\"Small polygons with an area less than {area_threshold_sqm} sqm have been removed.\")\n",
    "\n",
    "    except arcpy.ExecuteError:\n",
    "        print(arcpy.GetMessages())\n",
    "    except Exception as e:\n",
    "        print(f\"An error occurred: {str(e)}\")"
   ]
  },
  {
   "cell_type": "code",
   "execution_count": 105,
   "metadata": {},
   "outputs": [],
   "source": [
    "def dissolve_feature_class(input_feature_class, output_feature_class):\n",
    "    try:\n",
    "        # Attempt to dissolve the features without specifying a dissolve field\n",
    "        arcpy.Dissolve_management(input_feature_class, output_feature_class)\n",
    "\n",
    "        print(\"Features dissolved successfully.\")\n",
    "\n",
    "    except arcpy.ExecuteError as e:\n",
    "        print(f\"Failed to dissolve features: {e}\")\n",
    "\n",
    "        # Repair geometry to fix any invalid geometries\n",
    "        arcpy.RepairGeometry_management(input_feature_class)\n",
    "\n",
    "        print(\"Geometry repaired successfully.\")\n",
    "\n",
    "        # Recalculate the feature class extent to the minimum bounding rectangle of the features\n",
    "        arcpy.CalculateGeometryAttributes_management(input_feature_class, [[\"EXTENT\", \"POLYGON\"]])\n",
    "\n",
    "        print(\"Feature class extent recalculated successfully.\")\n",
    "\n",
    "        try:\n",
    "            # Attempt to dissolve again after repairing the geometry\n",
    "            arcpy.Dissolve_management(input_feature_class, output_feature_class)\n",
    "\n",
    "            print(\"Features dissolved successfully after geometry repair.\")\n",
    "\n",
    "        except arcpy.ExecuteError as e:\n",
    "            print(f\"Failed to dissolve features after geometry repair: {e}\")"
   ]
  },
  {
   "cell_type": "code",
   "execution_count": 98,
   "metadata": {},
   "outputs": [
    {
     "name": "stdout",
     "output_type": "stream",
     "text": [
      "Raster converted to feature class successfully. Please use your GIS to remove coastal waters polygons by hand before dissolving.\n"
     ]
    }
   ],
   "source": [
    "inclusion_area_fc = os.path.join(mainInputFolder, \"inclusionAreas.gdb\\\\InclusionArea_Wind_SL1_ZRM\")\n",
    "raster_to_feature_class(inclusion_area, inclusion_area_fc)"
   ]
  },
  {
   "cell_type": "code",
   "execution_count": 104,
   "metadata": {},
   "outputs": [
    {
     "name": "stdout",
     "output_type": "stream",
     "text": [
      "Small polygons with an area less than 2000000 sqm have been removed.\n"
     ]
    }
   ],
   "source": [
    "inclusion_area_fc_dq = inclusion_area_fc + \"_size_constraint\"\n",
    "remove_small_polygons(inclusion_area_fc, inclusion_area_fc_dq)"
   ]
  },
  {
   "cell_type": "code",
   "execution_count": 106,
   "metadata": {},
   "outputs": [
    {
     "name": "stdout",
     "output_type": "stream",
     "text": [
      "Features dissolved successfully.\n"
     ]
    }
   ],
   "source": [
    "inclusion_area_fc_dq_dissolved = inclusion_area_fc_dq + \"_dissolved\"\n",
    "dissolve_feature_class(inclusion_area_fc_dq, inclusion_area_fc_dq_dissolved)"
   ]
  }
 ],
 "metadata": {
  "kernelspec": {
   "display_name": "Python 3",
   "language": "python",
   "name": "python3"
  },
  "language_info": {
   "codemirror_mode": {
    "name": "ipython",
    "version": 3
   },
   "file_extension": ".py",
   "mimetype": "text/x-python",
   "name": "python",
   "nbconvert_exporter": "python",
   "pygments_lexer": "ipython3",
   "version": "3.7.10"
  },
  "orig_nbformat": 4
 },
 "nbformat": 4,
 "nbformat_minor": 2
}
