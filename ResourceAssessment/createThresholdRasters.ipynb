{
 "cells": [
  {
   "cell_type": "markdown",
   "metadata": {},
   "source": [
    "### Create Technical Threshold Rasters\n",
    "In this notebook we create three technical threshold rasters (1) Slope threshold raster (2) Population threshold raster (3) Flood risk threshold raster. These rasters will be masked from the Technical Inclusion Area Layer to generate the SL1 Inclusion Area Layer. This raster generates 'Technical Exclusion' layers simultaneously for both solar and wind resources, as the slope component is the only one that differs based on technology. "
   ]
  },
  {
   "cell_type": "code",
   "execution_count": 1,
   "metadata": {},
   "outputs": [],
   "source": [
    "import arcpy\n",
    "import os\n",
    "from arcpy import env\n",
    "from arcpy.sa import *"
   ]
  },
  {
   "cell_type": "markdown",
   "metadata": {},
   "source": [
    "#### Define Helpful Functions"
   ]
  },
  {
   "cell_type": "code",
   "execution_count": 2,
   "metadata": {},
   "outputs": [],
   "source": [
    "def get_datum_transformation(source_spatial_reference, target_spatial_reference):\n",
    "    '''\n",
    "    This function retrieves the most appropriate datum transformation for converting spatial data\n",
    "    from the source spatial reference to the target spatial reference.\n",
    "    '''\n",
    "    \n",
    "    transformations = arcpy.ListTransformations(source_spatial_reference, target_spatial_reference)\n",
    "    if transformations:\n",
    "        return transformations[0]  # Use the first transformation found\n",
    "    else:\n",
    "        return None  # No appropriate transformation found"
   ]
  },
  {
   "cell_type": "code",
   "execution_count": 3,
   "metadata": {},
   "outputs": [],
   "source": [
    "def add_occupancy_field(feature_class):\n",
    "    '''\n",
    "    Adds an 'occupancy' field to a feature class if it doesn't already exist and sets the value to 1 for all records.\n",
    "\n",
    "    This function checks if the 'occupancy' field already exists in the specified feature class.\n",
    "    If the field doesn't exist, it adds the 'occupancy' field and sets the value to 1 for all records.\n",
    "    '''\n",
    "    # Check if the 'occupancy' field already exists\n",
    "    fields = arcpy.ListFields(feature_class, \"occupancy\")\n",
    "\n",
    "    if not fields:\n",
    "         # Add 'occupancy' field to the feature class if it doesn't exist\n",
    "        arcpy.management.AddField(feature_class, \"occupancy\", \"SHORT\")\n",
    "\n",
    "        # Set the 'occupancy' field value to 1 for all records\n",
    "        with arcpy.da.UpdateCursor(feature_class, \"occupancy\") as cursor:\n",
    "            for row in cursor:\n",
    "                row[0] = 1\n",
    "                cursor.updateRow(row)\n",
    "        print(f\"'occupancy' field added and set to 1 in {os.path.basename(feature_class)}\")\n",
    "    else:\n",
    "        print(f\"'occupancy' field already exists in {os.path.basename(feature_class)}\")"
   ]
  },
  {
   "cell_type": "code",
   "execution_count": 5,
   "metadata": {},
   "outputs": [],
   "source": [
    "def convert_to_one_bit(input_raster, output_raster):\n",
    "    '''\n",
    "    This function alters the bit depth of a raster. It is designed for the output of a Reclassify tool. \n",
    "    '''\n",
    "    \n",
    "    try:\n",
    "        # Create a raster object from the input path\n",
    "        input_raster_obj = arcpy.sa.Raster(input_raster)\n",
    "\n",
    "        # Reclassify the input raster to binary (one-bit) format\n",
    "        binary_raster = arcpy.sa.Con(input_raster_obj > 0, 1)\n",
    "\n",
    "        # Set the pixel type of the output raster to 1_BIT\n",
    "        arcpy.management.CopyRaster(binary_raster, output_raster, pixel_type=\"1_BIT\")\n",
    "\n",
    "        print(f\"Conversion to one-bit raster completed successfully. Result saved to {output_raster}\")\n",
    "\n",
    "        # Clean up workspace\n",
    "        try: \n",
    "            arcpy.Delete_management(binary_raster)\n",
    "            arcpy.Delete_management(input_raster_obj)\n",
    "        except Exception as e:\n",
    "            print(f\"An error occurred while cleaning up: {str(e)}\")\n",
    "\n",
    "    except arcpy.ExecuteError:\n",
    "        print(arcpy.GetMessages())\n",
    "    except Exception as e:\n",
    "        print(f\"An error occurred: {str(e)}\")"
   ]
  },
  {
   "cell_type": "markdown",
   "metadata": {},
   "source": [
    "#### Get Slope Threshold Raster"
   ]
  },
  {
   "cell_type": "code",
   "execution_count": 6,
   "metadata": {},
   "outputs": [],
   "source": [
    "# Set input and output folder\n",
    "mainInputFolder = \"C:\\\\Users\\\\Zachary\\\\ASSET\\\\supplyCurve\\\\analysis\\\\data\"  # enter path to input folder"
   ]
  },
  {
   "cell_type": "code",
   "execution_count": 7,
   "metadata": {},
   "outputs": [],
   "source": [
    "# Set path to wind workspace\n",
    "wind_workspace = os.path.join(mainInputFolder, \"technicalExclusionRasters\\\\Wind\")\n",
    "\n",
    "if not os.path.exists(wind_workspace):\n",
    "    os.makedir(wind_workspace)\n",
    "\n",
    "# Set path to solar workspace\n",
    "solar_workspace = os.path.join(mainInputFolder, \"technicalExclusionRasters\\\\Solar\")\n",
    "\n",
    "if not os.path.exists(solar_workspace):\n",
    "    os.makedir(solar_workspace)"
   ]
  },
  {
   "cell_type": "code",
   "execution_count": 8,
   "metadata": {},
   "outputs": [],
   "source": [
    "# Set path to input DEM\n",
    "input_dem = os.path.join(mainInputFolder, \"SRTM_90m.tif\")\n",
    "\n",
    "# Set path to output projected DEM,resample DEM, and slope raster\n",
    "projected_dem = os.path.join(mainInputFolder, os.path.splitext(os.path.basename(input_dem))[0] + \"_proj.tif\")\n",
    "resampled_dem = os.path.join(mainInputFolder, \"SRTM_250m_proj.tif\")\n",
    "slope_raster =  os.path.join(mainInputFolder, \"SRTM_250m_slope.tif\")"
   ]
  },
  {
   "cell_type": "code",
   "execution_count": null,
   "metadata": {},
   "outputs": [],
   "source": [
    "# get the input spatial reference\n",
    "input_sr = arcpy.Describe(input_dem).spatialReference\n",
    "input_sr"
   ]
  },
  {
   "cell_type": "code",
   "execution_count": 10,
   "metadata": {},
   "outputs": [],
   "source": [
    "# Specify the output spatial reference\n",
    "output_sr = arcpy.SpatialReference(102039)\n",
    "\n",
    "# Specify the target cell size\n",
    "cell_size = \"250\""
   ]
  },
  {
   "cell_type": "code",
   "execution_count": null,
   "metadata": {},
   "outputs": [],
   "source": [
    "# Define datum transform\n",
    "datum_transform = get_datum_transformation(input_sr, output_sr)\n",
    "datum_transform"
   ]
  },
  {
   "cell_type": "code",
   "execution_count": null,
   "metadata": {},
   "outputs": [],
   "source": [
    "# Set overwrite mode to true\n",
    "arcpy.env.overwriteOutput = True\n",
    "\n",
    "try:\n",
    "    # Project the DEM\n",
    "    arcpy.ProjectRaster_management(in_raster = input_dem,\n",
    "                                   out_raster = projected_dem,\n",
    "                                   out_coor_system = output_sr,\n",
    "                                   resampling_type = 'BILINEAR',\n",
    "                                   geographic_transform = datum_transform)\n",
    "    print(\"DEM reprojected successfully\")\n",
    "\n",
    "    # Resample the projected DEM to the target cell size\n",
    "    arcpy.Resample_management(projected_dem, resampled_dem, cell_size, \"BILINEAR\")\n",
    "    print(\"DEM resampled successfully\")\n",
    "\n",
    "    # Calculate the slope of the resampled DEM\n",
    "    arcpy.Slope_3d(resampled_dem, slope_raster, \"PERCENT_RISE\")\n",
    "    print(\"Slope calculation completed successfully!\")\n",
    "\n",
    "except arcpy.ExecuteError:\n",
    "    print(arcpy.GetMessages(2))\n",
    "except:\n",
    "    print(Exception)"
   ]
  },
  {
   "cell_type": "code",
   "execution_count": null,
   "metadata": {},
   "outputs": [],
   "source": [
    "# Reclassified slope raster (threshold raster) for wind\n",
    "wind_slope_threshold = os.path.join(wind_workspace, os.path.splitext(os.path.basename(slope_raster))[0]+ \"_wind.tif\")\n",
    "wind_slope_threshold"
   ]
  },
  {
   "cell_type": "code",
   "execution_count": null,
   "metadata": {},
   "outputs": [],
   "source": [
    "# Set file path for bit depth conversion\n",
    "wind_slope_binary = os.path.join(wind_workspace, os.path.splitext(os.path.basename(wind_slope_threshold))[0]+ \"_binary.tif\")\n",
    "wind_slope_binary"
   ]
  },
  {
   "cell_type": "code",
   "execution_count": 11,
   "metadata": {},
   "outputs": [],
   "source": [
    "# Define the remap table\n",
    "remap_table_wind = arcpy.sa.RemapRange([\n",
    "    [0, 20, 0],\n",
    "    [20, 2000, 1],\n",
    "])"
   ]
  },
  {
   "cell_type": "code",
   "execution_count": 12,
   "metadata": {},
   "outputs": [],
   "source": [
    "# Reclassify the slope raster using the remap table\n",
    "reclassified_wind_slope = arcpy.sa.Reclassify(slope_raster, \"VALUE\", remap_table_wind)\n",
    "\n",
    "# Save the reclassified raster to the output file path\n",
    "reclassified_wind_slope.save(wind_slope_threshold)"
   ]
  },
  {
   "cell_type": "code",
   "execution_count": null,
   "metadata": {},
   "outputs": [],
   "source": [
    "# Reclassified slope raster (threshold raster) for wind\n",
    "solar_slope_threshold = os.path.join(solar_workspace, os.path.splitext(os.path.basename(slope_raster))[0]+ \"_solar.tif\")\n",
    "solar_slope_threshold"
   ]
  },
  {
   "cell_type": "code",
   "execution_count": null,
   "metadata": {},
   "outputs": [],
   "source": [
    "# Set file path for bit depth conversion\n",
    "solar_slope_binary = os.path.join(solar_workspace, os.path.splitext(os.path.basename(solar_slope_threshold))[0]+ \"_binary.tif\")\n",
    "solar_slope_binary"
   ]
  },
  {
   "cell_type": "code",
   "execution_count": 14,
   "metadata": {},
   "outputs": [],
   "source": [
    "# Define the remap table\n",
    "remap_table_solar = arcpy.sa.RemapRange([\n",
    "    [0, 10, 0],\n",
    "    [10, 2000, 1],\n",
    "])"
   ]
  },
  {
   "cell_type": "code",
   "execution_count": 15,
   "metadata": {},
   "outputs": [],
   "source": [
    "# Reclassify the slope raster using the remap table\n",
    "reclassified_solar_slope = arcpy.sa.Reclassify(slope_raster, \"VALUE\", remap_table_solar)\n",
    "\n",
    "# Save the reclassified raster to the output file path\n",
    "reclassified_solar_slope.save(solar_slope_threshold)"
   ]
  },
  {
   "cell_type": "code",
   "execution_count": null,
   "metadata": {},
   "outputs": [],
   "source": [
    "# Convert to binary raster\n",
    "convert_to_one_bit(solar_slope_threshold, solar_slope_binary) # This does not work as intended, bit depth reduced from 16 bit to 8 bit \n",
    "convert_to_one_bit(wind_slope_threshold, wind_slope_binary) # This does not work as intended, bit depth reduced from 16 bit to 8 bit"
   ]
  },
  {
   "cell_type": "code",
   "execution_count": 10,
   "metadata": {},
   "outputs": [],
   "source": [
    "# set environmental raster settings to the reclassified slope raster\n",
    "arcpy.env.snapRaster = slope_raster\n",
    "arcpy.env.extent = slope_raster\n",
    "arcpy.env.cellSize = slope_raster"
   ]
  },
  {
   "cell_type": "markdown",
   "metadata": {},
   "source": [
    "#### Get Population Threshold Raster"
   ]
  },
  {
   "cell_type": "code",
   "execution_count": 16,
   "metadata": {},
   "outputs": [],
   "source": [
    "# Set path to input LANDSCAN raster\n",
    "landscan_usa = os.path.join(mainInputFolder,\"landscan-usa-2020-conus-day.tif\")"
   ]
  },
  {
   "cell_type": "code",
   "execution_count": 36,
   "metadata": {},
   "outputs": [],
   "source": [
    "# set paths to projected, resampled, and reclassified landscan raster\n",
    "landscan_projected = os.path.join(mainInputFolder, \"landscan_conus_2020_projected.tif\")\n",
    "landscan_resampled = os.path.join(mainInputFolder, \"landscan_conus_2020_250m.tif\")\n",
    "landscan_threshold = os.path.join(mainInputFolder, \"technicalExclusionRasters\\\\landscan_conus_2020_threshold_100.tif\")\n"
   ]
  },
  {
   "cell_type": "code",
   "execution_count": null,
   "metadata": {},
   "outputs": [],
   "source": [
    "# Get spatial reference of landscan raster\n",
    "landscan_sr = arcpy.Describe(landscan_usa).spatialReference\n",
    "landscan_sr"
   ]
  },
  {
   "cell_type": "code",
   "execution_count": null,
   "metadata": {},
   "outputs": [],
   "source": [
    "# Get datum transform\n",
    "landscan_datum_transform = get_datum_transformation(landscan_sr, output_sr)\n",
    "landscan_datum_transform"
   ]
  },
  {
   "cell_type": "code",
   "execution_count": null,
   "metadata": {},
   "outputs": [],
   "source": [
    "try:\n",
    "    # Project the LANDSCAN raster\n",
    "    arcpy.ProjectRaster_management(in_raster = landscan_usa,\n",
    "                                   out_raster = landscan_projected,\n",
    "                                   out_coor_system = output_sr,\n",
    "                                   resampling_type = 'BILINEAR',\n",
    "                                   geographic_transform = datum_transform)\n",
    "    print(\"LANDSCAN reprojected successfully\")\n",
    "\n",
    "    # Resample the projected LANDSCAN raster to the target cell size\n",
    "    arcpy.Resample_management(landscan_projected, landscan_resampled, cell_size, \"BILINEAR\")\n",
    "    print(\"LANDSCAN resampled successfully\")\n",
    "    \n",
    "except arcpy.ExecuteError:\n",
    "    print(arcpy.GetMessages(2))\n",
    "except:\n",
    "    print(Exception)"
   ]
  },
  {
   "cell_type": "code",
   "execution_count": 25,
   "metadata": {},
   "outputs": [],
   "source": [
    "# Define the remap table\n",
    "landscan_remap = arcpy.sa.RemapRange([\n",
    "[0,0.81, 0],\n",
    "[0.81, 15500, 1] # remap values correspond to 100 people/sq km (via landscan documentation)\n",
    "])"
   ]
  },
  {
   "cell_type": "code",
   "execution_count": 27,
   "metadata": {},
   "outputs": [],
   "source": [
    "# Reclassify the LANDSCAN raster using the remap table\n",
    "landscan_reclassified = arcpy.sa.Reclassify(landscan_resampled, \"VALUE\", landscan_remap)\n",
    "\n",
    "# Save the reclassified raster to the output file path\n",
    "landscan_reclassified.save(landscan_threshold)"
   ]
  },
  {
   "cell_type": "code",
   "execution_count": null,
   "metadata": {},
   "outputs": [],
   "source": [
    "# Set path to binary raster \n",
    "landscan_binary = os.path.join(mainInputFolder, \"technicalExclusionRasters\\\\landscan_conus_2020_threshold_100_binary.tif\")\n",
    "landscan_binary"
   ]
  },
  {
   "cell_type": "code",
   "execution_count": null,
   "metadata": {},
   "outputs": [],
   "source": [
    "# convert to binary raster\n",
    "convert_to_one_bit(landscan_threshold, landscan_binary) #  This appears to not work here, bit depth reduced from 16 bit to 8 bit"
   ]
  },
  {
   "cell_type": "markdown",
   "metadata": {},
   "source": [
    "#### Get Flood Threshold Raster"
   ]
  },
  {
   "cell_type": "code",
   "execution_count": 11,
   "metadata": {},
   "outputs": [],
   "source": [
    "# Set path to flood hazard layer\n",
    "flood_hazard = os.path.join(mainInputFolder, \"floodHazard.gdb\\\\FEMA_flood_hazard_zones\")\n"
   ]
  },
  {
   "cell_type": "code",
   "execution_count": 12,
   "metadata": {},
   "outputs": [],
   "source": [
    "# Set path to projected flood hazard layer and raster layer\n",
    "flood_hazard_projected = os.path.join(mainInputFolder, \"floodHazard.gdb\\\\FEMA_flood_hazard_zones_projected\")\n",
    "flood_hazard_raster = os.path.join(mainInputFolder, \"technicalExclusionRasters\\\\FEMA_flood_hazard_zones.tif\")"
   ]
  },
  {
   "cell_type": "code",
   "execution_count": null,
   "metadata": {},
   "outputs": [],
   "source": [
    "# Get flood hazard projection\n",
    "flood_hazard_sr = arcpy.Describe(flood_hazard).spatialReference\n",
    "flood_hazard_sr"
   ]
  },
  {
   "cell_type": "code",
   "execution_count": 14,
   "metadata": {},
   "outputs": [],
   "source": [
    "# get datum transformation\n",
    "flood_hazard_datum_transformation = get_datum_transformation(flood_hazard_sr, output_sr)\n",
    "flood_hazard_datum_transformation"
   ]
  },
  {
   "cell_type": "code",
   "execution_count": null,
   "metadata": {},
   "outputs": [],
   "source": [
    "# Project the flood hazard layer\n",
    "try:\n",
    "    arcpy.Project_management(in_dataset = flood_hazard,\n",
    "                                   out_dataset = flood_hazard_projected,\n",
    "                                   out_coor_system = output_sr,\n",
    "                                   transform_method = flood_hazard_datum_transformation)\n",
    "    print(\"flood hazard reprojected successfully\")\n",
    " \n",
    "except arcpy.ExecuteError:\n",
    "    print(arcpy.GetMessages(2))\n",
    "except:\n",
    "    print(Exception)"
   ]
  },
  {
   "cell_type": "code",
   "execution_count": null,
   "metadata": {},
   "outputs": [],
   "source": [
    "# add occupancy field to the flood hazard layer and convert to raster\n",
    "add_occupancy_field(flood_hazard_projected)\n",
    "arcpy.conversion.FeatureToRaster(in_features = flood_hazard_projected,\n",
    "                                 field = \"occupancy\",\n",
    "                                 out_raster = flood_hazard_raster)"
   ]
  },
  {
   "cell_type": "markdown",
   "metadata": {},
   "source": [
    "#### Mosaic Technical Threshold Rasters"
   ]
  },
  {
   "cell_type": "code",
   "execution_count": 87,
   "metadata": {},
   "outputs": [],
   "source": [
    "# Create a list of rasters to mosaic\n",
    "wind_rasters = [flood_hazard_raster, landscan_binary, wind_slope_binary]\n",
    "solar_rasters = [flood_hazard_raster, landscan_binary, solar_slope_binary]"
   ]
  },
  {
   "cell_type": "code",
   "execution_count": 88,
   "metadata": {},
   "outputs": [],
   "source": [
    "# Set file path to save mosaic outputs\n",
    "mosaic_workspace = os.path.join(mainInputFolder, \"technicalExclusionRasters\\\\Mosaic\")\n",
    "mosaic_name_wind = \"technicalExclusionMosaic_Wind.tif\"\n",
    "mosaic_name_solar = \"technicalExclusionMosaic_Solar.tif\""
   ]
  },
  {
   "cell_type": "code",
   "execution_count": null,
   "metadata": {},
   "outputs": [],
   "source": [
    "# Perform the mosaic using MosaicToNewRaster_management function\n",
    "arcpy.MosaicToNewRaster_management(solar_rasters, mosaic_workspace, mosaic_name_solar, pixel_type=\"1_BIT\", number_of_bands=1)\n",
    "arcpy.MosaicToNewRaster_management(wind_rasters, mosaic_workspace, mosaic_name_wind, pixel_type=\"1_BIT\", number_of_bands=1)"
   ]
  }
 ],
 "metadata": {
  "kernelspec": {
   "display_name": "Python 3",
   "language": "python",
   "name": "python3"
  },
  "language_info": {
   "codemirror_mode": {
    "name": "ipython",
    "version": 3
   },
   "file_extension": ".py",
   "mimetype": "text/x-python",
   "name": "python",
   "nbconvert_exporter": "python",
   "pygments_lexer": "ipython3",
   "version": "3.7.10"
  },
  "orig_nbformat": 4
 },
 "nbformat": 4,
 "nbformat_minor": 2
}
