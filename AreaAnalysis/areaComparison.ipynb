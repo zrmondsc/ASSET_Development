{
 "cells": [
  {
   "cell_type": "markdown",
   "metadata": {},
   "source": [
    "### Area Comparison\n",
    "This notebook is the second notebook in the resourceAssessment workflow. In this notebook, we generate a grid cell by grid cell comparison of total developable area and percent developable area for a given resource type (wind, solar) and grid geoemtry (cesm2, era5). The inputs for are contained in **resourceAssessmentResults.gdb**. The outputs are saved to **resourceAssessmentResults.gdb**. \n",
    "\n",
    "**Note:** The user must run this notebook with the appropriate inputs each time they wish to generate an individual area comparison."
   ]
  },
  {
   "cell_type": "code",
   "execution_count": 156,
   "metadata": {},
   "outputs": [],
   "source": [
    "import arcpy\n",
    "import os\n",
    "from arcpy import env\n",
    "from arcpy.sa import *"
   ]
  },
  {
   "cell_type": "markdown",
   "metadata": {},
   "source": [
    "### Set up Join by Attribute"
   ]
  },
  {
   "cell_type": "code",
   "execution_count": 157,
   "metadata": {},
   "outputs": [],
   "source": [
    "# set input and output folder, create output file geodatabase\n",
    "\n",
    "mainInputFolder = \"C:\\\\Users\\\\Zachary\\\\ASSET\\\\resourceAssessment\\\\analysis\\\\data\" # enter path to input folder\n",
    "mainOutputFolder = \"C:\\\\Users\\\\Zachary\\\\ASSET\\\\resourceAssessment\\\\analysis\\\\data\\\\\" # enter path to output folder"
   ]
  },
  {
   "cell_type": "code",
   "execution_count": 158,
   "metadata": {},
   "outputs": [],
   "source": [
    "# set environment workspace to output workspace\n",
    "env.workspace = os.path.join(mainOutputFolder, \"resourceAssessmentResultsWECC.gdb\") \n",
    "\n",
    "# set name of output feature class\n",
    "output_fc = \"SL1_Wind_era5_areaAssessment_WECC\""
   ]
  },
  {
   "cell_type": "code",
   "execution_count": 159,
   "metadata": {},
   "outputs": [],
   "source": [
    "# set input paths:\n",
    "target_fc = \"CandidateProjectArea_Wind_SL1_WU_projected_clipped_dissolved_wecc_intersect_era5_base_grid_point_joined\"\n",
    "join_fc = \"InclusionArea_Wind_SL1_ZRM_filters_dissolved_wecc_intersect_era5_base_grid_point_joined\"\n",
    "copy_fc = \"CandidateProjectArea_Wind_SL1_WU_projected_clipped_dissolved_wecc_intersect_era5_base_grid_point_joined_copied\""
   ]
  },
  {
   "cell_type": "code",
   "execution_count": 160,
   "metadata": {},
   "outputs": [],
   "source": [
    "# Define the target and join field names\n",
    "target_field = \"OBJECTID\"\n",
    "join_field = \"OBJECTID\""
   ]
  },
  {
   "cell_type": "code",
   "execution_count": 161,
   "metadata": {},
   "outputs": [
    {
     "data": {
      "text/html": [
       "<div class='gpresult'><h2>Messages</h2><div id='messages' data-messages='[\"Start Time: Thursday, July 20, 2023 7:23:23 PM\",\"Succeeded at Thursday, July 20, 2023 7:23:24 PM (Elapsed Time: 0.81 seconds)\"]' data-show='true'><div id = 'default' /></div></div>"
      ],
      "text/plain": [
       "<Result 'C:\\\\Users\\\\Zachary\\\\ASSET\\\\resourceAssessment\\\\analysis\\\\data\\\\resourceAssessmentResultsWECC.gdb\\\\CandidateProjectArea_Wind_SL1_WU_projected_clipped_dissolved_wecc_intersect_era5_base_grid_point_joined_copied'>"
      ]
     },
     "execution_count": 161,
     "metadata": {},
     "output_type": "execute_result"
    }
   ],
   "source": [
    "# copy target_fc to copy_fc\n",
    "arcpy.management.CopyFeatures(target_fc, copy_fc)"
   ]
  },
  {
   "cell_type": "code",
   "execution_count": 162,
   "metadata": {},
   "outputs": [
    {
     "data": {
      "text/html": [
       "<div class='gpresult'><h2>Messages</h2><div id='messages' data-messages='[\"Start Time: Thursday, July 20, 2023 7:23:24 PM\",\"Succeeded at Thursday, July 20, 2023 7:23:26 PM (Elapsed Time: 2.16 seconds)\"]' data-show='true'><div id = 'default' /></div></div>"
      ],
      "text/plain": [
       "<Result 'C:\\\\Users\\\\Zachary\\\\ASSET\\\\resourceAssessment\\\\analysis\\\\data\\\\resourceAssessmentResultsWECC.gdb\\\\CandidateProjectArea_Wind_SL1_WU_projected_clipped_dissolved_wecc_intersect_era5_base_grid_point_joined_copied'>"
      ]
     },
     "execution_count": 162,
     "metadata": {},
     "output_type": "execute_result"
    }
   ],
   "source": [
    "# Perform the join using JoinField\n",
    "arcpy.management.JoinField(copy_fc, target_field, join_fc, join_field)\n"
   ]
  },
  {
   "cell_type": "code",
   "execution_count": 163,
   "metadata": {},
   "outputs": [
    {
     "data": {
      "text/html": [
       "<div class='gpresult'><h2>Messages</h2><div id='messages' data-messages='[\"Start Time: Thursday, July 20, 2023 7:23:26 PM\",\"Succeeded at Thursday, July 20, 2023 7:23:27 PM (Elapsed Time: 0.73 seconds)\"]' data-show='true'><div id = 'default' /></div></div>"
      ],
      "text/plain": [
       "<Result 'C:\\\\Users\\\\Zachary\\\\ASSET\\\\resourceAssessment\\\\analysis\\\\data\\\\resourceAssessmentResultsWECC.gdb\\\\SL1_Wind_era5_areaAssessment_WECC'>"
      ]
     },
     "execution_count": 163,
     "metadata": {},
     "output_type": "execute_result"
    }
   ],
   "source": [
    "# Copy the joined feature class to the output feature class\n",
    "arcpy.management.CopyFeatures(copy_fc, output_fc)"
   ]
  },
  {
   "cell_type": "code",
   "execution_count": 164,
   "metadata": {},
   "outputs": [
    {
     "data": {
      "text/html": [
       "<div class='gpresult'><h2>Messages</h2><div id='messages' data-messages='[\"Start Time: Thursday, July 20, 2023 7:23:27 PM\",\"Succeeded at Thursday, July 20, 2023 7:23:27 PM (Elapsed Time: 0.12 seconds)\"]' data-show='true'><div id = 'default' /></div></div>"
      ],
      "text/plain": [
       "<Result 'true'>"
      ]
     },
     "execution_count": 164,
     "metadata": {},
     "output_type": "execute_result"
    }
   ],
   "source": [
    "# Delete the copied target feature class\n",
    "arcpy.management.Delete(copy_fc)"
   ]
  },
  {
   "cell_type": "markdown",
   "metadata": {},
   "source": [
    "### Add Percent Difference attribute to compare the two models"
   ]
  },
  {
   "cell_type": "code",
   "execution_count": 165,
   "metadata": {},
   "outputs": [
    {
     "data": {
      "text/plain": [
       "['OBJECTID',\n",
       " 'Shape',\n",
       " 'Join_Count',\n",
       " 'TARGET_FID',\n",
       " 'FID_1',\n",
       " 'CPA_Area',\n",
       " 'ORIG_FID',\n",
       " 'CPA_pct',\n",
       " 'Join_Count_1',\n",
       " 'TARGET_FID_1',\n",
       " 'FID_12',\n",
       " 'IA_Area',\n",
       " 'ORIG_FID_1',\n",
       " 'IA_pct',\n",
       " 'Shape_Length_1',\n",
       " 'Shape_Area_1',\n",
       " 'Shape_Length',\n",
       " 'Shape_Area']"
      ]
     },
     "execution_count": 165,
     "metadata": {},
     "output_type": "execute_result"
    }
   ],
   "source": [
    "# View the attributes the new feature classes\n",
    "field_names = [field.name for field in arcpy.ListFields(output_fc)]\n",
    "field_names"
   ]
  },
  {
   "cell_type": "code",
   "execution_count": 166,
   "metadata": {},
   "outputs": [
    {
     "data": {
      "text/html": [
       "<div class='gpresult'><h2>Messages</h2><div id='messages' data-messages='[\"Start Time: Thursday, July 20, 2023 7:23:28 PM\",\"Succeeded at Thursday, July 20, 2023 7:23:29 PM (Elapsed Time: 1.62 seconds)\"]' data-show='true'><div id = 'default' /></div></div>"
      ],
      "text/plain": [
       "<Result 'C:\\\\Users\\\\Zachary\\\\ASSET\\\\resourceAssessment\\\\analysis\\\\data\\\\resourceAssessmentResultsWECC.gdb\\\\SL1_Wind_era5_areaAssessment_WECC'>"
      ]
     },
     "execution_count": 166,
     "metadata": {},
     "output_type": "execute_result"
    }
   ],
   "source": [
    "# Add a 'pct_dif' field to the joined\n",
    "arcpy.AddField_management(output_fc, \"pct_dif\", \"DOUBLE\")\n",
    "\n",
    "# Calculate the area for all polygons and populate the \"pct\" field\n",
    "num1 = 'IA_Area'\n",
    "num2 = 'CPA_Area'\n",
    "denom = 'Shape_Area'\n",
    "expression = \"None if (!{0}! is None or !{1}! is None or !{1}! == 0) else round((!{0}! - !{1}!) / !{2}!, 4)\".format(\n",
    "            num1, num2, denom)\n",
    "arcpy.CalculateField_management(output_fc, \"pct_dif\", expression, \"PYTHON\")"
   ]
  },
  {
   "cell_type": "markdown",
   "metadata": {},
   "source": [
    "### Clean up attribute table, delete unwanted attributes"
   ]
  },
  {
   "cell_type": "code",
   "execution_count": 167,
   "metadata": {},
   "outputs": [],
   "source": [
    "# define attributes we want to keep\n",
    "attributes_to_keep = [\"OBJECTID\",\"Shape\", \"CPA_Area\", \"area_pct\", \"IA_Area\", \"IA_pct\", \"pct_dif\", \"Shape_Length\",\"Shape_Area\"] # change area_pct to CPA_pct"
   ]
  },
  {
   "cell_type": "code",
   "execution_count": 168,
   "metadata": {},
   "outputs": [],
   "source": [
    "# Get a list of all field names in the output feature class\n",
    "all_fields = [field.name for field in arcpy.ListFields(output_fc)]"
   ]
  },
  {
   "cell_type": "code",
   "execution_count": 169,
   "metadata": {},
   "outputs": [],
   "source": [
    "# Determine the fields to delete (all except the specified attributes to keep)\n",
    "fields_to_delete = [field for field in all_fields if field not in attributes_to_keep]"
   ]
  },
  {
   "cell_type": "code",
   "execution_count": 170,
   "metadata": {},
   "outputs": [
    {
     "data": {
      "text/html": [
       "<div class='gpresult'><h2>Messages</h2><div id='messages' data-messages='[\"Start Time: Thursday, July 20, 2023 7:23:30 PM\",\"Succeeded at Thursday, July 20, 2023 7:23:34 PM (Elapsed Time: 4.07 seconds)\"]' data-show='true'><div id = 'default' /></div></div>"
      ],
      "text/plain": [
       "<Result 'C:\\\\Users\\\\Zachary\\\\ASSET\\\\resourceAssessment\\\\analysis\\\\data\\\\resourceAssessmentResultsWECC.gdb\\\\SL1_Wind_era5_areaAssessment_WECC'>"
      ]
     },
     "execution_count": 170,
     "metadata": {},
     "output_type": "execute_result"
    }
   ],
   "source": [
    "# Delete the unwanted fields\n",
    "arcpy.management.DeleteField(output_fc, fields_to_delete)"
   ]
  },
  {
   "cell_type": "code",
   "execution_count": 171,
   "metadata": {},
   "outputs": [
    {
     "data": {
      "text/plain": [
       "['OBJECTID',\n",
       " 'Shape',\n",
       " 'CPA_Area',\n",
       " 'IA_Area',\n",
       " 'IA_pct',\n",
       " 'Shape_Length',\n",
       " 'Shape_Area',\n",
       " 'pct_dif']"
      ]
     },
     "execution_count": 171,
     "metadata": {},
     "output_type": "execute_result"
    }
   ],
   "source": [
    "new_field_names = [field.name for field in arcpy.ListFields(output_fc)]\n",
    "new_field_names"
   ]
  },
  {
   "cell_type": "markdown",
   "metadata": {},
   "source": [
    "### Reproject to WGS 1984 and export feature class as shapefile"
   ]
  },
  {
   "cell_type": "code",
   "execution_count": 172,
   "metadata": {},
   "outputs": [
    {
     "data": {
      "text/plain": [
       "102039"
      ]
     },
     "execution_count": 172,
     "metadata": {},
     "output_type": "execute_result"
    }
   ],
   "source": [
    "# get epsg code for output_fc\n",
    "epsg = arcpy.Describe(output_fc).spatialReference.factoryCode\n",
    "epsg"
   ]
  },
  {
   "cell_type": "code",
   "execution_count": 173,
   "metadata": {},
   "outputs": [],
   "source": [
    "# Define the spatial reference of the desired output coordinate system\n",
    "input_coordinate_system = arcpy.SpatialReference(epsg)\n",
    "output_coordinate_system = arcpy.SpatialReference(4326)  # Example: WGS 84"
   ]
  },
  {
   "cell_type": "code",
   "execution_count": 174,
   "metadata": {},
   "outputs": [
    {
     "data": {
      "text/plain": [
       "'WGS_1984_(ITRF00)_To_NAD_1983'"
      ]
     },
     "execution_count": 174,
     "metadata": {},
     "output_type": "execute_result"
    }
   ],
   "source": [
    "# Get the list of available datum transformations\n",
    "transformations = arcpy.ListTransformations(input_coordinate_system, output_coordinate_system)\n",
    "\n",
    "# get best datum transformation\n",
    "datum_transform = transformations[0]\n",
    "datum_transform"
   ]
  },
  {
   "cell_type": "code",
   "execution_count": 175,
   "metadata": {},
   "outputs": [],
   "source": [
    "# Define the path for the new folder to save the shapefile\n",
    "output_folder = os.path.join(mainInputFolder, \"shapefiles\")\n",
    "\n",
    "# Create the output folder if it does not exist\n",
    "if not os.path.exists(output_folder):\n",
    "    os.makedirs(output_folder)"
   ]
  },
  {
   "cell_type": "code",
   "execution_count": 176,
   "metadata": {},
   "outputs": [],
   "source": [
    "# Define the path and name for the new reprojected shapefile\n",
    "reprojected_fc = os.path.join(output_folder, output_fc + \"_reproject.shp\")"
   ]
  },
  {
   "cell_type": "code",
   "execution_count": 177,
   "metadata": {},
   "outputs": [
    {
     "data": {
      "text/html": [
       "<div class='gpresult'><h2>Messages</h2><div id='messages' data-messages='[\"Start Time: Thursday, July 20, 2023 7:23:34 PM\",\"Succeeded at Thursday, July 20, 2023 7:23:37 PM (Elapsed Time: 2.29 seconds)\"]' data-show='true'><div id = 'default' /></div></div>"
      ],
      "text/plain": [
       "<Result 'C:\\\\Users\\\\Zachary\\\\ASSET\\\\resourceAssessment\\\\analysis\\\\data\\\\shapefiles\\\\SL1_Wind_era5_areaAssessment_WECC_reproject.shp'>"
      ]
     },
     "execution_count": 177,
     "metadata": {},
     "output_type": "execute_result"
    }
   ],
   "source": [
    "# Perform the reprojection and save as a shapefile\n",
    "arcpy.management.Project(output_fc, reprojected_fc, output_coordinate_system, datum_transform)"
   ]
  },
  {
   "cell_type": "markdown",
   "metadata": {},
   "source": [
    "In the next notebook, we will import our shapefiles into postGIS for processing, and export the data as .CSVs"
   ]
  }
 ],
 "metadata": {
  "kernelspec": {
   "display_name": "Python 3",
   "language": "python",
   "name": "python3"
  },
  "language_info": {
   "codemirror_mode": {
    "name": "ipython",
    "version": 3
   },
   "file_extension": ".py",
   "mimetype": "text/x-python",
   "name": "python",
   "nbconvert_exporter": "python",
   "pygments_lexer": "ipython3",
   "version": "3.7.10"
  },
  "orig_nbformat": 4
 },
 "nbformat": 4,
 "nbformat_minor": 2
}
