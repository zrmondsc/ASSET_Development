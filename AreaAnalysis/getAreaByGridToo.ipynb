{
 "cells": [
  {
   "cell_type": "markdown",
   "metadata": {},
   "source": [
    "### Get Developable Area by Grid\n",
    "This notebook is the first notebook in the AreaAnalysis workflow. \n",
    "\n",
    "Inputs are stored in two file geodatabases:\n",
    "\n",
    "1.  **resourceAssessment.gdb**, contains 4 polygon feature classes representing suitable areas for industrial wind and solar development in the CONUS according to two different models (WU, ZRM) \n",
    "2. **grids.gdb** contains fishnet polygons derived from the geometries of two different atmospheric analysis datasets (cesm2, era5). \n",
    "\n",
    "For each developable area dataset, for each grid geometry, we calculate the total developable area per grid cell, and the percent developable area per grid cell. Results are saved to **resourceAssessementResults.gdb**. "
   ]
  },
  {
   "cell_type": "code",
   "execution_count": 2,
   "metadata": {},
   "outputs": [],
   "source": [
    "import arcpy\n",
    "import os\n",
    "from arcpy import env\n",
    "from arcpy.sa import *"
   ]
  },
  {
   "cell_type": "markdown",
   "metadata": {},
   "source": [
    "#### Define useful functions"
   ]
  },
  {
   "cell_type": "code",
   "execution_count": 3,
   "metadata": {},
   "outputs": [],
   "source": [
    "def dissolve_and_intersect(input_fc, grid_fc, output_fc):\n",
    "    \"\"\"\n",
    "    Dissolves the input feature class and intersects it with a grid feature class.\n",
    "    \"\"\"\n",
    "    # Dissolve the input feature class\n",
    "    dissolved_fc = arcpy.management.Dissolve(input_fc, arcpy.Geometry())\n",
    "\n",
    "    # Intersect the dissolved feature class with the grid feature class\n",
    "    intersect_fc = arcpy.analysis.Intersect([dissolved_fc, grid_fc], arcpy.Geometry(), \"ALL\", None, \"INPUT\")\n",
    "\n",
    "    # Copy the intersected feature class to the output location\n",
    "    arcpy.management.CopyFeatures(intersect_fc, output_fc)\n",
    "\n",
    "    print(f\"Intersect completed for {input_fc} and {grid_fc}\")"
   ]
  },
  {
   "cell_type": "code",
   "execution_count": 4,
   "metadata": {},
   "outputs": [],
   "source": [
    "def calculate_shape_field(input_fc):\n",
    "    \"\"\"\n",
    "    Calculates a new field representing the area of features in the input feature class.\n",
    "    \"\"\"\n",
    "    # Create new field with double data type\n",
    "    arcpy.management.AddField(input_fc, \"CPA_Area\", \"DOUBLE\")\n",
    "    \n",
    "    # Write expression for the calculation\n",
    "    expression = \"float(!SHAPE.AREA!)\"\n",
    "    # Calculate the shape field using the SHAPE@AREA token\n",
    "    arcpy.management.CalculateField(input_fc, \"CPA_Area\", expression, \"PYTHON\")\n",
    "\n",
    "    print(f\"Shape field calculated for {input_fc}!\")"
   ]
  },
  {
   "cell_type": "code",
   "execution_count": 5,
   "metadata": {},
   "outputs": [],
   "source": [
    "def convert_to_point_feature_class(input_fc, output_fc):\n",
    "    \"\"\"\n",
    "    Coverts the input feature class into a point feature class.\n",
    "\n",
    "    This function generates a point INSIDE of each input feature to ensure that each point \n",
    "    falls inside the same grid cell as it's parent polygon feature. \n",
    "    \"\"\"\n",
    "\n",
    "    # Convert the input feature class to a point feature class\n",
    "    arcpy.management.FeatureToPoint(input_fc, output_fc, \"INSIDE\")\n",
    "\n",
    "    print(f\"Converted to point feature class: {output_fc}\")"
   ]
  },
  {
   "cell_type": "code",
   "execution_count": 6,
   "metadata": {},
   "outputs": [],
   "source": [
    "def perform_join(point_fc, grid_fc, output_fc):\n",
    "    \"\"\"\n",
    "    Performs spatial join between point feature class and grid feature class. All attributes\n",
    "    from both input feature classes are preserved in the output feature class. \n",
    "    \"\"\"\n",
    "    # Join the point feature class with the grid feature class\n",
    "    arcpy.analysis.SpatialJoin(grid_fc, point_fc, output_fc, \"JOIN_ONE_TO_ONE\", \"KEEP_ALL\")\n",
    "\n",
    "    print(f\"Join completed for {point_fc} and {grid_fc}\")"
   ]
  },
  {
   "cell_type": "code",
   "execution_count": 7,
   "metadata": {},
   "outputs": [],
   "source": [
    "def calculate_area_pct(joined_fc):\n",
    "    \"\"\"\n",
    "    Calculates the area percent of one field relative to another. Store the \n",
    "    result in a new field called \"CPA_pct\"\n",
    "    \"\"\"\n",
    "    # Add a new field to store the area percentage\n",
    "    arcpy.management.AddField(joined_fc, \"CPA_pct\", \"DOUBLE\")\n",
    "\n",
    "    # Calculate the area percentage\n",
    "    expression = \"None if (!{0}! is None or !{1}! is None or !{1}! == 0) else round(!{0}! / !{1}!, 2)\".format(\"CPA_Area\", \"Shape_Area\")\n",
    "    arcpy.management.CalculateField(joined_fc, \"CPA_pct\", expression, \"PYTHON\")\n",
    "\n",
    "    print(f\"Area percentage calculated for {joined_fc}!\")"
   ]
  },
  {
   "cell_type": "code",
   "execution_count": 8,
   "metadata": {},
   "outputs": [],
   "source": [
    "def get_feature_classes(workspace):\n",
    "    \"\"\"\n",
    "    Grabs all feature classes from a folder or geodatabase\n",
    "    \"\"\"\n",
    "    # Get the current workspace\n",
    "    previous_workspace = arcpy.env.workspace\n",
    "\n",
    "    try:\n",
    "        # Set the new workspace\n",
    "        arcpy.env.workspace = workspace\n",
    "\n",
    "        # Get a list of all feature classes in the workspace\n",
    "        feature_classes = arcpy.ListFeatureClasses()\n",
    "        feature_classes = [os.path.join(arcpy.env.workspace, r) for r in feature_classes]\n",
    "\n",
    "        # Return the list of feature classes\n",
    "        return feature_classes\n",
    "\n",
    "    finally:\n",
    "        # Reset the workspace to the previous workspace\n",
    "        arcpy.env.workspace = previous_workspace"
   ]
  },
  {
   "cell_type": "code",
   "execution_count": 9,
   "metadata": {},
   "outputs": [],
   "source": [
    "def repair_geometry(input_fc, output_fc=None):\n",
    "    \"\"\"\n",
    "    Repairs the geometry of a feature class. This function first checks if the \n",
    "    feature class exists. Then it overwrites the input feature class with the \n",
    "    repaired geometry.\n",
    "    \"\"\"\n",
    "    \n",
    "    # Check if the input feature class exists\n",
    "    if not arcpy.Exists(input_fc):\n",
    "        raise ValueError(\"The input feature class does not exist.\")\n",
    "\n",
    "    # Set the output feature class path if not provided\n",
    "    if output_fc is None:\n",
    "        output_fc = input_fc\n",
    "\n",
    "    # Ensure overwrite output is enabled\n",
    "    arcpy.env.overwriteOutput = True\n",
    "\n",
    "    try:\n",
    "        # Repair the geometry using arcpy.RepairGeometry_management\n",
    "        arcpy.RepairGeometry_management(input_fc)\n",
    "        arcpy.AddMessage(\"Geometry repaired successfully.\")\n",
    "\n",
    "    except arcpy.ExecuteError:\n",
    "        # If there's an error, print the error message\n",
    "        error_message = arcpy.GetMessages(2)\n",
    "        arcpy.AddError(error_message)\n",
    "        raise Exception(\"Geometry repair failed.\")\n",
    "\n",
    "    return output_fc"
   ]
  },
  {
   "cell_type": "markdown",
   "metadata": {},
   "source": [
    "#### Set Input and Output Paths"
   ]
  },
  {
   "cell_type": "code",
   "execution_count": 10,
   "metadata": {},
   "outputs": [],
   "source": [
    "# Set the workspace for the geodatabase containing the input feature classes\n",
    "arcpy.env.workspace = r\"C:\\\\Users\\Zachary\\ASSET\\\\resourceAssessment\\\\analysis\\data\\\\resourceAssessmentByHand.gdb\""
   ]
  },
  {
   "cell_type": "code",
   "execution_count": 11,
   "metadata": {},
   "outputs": [],
   "source": [
    "# Set the workspace for the geodatabase containing the grid feature classes\n",
    "grid_workspace = r\"C:\\\\Users\\Zachary\\ASSET\\\\resourceAssessment\\\\analysis\\data\\\\grids.gdb\""
   ]
  },
  {
   "cell_type": "code",
   "execution_count": 12,
   "metadata": {},
   "outputs": [],
   "source": [
    "# Set the output workspace for the resulting feature classes\n",
    "output_workspace = r\"C:\\\\Users\\\\Zachary\\\\ASSET\\\\resourceAssessment\\\\analysis\\\\data\\\\scratch.gdb\""
   ]
  },
  {
   "cell_type": "code",
   "execution_count": 13,
   "metadata": {},
   "outputs": [],
   "source": [
    "# set the workspace for the final output\n",
    "final_workspace = r\"C:\\\\Users\\Zachary\\ASSET\\\\resourceAssessment\\\\analysis\\\\data\\\\resourceAssessmentResults.gdb\""
   ]
  },
  {
   "cell_type": "code",
   "execution_count": null,
   "metadata": {},
   "outputs": [],
   "source": [
    "# Get a list of feature classes in the input geodatabase\n",
    "input_feature_classes = arcpy.ListFeatureClasses()\n",
    "input_feature_classes = [os.path.join(arcpy.env.workspace,r) for r in input_feature_classes]\n",
    "input_feature_classes"
   ]
  },
  {
   "cell_type": "markdown",
   "metadata": {},
   "source": [
    "#### Get Total Inclusion Area/Candidate Project Area by Grid Cell"
   ]
  },
  {
   "cell_type": "code",
   "execution_count": null,
   "metadata": {},
   "outputs": [],
   "source": [
    " # Get a list of feature classes in the grid geodatabase\n",
    "grid_feature_classes = get_feature_classes(grid_workspace)\n",
    "grid_feature_classes"
   ]
  },
  {
   "cell_type": "code",
   "execution_count": null,
   "metadata": {},
   "outputs": [],
   "source": [
    "blah = os.path.splitext(os.path.basename(grid_feature_classes[0]))[0]\n",
    "blah"
   ]
  },
  {
   "cell_type": "code",
   "execution_count": null,
   "metadata": {},
   "outputs": [],
   "source": [
    "# Iterate over the input feature classes\n",
    "for input_fc in input_feature_classes:\n",
    "    \n",
    "    # Get the base name of the input feature class\n",
    "    input_name = os.path.splitext(os.path.basename(input_fc))[0]\n",
    "\n",
    "    # repair geometries\n",
    "    repair_geometry(input_fc)\n",
    "\n",
    "    # Iterate over the grid feature classes\n",
    "    for grid_fc in grid_feature_classes:\n",
    "\n",
    "        # Get the base name of the grid feature class\n",
    "        grid_name = os.path.splitext(os.path.basename(grid_fc))[0]\n",
    "        \n",
    "        # Construct the full path to the output feature class in the output workspace\n",
    "        output_fc = os.path.join(output_workspace, f\"{input_name}_intersect_{grid_name}\")\n",
    "\n",
    "        # Apply dissolve and intersect function\n",
    "        dissolve_and_intersect(input_fc, grid_fc, output_fc)\n",
    "\n",
    "        # Apply calculate shape field function\n",
    "        calculate_shape_field(output_fc)\n",
    "\n",
    "        # Convert the output feature class to a point feature class\n",
    "        point_name = os.path.splitext(output_fc)[0] + '_point'\n",
    "        point_fc = os.path.join(output_workspace, point_name)\n",
    "        convert_to_point_feature_class(output_fc, point_fc)\n",
    "\n",
    "        # Perform the join between the point feature class and the grid feature class\n",
    "        joined_name = os.path.splitext(point_fc)[0] + '_joined'\n",
    "        joined_fc = os.path.join(final_workspace, joined_name)\n",
    "        perform_join(point_fc, grid_fc, joined_fc)\n",
    "\n",
    "        # Calculate the area percentage in the joined feature class\n",
    "        calculate_area_pct(joined_fc)"
   ]
  },
  {
   "cell_type": "markdown",
   "metadata": {},
   "source": [
    "### Rename Area and Pct Fields"
   ]
  },
  {
   "cell_type": "code",
   "execution_count": null,
   "metadata": {},
   "outputs": [],
   "source": [
    "arcpy.env.workspace = output_workspace\n",
    "\n",
    "# Specify the keyword to filter the feature classes\n",
    "wildCard = \"*joined*\"\n",
    "\n",
    "# Specify the field name to be renamed\n",
    "field_to_rename_1 = \"CPA_Area\"\n",
    "field_to_rename_2 = \"area_pct\"\n",
    "\n",
    "# Specify the new name for the field\n",
    "new_field_name_1 = \"IA_Area\"\n",
    "new_field_name_2 = \"IA_pct\""
   ]
  },
  {
   "cell_type": "code",
   "execution_count": null,
   "metadata": {},
   "outputs": [],
   "source": [
    "# Get a list of all feature classes in workspace that contain wildcard\n",
    "feature_classes = arcpy.ListFeatureClasses(wild_card=wildCard)\n",
    "feature_classes"
   ]
  },
  {
   "cell_type": "code",
   "execution_count": null,
   "metadata": {},
   "outputs": [],
   "source": [
    "# Specify the second keyword\n",
    "keyword = \"Inclusion\""
   ]
  },
  {
   "cell_type": "code",
   "execution_count": null,
   "metadata": {},
   "outputs": [],
   "source": [
    "# Iterate through the feature classes\n",
    "for feature_class in feature_classes:\n",
    "\n",
    "    # Extract the feature class name\n",
    "    fc_name = arcpy.Describe(feature_class).name\n",
    "\n",
    "    # Check if keyword is present in the feature class name\n",
    "    if keyword in fc_name:\n",
    "        # Get the full path of the feature class\n",
    "        feature_class_path = arcpy.env.workspace + \"/\" + feature_class\n",
    "        \n",
    "        # Get the list of field names in the feature class\n",
    "        field_names = [field.name for field in arcpy.ListFields(feature_class_path)]\n",
    "\n",
    "        print(field_names)\n",
    "       # Check if the field exists in the feature class\n",
    "        if field_to_rename_1 in field_names:\n",
    "            # Rename the field\n",
    "            arcpy.AlterField_management(feature_class_path, field_to_rename_1, new_field_name_1, new_field_name_1)\n",
    "        else:\n",
    "            print(f\"Field '{field_to_rename_1}' does not exist in {feature_class}.\")\n",
    "\n",
    "        # Check if the field exists in the feature class #2\n",
    "        if field_to_rename_2 in field_names:\n",
    "            # Rename the field #2\n",
    "            arcpy.AlterField_management(feature_class_path, field_to_rename_2, new_field_name_2, new_field_name_2)\n",
    "        else:\n",
    "            print(f\"Field '{field_to_rename_2}' does not exist in {feature_class}.\")"
   ]
  }
 ],
 "metadata": {
  "kernelspec": {
   "display_name": "Python 3",
   "language": "python",
   "name": "python3"
  },
  "language_info": {
   "codemirror_mode": {
    "name": "ipython",
    "version": 3
   },
   "file_extension": ".py",
   "mimetype": "text/x-python",
   "name": "python",
   "nbconvert_exporter": "python",
   "pygments_lexer": "ipython3",
   "version": "3.7.10"
  },
  "orig_nbformat": 4
 },
 "nbformat": 4,
 "nbformat_minor": 2
}
