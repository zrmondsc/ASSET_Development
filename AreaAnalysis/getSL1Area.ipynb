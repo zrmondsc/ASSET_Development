{
 "cells": [
  {
   "cell_type": "code",
   "execution_count": 1,
   "metadata": {},
   "outputs": [],
   "source": [
    "import arcpy\n",
    "import os\n",
    "from arcpy import env\n",
    "from arcpy.sa import *"
   ]
  },
  {
   "attachments": {},
   "cell_type": "markdown",
   "metadata": {},
   "source": [
    "### Set workspace for saving outputs"
   ]
  },
  {
   "cell_type": "code",
   "execution_count": 2,
   "metadata": {},
   "outputs": [],
   "source": [
    "# set input and output folder, create output file geodatabase\n",
    "mainInputFolder = \"C:\\\\Users\\\\Zachary\\\\ASSET\\\\resourceAssessment\\\\analysis\\\\data\" # enter path to input folder\n",
    "mainOutputFolder = \"C:\\\\Users\\\\Zachary\\\\ASSET\\\\resourceAssessment\\\\analysis\\\\data\\\\\" # enter path to output folder\n",
    "\n",
    "\n",
    "gdbFileName = \"resourceAssessmentResults.gdb\" # enter name of output geodatabase\n",
    "scratch_gdb = os.path.join(mainOutputFolder, \"scratch.gdb\")"
   ]
  },
  {
   "cell_type": "code",
   "execution_count": 3,
   "metadata": {},
   "outputs": [],
   "source": [
    "# set scratchworkspace to output workspace\n",
    "if not arcpy.Exists(scratch_gdb):\n",
    "    arcpy.CreateFileGDB_management(mainOutputFolder, \"scratch.gdb\")\n",
    "    print(\"Scratch geodatabase created successfully.\")\n",
    "\n",
    "env.scratchWorkspace = scratch_gdb # creates scratch geodatabase in output folder"
   ]
  },
  {
   "cell_type": "code",
   "execution_count": 4,
   "metadata": {},
   "outputs": [],
   "source": [
    "# set environment workspace to output workspace\n",
    "env.workspace = os.path.join(mainOutputFolder, gdbFileName) "
   ]
  },
  {
   "cell_type": "code",
   "execution_count": 95,
   "metadata": {},
   "outputs": [],
   "source": [
    "# set input paths:\n",
    "grid = os.path.join(mainInputFolder, \"grids.gdb\\\\cesm2_base_grid\") # enter path to grid shapefile\n",
    "cpa = os.path.join(mainInputFolder, \"resourceAssessment.gdb\\\\Candidate_ProjectArea_Solar_SL1_FullWest_Wu\" ) # enter path to inclusion area/cpa shapefile\n"
   ]
  },
  {
   "cell_type": "code",
   "execution_count": 96,
   "metadata": {},
   "outputs": [],
   "source": [
    "# set intermediate output paths to scratch geodatabase\n",
    "output_dissolved = os.path.join(env.scratchWorkspace, \"SL1_SolarCandidateProjectAreas_cesm2_dissolved\")  # enter path to dissolved layer\n",
    "output_intersected = os.path.join(env.scratchWorkspace, \"SL1_SolarCandidateProjectAreas_cesm2_intersected\")  # enter path to intersected layer\n",
    "output_centroid = os.path.join(env.scratchWorkspace, \"SL1_SolarCandidateProjectAreas_cesm2_centroid\") # enter path to centroid layer\n",
    "output_join = os.path.join(env.workspace, \"SL1_SolarCandidateProjectAreas_cesm2_areaAssessment\")  # Replace with the desired name for the joined layer"
   ]
  },
  {
   "attachments": {},
   "cell_type": "markdown",
   "metadata": {},
   "source": [
    "### Dissolve, Intersect\n",
    "Dissolve the Candidate Project Area/Inclusion Area. Intersect the dissolved layer with the grid layer (cesm2 or era5) to create polygons for each grid cell."
   ]
  },
  {
   "cell_type": "code",
   "execution_count": 97,
   "metadata": {},
   "outputs": [
    {
     "name": "stdout",
     "output_type": "stream",
     "text": [
      "Geometry repaired successfully.\n"
     ]
    }
   ],
   "source": [
    "# Repair geometry of the input layer\n",
    "try:\n",
    "    # Enable overwrite output\n",
    "    arcpy.env.overwriteOutput = True\n",
    "    \n",
    "    # Check if input feature class exists\n",
    "    if arcpy.Exists(cpa):\n",
    "        # Repair the geometry of the feature class\n",
    "        arcpy.RepairGeometry_management(cpa)\n",
    "        \n",
    "        print(\"Geometry repaired successfully.\")\n",
    "    else:\n",
    "        print(\"Input feature class does not exist.\")\n",
    "        \n",
    "except arcpy.ExecuteError:\n",
    "    print(arcpy.GetMessages())"
   ]
  },
  {
   "cell_type": "code",
   "execution_count": null,
   "metadata": {},
   "outputs": [],
   "source": [
    "# Dissolve the first polygon layer\n",
    "arcpy.Dissolve_management(cpa, output_dissolved) # get a coffee while this runs"
   ]
  },
  {
   "cell_type": "code",
   "execution_count": null,
   "metadata": {},
   "outputs": [],
   "source": [
    "# Intersect the dissolved layer with the second polygon layer\n",
    "arcpy.Intersect_analysis([output_dissolved, grid], output_intersected) # get a cookie while this runs"
   ]
  },
  {
   "attachments": {},
   "cell_type": "markdown",
   "metadata": {},
   "source": [
    "### Add Area field and calculate area\n",
    "Add an attribute called 'SIArea' to the intersected layer attribute table. Calculate the area for each polygon."
   ]
  },
  {
   "cell_type": "code",
   "execution_count": null,
   "metadata": {},
   "outputs": [],
   "source": [
    "# Add an \"Area\" field to the output_intersected layer\n",
    "arcpy.AddField_management(output_intersected, \"CPA_Area\", \"DOUBLE\")\n",
    "\n",
    "# Calculate the area for all polygons and populate the \"Area\" field\n",
    "expression = \"!SHAPE.AREA!\"\n",
    "arcpy.CalculateField_management(output_intersected, \"CPA_Area\", expression, \"PYTHON\")"
   ]
  },
  {
   "attachments": {},
   "cell_type": "markdown",
   "metadata": {},
   "source": [
    "### Feature to Point \n",
    "Convert the intersected layer to a point layer for subsequent 'join attributes by location' with grid layer. "
   ]
  },
  {
   "cell_type": "code",
   "execution_count": null,
   "metadata": {},
   "outputs": [],
   "source": [
    "# Create a point layer within the original features\n",
    "arcpy.FeatureToPoint_management(output_intersected, output_centroid, \"INSIDE\")"
   ]
  },
  {
   "attachments": {},
   "cell_type": "markdown",
   "metadata": {},
   "source": [
    "### Join attributes by location\n",
    "Joins the centroid layer containing area calculations to the original grid dataset. "
   ]
  },
  {
   "cell_type": "code",
   "execution_count": null,
   "metadata": {},
   "outputs": [],
   "source": [
    "# Perform a spatial join to transfer attributes from input_layer2 to the output_points layer\n",
    "arcpy.SpatialJoin_analysis(grid, output_centroid, output_join)"
   ]
  },
  {
   "cell_type": "code",
   "execution_count": null,
   "metadata": {},
   "outputs": [],
   "source": [
    "# Add a 'pct' field to the output_join layer\n",
    "arcpy.AddField_management(os.path.join(env.workspace, \"SL1_Wind_era5_areaAssessment\"), \"IA_pct\", \"DOUBLE\")\n",
    "\n",
    "# Calculate the area for all polygons and populate the \"pct\" field\n",
    "num = 'IA_Area'\n",
    "denom = 'Shape_Area'\n",
    "expression = \"None if (!{0}! is None or !{1}! is None or !{1}! == 0) else round(!{0}! / !{1}!, 2)\".format(\n",
    "            num, denom)\n",
    "arcpy.CalculateField_management(os.path.join(env.workspace, \"SL1_Wind_era5_areaAssessment\"), \"IA_pct\", expression, \"PYTHON\")"
   ]
  },
  {
   "attachments": {},
   "cell_type": "markdown",
   "metadata": {},
   "source": [
    "### View and modify field names and export to output file geodatabase"
   ]
  },
  {
   "cell_type": "code",
   "execution_count": null,
   "metadata": {},
   "outputs": [],
   "source": [
    "# Print the field names of the output_join feature class\n",
    "field_names = [field.name for field in arcpy.ListFields(output_join)]\n",
    "print(\"Field names:\", field_names)"
   ]
  },
  {
   "cell_type": "code",
   "execution_count": null,
   "metadata": {},
   "outputs": [],
   "source": [
    "# # Delete a specific attribute field from the output_join feature class\n",
    "# fields_to_delete = ['Join_Count', 'TARGET_FID', 'FID_1', 'FID_SL1_SolarCandidateProjectAreas_cesm2_dissolved', 'FID_cesm2_base_grid', 'FID_12']  # Replace with the name of the field to delete\n",
    "# if arcpy.Exists(output_join):\n",
    "#     arcpy.DeleteField_management(output_join, fields_to_delete)\n",
    "#     print(f\"The field '{fields_to_delete}' has been deleted.\")"
   ]
  },
  {
   "cell_type": "markdown",
   "metadata": {},
   "source": [
    "### Join "
   ]
  },
  {
   "cell_type": "code",
   "execution_count": 26,
   "metadata": {},
   "outputs": [],
   "source": [
    "output_synthesis = os.path.join(env.workspace, \"SL1_Wind_cesm2_areaAssessment\")"
   ]
  },
  {
   "cell_type": "code",
   "execution_count": null,
   "metadata": {},
   "outputs": [],
   "source": [
    "# Add a 'dif' field to the synthesis layer\n",
    "arcpy.AddField_management(output_synthesis, \"pct_dif\", \"DOUBLE\")\n",
    "\n",
    "# Calculate the area for all polygons and populate the \"dif\" field\n",
    "zrm = 'IA_Area'\n",
    "wu = 'CPA_Area'\n",
    "denom = 'Shape_Area'\n",
    "expression = \"None if (!{0}! is None or !{1}! is None or !{1}! == 0) else round((!{0}! - !{1}!) / !{2}!, 4)\".format(\n",
    "            zrm, wu, denom)\n",
    "arcpy.CalculateField_management(output_synthesis, \"pct_dif\", expression, \"PYTHON\")"
   ]
  }
 ],
 "metadata": {
  "kernelspec": {
   "display_name": "Python 3",
   "language": "python",
   "name": "python3"
  },
  "language_info": {
   "codemirror_mode": {
    "name": "ipython",
    "version": 3
   },
   "file_extension": ".py",
   "mimetype": "text/x-python",
   "name": "python",
   "nbconvert_exporter": "python",
   "pygments_lexer": "ipython3",
   "version": "3.7.10"
  },
  "orig_nbformat": 4
 },
 "nbformat": 4,
 "nbformat_minor": 2
}
